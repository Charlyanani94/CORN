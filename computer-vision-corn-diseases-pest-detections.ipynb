{
 "cells": [
  {
   "cell_type": "code",
   "execution_count": 1,
   "id": "c0adad06",
   "metadata": {
    "execution": {
     "iopub.execute_input": "2025-05-25T00:50:25.114744Z",
     "iopub.status.busy": "2025-05-25T00:50:25.113850Z",
     "iopub.status.idle": "2025-05-25T00:50:25.121671Z",
     "shell.execute_reply": "2025-05-25T00:50:25.120730Z"
    },
    "papermill": {
     "duration": 0.027632,
     "end_time": "2025-05-25T00:50:25.122949",
     "exception": false,
     "start_time": "2025-05-25T00:50:25.095317",
     "status": "completed"
    },
    "tags": []
   },
   "outputs": [
    {
     "name": "stdout",
     "output_type": "stream",
     "text": [
      "3.11.11 (main, Dec  4 2024, 08:55:07) [GCC 11.4.0]\n"
     ]
    }
   ],
   "source": [
    "import sys\n",
    "print(sys.version)"
   ]
  },
  {
   "cell_type": "code",
   "execution_count": 2,
   "id": "fa5c2e1d",
   "metadata": {
    "execution": {
     "iopub.execute_input": "2025-05-25T00:50:25.155948Z",
     "iopub.status.busy": "2025-05-25T00:50:25.155697Z",
     "iopub.status.idle": "2025-05-25T00:50:25.382878Z",
     "shell.execute_reply": "2025-05-25T00:50:25.381875Z"
    },
    "id": "_HHvLO-cc0H6",
    "outputId": "097afdca-42df-45cd-b256-cf3940be6627",
    "papermill": {
     "duration": 0.245232,
     "end_time": "2025-05-25T00:50:25.384581",
     "exception": false,
     "start_time": "2025-05-25T00:50:25.139349",
     "status": "completed"
    },
    "tags": []
   },
   "outputs": [
    {
     "name": "stdout",
     "output_type": "stream",
     "text": [
      "Sun May 25 00:50:25 2025       \r\n",
      "+-----------------------------------------------------------------------------------------+\r\n",
      "| NVIDIA-SMI 560.35.03              Driver Version: 560.35.03      CUDA Version: 12.6     |\r\n",
      "|-----------------------------------------+------------------------+----------------------+\r\n",
      "| GPU  Name                 Persistence-M | Bus-Id          Disp.A | Volatile Uncorr. ECC |\r\n",
      "| Fan  Temp   Perf          Pwr:Usage/Cap |           Memory-Usage | GPU-Util  Compute M. |\r\n",
      "|                                         |                        |               MIG M. |\r\n",
      "|=========================================+========================+======================|\r\n",
      "|   0  Tesla T4                       Off |   00000000:00:04.0 Off |                    0 |\r\n",
      "| N/A   46C    P8              9W /   70W |       1MiB /  15360MiB |      0%      Default |\r\n",
      "|                                         |                        |                  N/A |\r\n",
      "+-----------------------------------------+------------------------+----------------------+\r\n",
      "|   1  Tesla T4                       Off |   00000000:00:05.0 Off |                    0 |\r\n",
      "| N/A   47C    P8             10W /   70W |       1MiB /  15360MiB |      0%      Default |\r\n",
      "|                                         |                        |                  N/A |\r\n",
      "+-----------------------------------------+------------------------+----------------------+\r\n",
      "                                                                                         \r\n",
      "+-----------------------------------------------------------------------------------------+\r\n",
      "| Processes:                                                                              |\r\n",
      "|  GPU   GI   CI        PID   Type   Process name                              GPU Memory |\r\n",
      "|        ID   ID                                                               Usage      |\r\n",
      "|=========================================================================================|\r\n",
      "|  No running processes found                                                             |\r\n",
      "+-----------------------------------------------------------------------------------------+\r\n"
     ]
    }
   ],
   "source": [
    "#  GPU type   ## CUDA (Compute Unified Device Architecture)\n",
    "!nvidia-smi"
   ]
  },
  {
   "cell_type": "code",
   "execution_count": 3,
   "id": "f2d787b0",
   "metadata": {
    "execution": {
     "iopub.execute_input": "2025-05-25T00:50:25.421976Z",
     "iopub.status.busy": "2025-05-25T00:50:25.421091Z",
     "iopub.status.idle": "2025-05-25T00:50:38.700641Z",
     "shell.execute_reply": "2025-05-25T00:50:38.699804Z"
    },
    "papermill": {
     "duration": 13.299952,
     "end_time": "2025-05-25T00:50:38.702530",
     "exception": false,
     "start_time": "2025-05-25T00:50:25.402578",
     "status": "completed"
    },
    "tags": []
   },
   "outputs": [
    {
     "name": "stdout",
     "output_type": "stream",
     "text": [
      "Collecting toolz==0.12.1\r\n",
      "  Downloading toolz-0.12.1-py3-none-any.whl.metadata (5.1 kB)\r\n",
      "Downloading toolz-0.12.1-py3-none-any.whl (56 kB)\r\n",
      "\u001b[2K   \u001b[90m━━━━━━━━━━━━━━━━━━━━━━━━━━━━━━━━━━━━━━━━\u001b[0m \u001b[32m56.1/56.1 kB\u001b[0m \u001b[31m1.9 MB/s\u001b[0m eta \u001b[36m0:00:00\u001b[0m\r\n",
      "\u001b[?25hInstalling collected packages: toolz\r\n",
      "  Attempting uninstall: toolz\r\n",
      "    Found existing installation: toolz 1.0.0\r\n",
      "    Uninstalling toolz-1.0.0:\r\n",
      "      Successfully uninstalled toolz-1.0.0\r\n",
      "\u001b[31mERROR: pip's dependency resolver does not currently take into account all the packages that are installed. This behaviour is the source of the following dependency conflicts.\r\n",
      "bigframes 1.36.0 requires rich<14,>=12.4.4, but you have rich 14.0.0 which is incompatible.\r\n",
      "ibis-framework 9.2.0 requires rich<14,>=12.4.4, but you have rich 14.0.0 which is incompatible.\u001b[0m\u001b[31m\r\n",
      "\u001b[0mSuccessfully installed toolz-0.12.1\r\n",
      "Collecting rich==13.7.1\r\n",
      "  Downloading rich-13.7.1-py3-none-any.whl.metadata (18 kB)\r\n",
      "Requirement already satisfied: markdown-it-py>=2.2.0 in /usr/local/lib/python3.11/dist-packages (from rich==13.7.1) (3.0.0)\r\n",
      "Requirement already satisfied: pygments<3.0.0,>=2.13.0 in /usr/local/lib/python3.11/dist-packages (from rich==13.7.1) (2.19.1)\r\n",
      "Requirement already satisfied: mdurl~=0.1 in /usr/local/lib/python3.11/dist-packages (from markdown-it-py>=2.2.0->rich==13.7.1) (0.1.2)\r\n",
      "Downloading rich-13.7.1-py3-none-any.whl (240 kB)\r\n",
      "\u001b[2K   \u001b[90m━━━━━━━━━━━━━━━━━━━━━━━━━━━━━━━━━━━━━━━━\u001b[0m \u001b[32m240.7/240.7 kB\u001b[0m \u001b[31m5.8 MB/s\u001b[0m eta \u001b[36m0:00:00\u001b[0m\r\n",
      "\u001b[?25hInstalling collected packages: rich\r\n",
      "  Attempting uninstall: rich\r\n",
      "    Found existing installation: rich 14.0.0\r\n",
      "    Uninstalling rich-14.0.0:\r\n",
      "      Successfully uninstalled rich-14.0.0\r\n",
      "Successfully installed rich-13.7.1\r\n",
      "Requirement already satisfied: ipywidgets in /usr/local/lib/python3.11/dist-packages (8.1.5)\r\n",
      "Collecting ipywidgets\r\n",
      "  Downloading ipywidgets-8.1.7-py3-none-any.whl.metadata (2.4 kB)\r\n",
      "Requirement already satisfied: comm>=0.1.3 in /usr/local/lib/python3.11/dist-packages (from ipywidgets) (0.2.2)\r\n",
      "Requirement already satisfied: ipython>=6.1.0 in /usr/local/lib/python3.11/dist-packages (from ipywidgets) (7.34.0)\r\n",
      "Requirement already satisfied: traitlets>=4.3.1 in /usr/local/lib/python3.11/dist-packages (from ipywidgets) (5.7.1)\r\n",
      "Collecting widgetsnbextension~=4.0.14 (from ipywidgets)\r\n",
      "  Downloading widgetsnbextension-4.0.14-py3-none-any.whl.metadata (1.6 kB)\r\n",
      "Collecting jupyterlab_widgets~=3.0.15 (from ipywidgets)\r\n",
      "  Downloading jupyterlab_widgets-3.0.15-py3-none-any.whl.metadata (20 kB)\r\n",
      "Requirement already satisfied: setuptools>=18.5 in /usr/local/lib/python3.11/dist-packages (from ipython>=6.1.0->ipywidgets) (75.1.0)\r\n",
      "Requirement already satisfied: jedi>=0.16 in /usr/local/lib/python3.11/dist-packages (from ipython>=6.1.0->ipywidgets) (0.19.2)\r\n",
      "Requirement already satisfied: decorator in /usr/local/lib/python3.11/dist-packages (from ipython>=6.1.0->ipywidgets) (4.4.2)\r\n",
      "Requirement already satisfied: pickleshare in /usr/local/lib/python3.11/dist-packages (from ipython>=6.1.0->ipywidgets) (0.7.5)\r\n",
      "Requirement already satisfied: prompt-toolkit!=3.0.0,!=3.0.1,<3.1.0,>=2.0.0 in /usr/local/lib/python3.11/dist-packages (from ipython>=6.1.0->ipywidgets) (3.0.50)\r\n",
      "Requirement already satisfied: pygments in /usr/local/lib/python3.11/dist-packages (from ipython>=6.1.0->ipywidgets) (2.19.1)\r\n",
      "Requirement already satisfied: backcall in /usr/local/lib/python3.11/dist-packages (from ipython>=6.1.0->ipywidgets) (0.2.0)\r\n",
      "Requirement already satisfied: matplotlib-inline in /usr/local/lib/python3.11/dist-packages (from ipython>=6.1.0->ipywidgets) (0.1.7)\r\n",
      "Requirement already satisfied: pexpect>4.3 in /usr/local/lib/python3.11/dist-packages (from ipython>=6.1.0->ipywidgets) (4.9.0)\r\n",
      "Requirement already satisfied: parso<0.9.0,>=0.8.4 in /usr/local/lib/python3.11/dist-packages (from jedi>=0.16->ipython>=6.1.0->ipywidgets) (0.8.4)\r\n",
      "Requirement already satisfied: ptyprocess>=0.5 in /usr/local/lib/python3.11/dist-packages (from pexpect>4.3->ipython>=6.1.0->ipywidgets) (0.7.0)\r\n",
      "Requirement already satisfied: wcwidth in /usr/local/lib/python3.11/dist-packages (from prompt-toolkit!=3.0.0,!=3.0.1,<3.1.0,>=2.0.0->ipython>=6.1.0->ipywidgets) (0.2.13)\r\n",
      "Downloading ipywidgets-8.1.7-py3-none-any.whl (139 kB)\r\n",
      "\u001b[2K   \u001b[90m━━━━━━━━━━━━━━━━━━━━━━━━━━━━━━━━━━━━━━━━\u001b[0m \u001b[32m139.8/139.8 kB\u001b[0m \u001b[31m4.8 MB/s\u001b[0m eta \u001b[36m0:00:00\u001b[0m\r\n",
      "\u001b[?25hDownloading jupyterlab_widgets-3.0.15-py3-none-any.whl (216 kB)\r\n",
      "\u001b[2K   \u001b[90m━━━━━━━━━━━━━━━━━━━━━━━━━━━━━━━━━━━━━━━━\u001b[0m \u001b[32m216.6/216.6 kB\u001b[0m \u001b[31m11.1 MB/s\u001b[0m eta \u001b[36m0:00:00\u001b[0m\r\n",
      "\u001b[?25hDownloading widgetsnbextension-4.0.14-py3-none-any.whl (2.2 MB)\r\n",
      "\u001b[2K   \u001b[90m━━━━━━━━━━━━━━━━━━━━━━━━━━━━━━━━━━━━━━━━\u001b[0m \u001b[32m2.2/2.2 MB\u001b[0m \u001b[31m50.5 MB/s\u001b[0m eta \u001b[36m0:00:00\u001b[0m\r\n",
      "\u001b[?25hInstalling collected packages: widgetsnbextension, jupyterlab_widgets, ipywidgets\r\n",
      "  Attempting uninstall: widgetsnbextension\r\n",
      "    Found existing installation: widgetsnbextension 4.0.13\r\n",
      "    Uninstalling widgetsnbextension-4.0.13:\r\n",
      "      Successfully uninstalled widgetsnbextension-4.0.13\r\n",
      "  Attempting uninstall: jupyterlab_widgets\r\n",
      "    Found existing installation: jupyterlab_widgets 3.0.13\r\n",
      "    Uninstalling jupyterlab_widgets-3.0.13:\r\n",
      "      Successfully uninstalled jupyterlab_widgets-3.0.13\r\n",
      "  Attempting uninstall: ipywidgets\r\n",
      "    Found existing installation: ipywidgets 8.1.5\r\n",
      "    Uninstalling ipywidgets-8.1.5:\r\n",
      "      Successfully uninstalled ipywidgets-8.1.5\r\n",
      "Successfully installed ipywidgets-8.1.7 jupyterlab_widgets-3.0.15 widgetsnbextension-4.0.14\r\n"
     ]
    }
   ],
   "source": [
    "!pip install toolz==0.12.1\n",
    "!pip install rich==13.7.1\n",
    "!pip install --upgrade ipywidgets"
   ]
  },
  {
   "cell_type": "code",
   "execution_count": 4,
   "id": "fdafdddb",
   "metadata": {
    "execution": {
     "iopub.execute_input": "2025-05-25T00:50:38.737609Z",
     "iopub.status.busy": "2025-05-25T00:50:38.737301Z",
     "iopub.status.idle": "2025-05-25T00:51:54.740568Z",
     "shell.execute_reply": "2025-05-25T00:51:54.739486Z"
    },
    "papermill": {
     "duration": 76.022896,
     "end_time": "2025-05-25T00:51:54.742300",
     "exception": false,
     "start_time": "2025-05-25T00:50:38.719404",
     "status": "completed"
    },
    "tags": []
   },
   "outputs": [
    {
     "name": "stdout",
     "output_type": "stream",
     "text": [
      "\u001b[2K   \u001b[90m━━━━━━━━━━━━━━━━━━━━━━━━━━━━━━━━━━━━━━━━\u001b[0m \u001b[32m1.0/1.0 MB\u001b[0m \u001b[31m19.8 MB/s\u001b[0m eta \u001b[36m0:00:00\u001b[0m\r\n",
      "\u001b[2K   \u001b[90m━━━━━━━━━━━━━━━━━━━━━━━━━━━━━━━━━━━━━━━━\u001b[0m \u001b[32m363.4/363.4 MB\u001b[0m \u001b[31m4.5 MB/s\u001b[0m eta \u001b[36m0:00:00\u001b[0m\r\n",
      "\u001b[2K   \u001b[90m━━━━━━━━━━━━━━━━━━━━━━━━━━━━━━━━━━━━━━━━\u001b[0m \u001b[32m664.8/664.8 MB\u001b[0m \u001b[31m2.8 MB/s\u001b[0m eta \u001b[36m0:00:00\u001b[0m\r\n",
      "\u001b[2K   \u001b[90m━━━━━━━━━━━━━━━━━━━━━━━━━━━━━━━━━━━━━━━━\u001b[0m \u001b[32m211.5/211.5 MB\u001b[0m \u001b[31m5.9 MB/s\u001b[0m eta \u001b[36m0:00:00\u001b[0m\r\n",
      "\u001b[2K   \u001b[90m━━━━━━━━━━━━━━━━━━━━━━━━━━━━━━━━━━━━━━━━\u001b[0m \u001b[32m56.3/56.3 MB\u001b[0m \u001b[31m30.2 MB/s\u001b[0m eta \u001b[36m0:00:00\u001b[0m\r\n",
      "\u001b[2K   \u001b[90m━━━━━━━━━━━━━━━━━━━━━━━━━━━━━━━━━━━━━━━━\u001b[0m \u001b[32m127.9/127.9 MB\u001b[0m \u001b[31m13.1 MB/s\u001b[0m eta \u001b[36m0:00:00\u001b[0m\r\n",
      "\u001b[2K   \u001b[90m━━━━━━━━━━━━━━━━━━━━━━━━━━━━━━━━━━━━━━━━\u001b[0m \u001b[32m207.5/207.5 MB\u001b[0m \u001b[31m2.1 MB/s\u001b[0m eta \u001b[36m0:00:00\u001b[0m\r\n",
      "\u001b[2K   \u001b[90m━━━━━━━━━━━━━━━━━━━━━━━━━━━━━━━━━━━━━━━━\u001b[0m \u001b[32m21.1/21.1 MB\u001b[0m \u001b[31m64.6 MB/s\u001b[0m eta \u001b[36m0:00:00\u001b[0m\r\n",
      "\u001b[?25h\u001b[31mERROR: pip's dependency resolver does not currently take into account all the packages that are installed. This behaviour is the source of the following dependency conflicts.\r\n",
      "pylibcugraph-cu12 24.12.0 requires pylibraft-cu12==24.12.*, but you have pylibraft-cu12 25.2.0 which is incompatible.\r\n",
      "pylibcugraph-cu12 24.12.0 requires rmm-cu12==24.12.*, but you have rmm-cu12 25.2.0 which is incompatible.\u001b[0m\u001b[31m\r\n",
      "\u001b[0m"
     ]
    }
   ],
   "source": [
    "# Install ultralytics\n",
    "!pip -q install  ultralytics"
   ]
  },
  {
   "cell_type": "code",
   "execution_count": 5,
   "id": "a5cf4cbb",
   "metadata": {
    "execution": {
     "iopub.execute_input": "2025-05-25T00:51:54.880353Z",
     "iopub.status.busy": "2025-05-25T00:51:54.880003Z",
     "iopub.status.idle": "2025-05-25T00:52:01.553708Z",
     "shell.execute_reply": "2025-05-25T00:52:01.552827Z"
    },
    "id": "EXkwG3O87qHW",
    "papermill": {
     "duration": 6.717868,
     "end_time": "2025-05-25T00:52:01.555367",
     "exception": false,
     "start_time": "2025-05-25T00:51:54.837499",
     "status": "completed"
    },
    "tags": []
   },
   "outputs": [
    {
     "name": "stdout",
     "output_type": "stream",
     "text": [
      "Creating new Ultralytics Settings v0.0.6 file ✅ \n",
      "View Ultralytics Settings with 'yolo settings' or at '/root/.config/Ultralytics/settings.json'\n",
      "Update Settings with 'yolo settings key=value', i.e. 'yolo settings runs_dir=path/to/dir'. For help see https://docs.ultralytics.com/quickstart/#ultralytics-settings.\n"
     ]
    }
   ],
   "source": [
    "# Import libraries\n",
    "import pandas as pd\n",
    "import os\n",
    "from pathlib import Path\n",
    "import shutil\n",
    "from sklearn.model_selection import train_test_split\n",
    "from sklearn.preprocessing import LabelEncoder\n",
    "from tqdm.notebook import tqdm\n",
    "import cv2\n",
    "import yaml\n",
    "import matplotlib.pyplot as plt\n",
    "from ultralytics import YOLO\n",
    "import multiprocessing\n",
    "import numpy as np\n",
    "from PIL import Image"
   ]
  },
  {
   "cell_type": "code",
   "execution_count": null,
   "id": "889761fe",
   "metadata": {
    "papermill": {
     "duration": 0.03743,
     "end_time": "2025-05-25T00:52:01.632999",
     "exception": false,
     "start_time": "2025-05-25T00:52:01.595569",
     "status": "completed"
    },
    "tags": []
   },
   "outputs": [],
   "source": []
  },
  {
   "cell_type": "code",
   "execution_count": 6,
   "id": "32c6fe0a",
   "metadata": {
    "execution": {
     "iopub.execute_input": "2025-05-25T00:52:01.708556Z",
     "iopub.status.busy": "2025-05-25T00:52:01.708076Z",
     "iopub.status.idle": "2025-05-25T00:52:01.720706Z",
     "shell.execute_reply": "2025-05-25T00:52:01.719878Z"
    },
    "id": "Ol4vGcV1tTYk",
    "outputId": "ccd15cac-5863-4c86-b259-b862ca2c66ed",
    "papermill": {
     "duration": 0.052584,
     "end_time": "2025-05-25T00:52:01.721893",
     "exception": false,
     "start_time": "2025-05-25T00:52:01.669309",
     "status": "completed"
    },
    "tags": []
   },
   "outputs": [
    {
     "name": "stdout",
     "output_type": "stream",
     "text": [
      "['MAIZE']\n"
     ]
    }
   ],
   "source": [
    "import os\n",
    "\n",
    "# Chemin du dataset\n",
    "INPUT_DATA_DIR = \"/kaggle/input/maize-corn-ds\"\n",
    "\n",
    "\n",
    "\n",
    "# Nouveaux chemins dans l'espace modifiable\n",
    "WORK_DIR = Path(\"/kaggle/working\")\n",
    "\n",
    "\n",
    "# Lister fichiers et dossiers\n",
    "print(os.listdir(INPUT_DATA_DIR))\n"
   ]
  },
  {
   "cell_type": "code",
   "execution_count": 7,
   "id": "3ea6495f",
   "metadata": {
    "execution": {
     "iopub.execute_input": "2025-05-25T00:52:01.801980Z",
     "iopub.status.busy": "2025-05-25T00:52:01.801660Z",
     "iopub.status.idle": "2025-05-25T00:52:01.939791Z",
     "shell.execute_reply": "2025-05-25T00:52:01.938608Z"
    },
    "papermill": {
     "duration": 0.179195,
     "end_time": "2025-05-25T00:52:01.941764",
     "exception": false,
     "start_time": "2025-05-25T00:52:01.762569",
     "status": "completed"
    },
    "tags": []
   },
   "outputs": [],
   "source": [
    "\n",
    "!rm -rf /kaggle/working/*\n"
   ]
  },
  {
   "cell_type": "code",
   "execution_count": 8,
   "id": "f06fc8ea",
   "metadata": {
    "execution": {
     "iopub.execute_input": "2025-05-25T00:52:02.023068Z",
     "iopub.status.busy": "2025-05-25T00:52:02.022737Z",
     "iopub.status.idle": "2025-05-25T00:52:02.162141Z",
     "shell.execute_reply": "2025-05-25T00:52:02.161172Z"
    },
    "papermill": {
     "duration": 0.182097,
     "end_time": "2025-05-25T00:52:02.163840",
     "exception": false,
     "start_time": "2025-05-25T00:52:01.981743",
     "status": "completed"
    },
    "tags": []
   },
   "outputs": [
    {
     "name": "stdout",
     "output_type": "stream",
     "text": [
      "total 344K\r\n",
      "-rw-r--r-- 1 root root 343K May 25 00:52 __notebook__.ipynb\r\n"
     ]
    }
   ],
   "source": [
    "!ls -lh /kaggle/working\n",
    "    "
   ]
  },
  {
   "cell_type": "code",
   "execution_count": 9,
   "id": "7ca2cf77",
   "metadata": {
    "execution": {
     "iopub.execute_input": "2025-05-25T00:52:02.244849Z",
     "iopub.status.busy": "2025-05-25T00:52:02.244497Z",
     "iopub.status.idle": "2025-05-25T00:52:02.252614Z",
     "shell.execute_reply": "2025-05-25T00:52:02.251772Z"
    },
    "id": "SpI6a4qCx_-b",
    "outputId": "1964563b-c240-4f3f-945a-9881c5033a41",
    "papermill": {
     "duration": 0.050362,
     "end_time": "2025-05-25T00:52:02.253846",
     "exception": false,
     "start_time": "2025-05-25T00:52:02.203484",
     "status": "completed"
    },
    "tags": []
   },
   "outputs": [
    {
     "data": {
      "text/plain": [
       "PosixPath('/kaggle/input/maize-corn-ds/MAIZE')"
      ]
     },
     "execution_count": 9,
     "metadata": {},
     "output_type": "execute_result"
    }
   ],
   "source": [
    "from pathlib import Path\n",
    "DATASETS_DIR = Path(INPUT_DATA_DIR) / 'MAIZE'\n",
    "DATASETS_DIR \n"
   ]
  },
  {
   "cell_type": "code",
   "execution_count": 10,
   "id": "8c0ba482",
   "metadata": {
    "execution": {
     "iopub.execute_input": "2025-05-25T00:52:02.335491Z",
     "iopub.status.busy": "2025-05-25T00:52:02.334926Z",
     "iopub.status.idle": "2025-05-25T00:52:02.339155Z",
     "shell.execute_reply": "2025-05-25T00:52:02.338492Z"
    },
    "papermill": {
     "duration": 0.046465,
     "end_time": "2025-05-25T00:52:02.340491",
     "exception": false,
     "start_time": "2025-05-25T00:52:02.294026",
     "status": "completed"
    },
    "tags": []
   },
   "outputs": [],
   "source": [
    "# Chemins originaux (lecture seule)\n",
    "ORIG_TRAIN_IMAGES_DIR = DATASETS_DIR / 'images' / 'train'\n",
    "ORIG_TRAIN_LABELS_DIR =  DATASETS_DIR / \"labels\" / \"train\"\n",
    "TEST_IMAGES_DIR = DATASETS_DIR / 'images' / 'test'\n",
    "TEST_LABELS_DIR = DATASETS_DIR / 'labels' / 'test'"
   ]
  },
  {
   "cell_type": "code",
   "execution_count": 11,
   "id": "d1f13f78",
   "metadata": {
    "execution": {
     "iopub.execute_input": "2025-05-25T00:52:02.420211Z",
     "iopub.status.busy": "2025-05-25T00:52:02.419918Z",
     "iopub.status.idle": "2025-05-25T00:52:02.423552Z",
     "shell.execute_reply": "2025-05-25T00:52:02.422972Z"
    },
    "papermill": {
     "duration": 0.043867,
     "end_time": "2025-05-25T00:52:02.424545",
     "exception": false,
     "start_time": "2025-05-25T00:52:02.380678",
     "status": "completed"
    },
    "tags": []
   },
   "outputs": [],
   "source": [
    "VAL_IMAGES_DIR = WORK_DIR / \"images/val\"\n",
    "VAL_LABELS_DIR = WORK_DIR / \"labels/val\""
   ]
  },
  {
   "cell_type": "code",
   "execution_count": 12,
   "id": "33a017f2",
   "metadata": {
    "execution": {
     "iopub.execute_input": "2025-05-25T00:52:02.502029Z",
     "iopub.status.busy": "2025-05-25T00:52:02.501715Z",
     "iopub.status.idle": "2025-05-25T00:52:02.506109Z",
     "shell.execute_reply": "2025-05-25T00:52:02.505546Z"
    },
    "papermill": {
     "duration": 0.045307,
     "end_time": "2025-05-25T00:52:02.507235",
     "exception": false,
     "start_time": "2025-05-25T00:52:02.461928",
     "status": "completed"
    },
    "tags": []
   },
   "outputs": [],
   "source": [
    "for dir_path in [\n",
    "                 VAL_IMAGES_DIR,VAL_LABELS_DIR]:\n",
    "    dir_path.mkdir(parents=True, exist_ok=True)"
   ]
  },
  {
   "cell_type": "code",
   "execution_count": 13,
   "id": "9dbd04fe",
   "metadata": {
    "execution": {
     "iopub.execute_input": "2025-05-25T00:52:02.586891Z",
     "iopub.status.busy": "2025-05-25T00:52:02.586263Z",
     "iopub.status.idle": "2025-05-25T00:52:02.596802Z",
     "shell.execute_reply": "2025-05-25T00:52:02.595895Z"
    },
    "id": "0a7c8RHk9j3Z",
    "outputId": "96e049b2-462f-4cfe-aed5-4f0838aad2c3",
    "papermill": {
     "duration": 0.052288,
     "end_time": "2025-05-25T00:52:02.598086",
     "exception": false,
     "start_time": "2025-05-25T00:52:02.545798",
     "status": "completed"
    },
    "tags": []
   },
   "outputs": [
    {
     "name": "stdout",
     "output_type": "stream",
     "text": [
      "['labels', 'Data_mapped.csv', 'without_annotations', 'images', 'Train.csv', 'Test.csv', 'Data.csv', 'labels_xml']\n"
     ]
    }
   ],
   "source": [
    "contenu_dataset = [f.name for f in DATASETS_DIR.iterdir()]\n",
    "print(contenu_dataset)"
   ]
  },
  {
   "cell_type": "code",
   "execution_count": 14,
   "id": "556ffd53",
   "metadata": {
    "execution": {
     "iopub.execute_input": "2025-05-25T00:52:02.676849Z",
     "iopub.status.busy": "2025-05-25T00:52:02.676554Z",
     "iopub.status.idle": "2025-05-25T00:52:02.680471Z",
     "shell.execute_reply": "2025-05-25T00:52:02.679840Z"
    },
    "papermill": {
     "duration": 0.044498,
     "end_time": "2025-05-25T00:52:02.681715",
     "exception": false,
     "start_time": "2025-05-25T00:52:02.637217",
     "status": "completed"
    },
    "tags": []
   },
   "outputs": [],
   "source": [
    "# Fonction utilitaire\n",
    "def count_files(directory):\n",
    "    return len(list(directory.glob('*')))"
   ]
  },
  {
   "cell_type": "code",
   "execution_count": 15,
   "id": "60f89180",
   "metadata": {
    "execution": {
     "iopub.execute_input": "2025-05-25T00:52:02.756303Z",
     "iopub.status.busy": "2025-05-25T00:52:02.755972Z",
     "iopub.status.idle": "2025-05-25T00:52:02.761270Z",
     "shell.execute_reply": "2025-05-25T00:52:02.760419Z"
    },
    "papermill": {
     "duration": 0.044271,
     "end_time": "2025-05-25T00:52:02.762843",
     "exception": false,
     "start_time": "2025-05-25T00:52:02.718572",
     "status": "completed"
    },
    "tags": []
   },
   "outputs": [],
   "source": [
    "# S'assurer que le dossier des labels existe, même s'il est vide pour le moment\n",
    "ORIG_TRAIN_IMAGES_DIR.mkdir(parents=True, exist_ok=True)"
   ]
  },
  {
   "cell_type": "code",
   "execution_count": 16,
   "id": "a4af3906",
   "metadata": {
    "execution": {
     "iopub.execute_input": "2025-05-25T00:52:02.839810Z",
     "iopub.status.busy": "2025-05-25T00:52:02.839506Z",
     "iopub.status.idle": "2025-05-25T00:52:03.059166Z",
     "shell.execute_reply": "2025-05-25T00:52:03.058274Z"
    },
    "papermill": {
     "duration": 0.259674,
     "end_time": "2025-05-25T00:52:03.060696",
     "exception": false,
     "start_time": "2025-05-25T00:52:02.801022",
     "status": "completed"
    },
    "tags": []
   },
   "outputs": [
    {
     "name": "stdout",
     "output_type": "stream",
     "text": [
      "There are 16761 in /kaggle/input/maize-corn-ds/MAIZE/images/train\n"
     ]
    }
   ],
   "source": [
    "## Count the number files in TRAIN_IMAGES_DIR\n",
    "num_train_images = count_files(ORIG_TRAIN_IMAGES_DIR)\n",
    "print(f\"There are {num_train_images} in {ORIG_TRAIN_IMAGES_DIR}\")"
   ]
  },
  {
   "cell_type": "code",
   "execution_count": 17,
   "id": "16ebf738",
   "metadata": {
    "execution": {
     "iopub.execute_input": "2025-05-25T00:52:03.143188Z",
     "iopub.status.busy": "2025-05-25T00:52:03.142841Z",
     "iopub.status.idle": "2025-05-25T00:52:03.177868Z",
     "shell.execute_reply": "2025-05-25T00:52:03.176722Z"
    },
    "papermill": {
     "duration": 0.07824,
     "end_time": "2025-05-25T00:52:03.179379",
     "exception": false,
     "start_time": "2025-05-25T00:52:03.101139",
     "status": "completed"
    },
    "tags": []
   },
   "outputs": [
    {
     "name": "stdout",
     "output_type": "stream",
     "text": [
      "There are 1863 in /kaggle/input/maize-corn-ds/MAIZE/images/test\n"
     ]
    }
   ],
   "source": [
    "## Count the number files in TEST_IMAGES_DIR\n",
    "num_test_images = count_files(TEST_IMAGES_DIR)\n",
    "print(f\"There are {num_test_images} in {TEST_IMAGES_DIR}\")"
   ]
  },
  {
   "cell_type": "code",
   "execution_count": 18,
   "id": "b4c28328",
   "metadata": {
    "execution": {
     "iopub.execute_input": "2025-05-25T00:52:03.258072Z",
     "iopub.status.busy": "2025-05-25T00:52:03.257791Z",
     "iopub.status.idle": "2025-05-25T00:52:03.263060Z",
     "shell.execute_reply": "2025-05-25T00:52:03.262275Z"
    },
    "papermill": {
     "duration": 0.045498,
     "end_time": "2025-05-25T00:52:03.264261",
     "exception": false,
     "start_time": "2025-05-25T00:52:03.218763",
     "status": "completed"
    },
    "tags": []
   },
   "outputs": [
    {
     "data": {
      "text/plain": [
       "PosixPath('/kaggle/input/maize-corn-ds/MAIZE/images/train')"
      ]
     },
     "execution_count": 18,
     "metadata": {},
     "output_type": "execute_result"
    }
   ],
   "source": [
    "ORIG_TRAIN_IMAGES_DIR.absolute()"
   ]
  },
  {
   "cell_type": "code",
   "execution_count": 19,
   "id": "9d904dd1",
   "metadata": {
    "execution": {
     "iopub.execute_input": "2025-05-25T00:52:03.343235Z",
     "iopub.status.busy": "2025-05-25T00:52:03.342638Z",
     "iopub.status.idle": "2025-05-25T00:52:03.577098Z",
     "shell.execute_reply": "2025-05-25T00:52:03.576332Z"
    },
    "papermill": {
     "duration": 0.276167,
     "end_time": "2025-05-25T00:52:03.578768",
     "exception": false,
     "start_time": "2025-05-25T00:52:03.302601",
     "status": "completed"
    },
    "tags": []
   },
   "outputs": [],
   "source": [
    "train = pd.read_csv(os.path.join(DATASETS_DIR, 'Train.csv'))\n"
   ]
  },
  {
   "cell_type": "code",
   "execution_count": 20,
   "id": "1c16e94f",
   "metadata": {
    "execution": {
     "iopub.execute_input": "2025-05-25T00:52:03.669839Z",
     "iopub.status.busy": "2025-05-25T00:52:03.669205Z",
     "iopub.status.idle": "2025-05-25T00:52:03.695803Z",
     "shell.execute_reply": "2025-05-25T00:52:03.695011Z"
    },
    "papermill": {
     "duration": 0.073132,
     "end_time": "2025-05-25T00:52:03.696954",
     "exception": false,
     "start_time": "2025-05-25T00:52:03.623822",
     "status": "completed"
    },
    "tags": []
   },
   "outputs": [
    {
     "data": {
      "text/html": [
       "<div>\n",
       "<style scoped>\n",
       "    .dataframe tbody tr th:only-of-type {\n",
       "        vertical-align: middle;\n",
       "    }\n",
       "\n",
       "    .dataframe tbody tr th {\n",
       "        vertical-align: top;\n",
       "    }\n",
       "\n",
       "    .dataframe thead th {\n",
       "        text-align: right;\n",
       "    }\n",
       "</style>\n",
       "<table border=\"1\" class=\"dataframe\">\n",
       "  <thead>\n",
       "    <tr style=\"text-align: right;\">\n",
       "      <th></th>\n",
       "      <th>Image_ID</th>\n",
       "      <th>class</th>\n",
       "      <th>confidence</th>\n",
       "      <th>ymin</th>\n",
       "      <th>xmin</th>\n",
       "      <th>ymax</th>\n",
       "      <th>xmax</th>\n",
       "      <th>class_id</th>\n",
       "      <th>ImagePath</th>\n",
       "    </tr>\n",
       "  </thead>\n",
       "  <tbody>\n",
       "    <tr>\n",
       "      <th>0</th>\n",
       "      <td>ID_625a7f2c.jpg</td>\n",
       "      <td>maize_streak_disease</td>\n",
       "      <td>1.0</td>\n",
       "      <td>1374.0</td>\n",
       "      <td>35.0</td>\n",
       "      <td>4608.0</td>\n",
       "      <td>2731.0</td>\n",
       "      <td>2</td>\n",
       "      <td>images/train/ID_625a7f2c.jpg</td>\n",
       "    </tr>\n",
       "    <tr>\n",
       "      <th>1</th>\n",
       "      <td>ID_e959e603.jpg</td>\n",
       "      <td>fall_armyworm</td>\n",
       "      <td>1.0</td>\n",
       "      <td>1022.0</td>\n",
       "      <td>1378.0</td>\n",
       "      <td>1379.0</td>\n",
       "      <td>1697.0</td>\n",
       "      <td>1</td>\n",
       "      <td>images/train/ID_e959e603.jpg</td>\n",
       "    </tr>\n",
       "    <tr>\n",
       "      <th>2</th>\n",
       "      <td>ID_e959e603.jpg</td>\n",
       "      <td>fall_armyworm</td>\n",
       "      <td>1.0</td>\n",
       "      <td>1379.0</td>\n",
       "      <td>1466.0</td>\n",
       "      <td>1736.0</td>\n",
       "      <td>1711.0</td>\n",
       "      <td>1</td>\n",
       "      <td>images/train/ID_e959e603.jpg</td>\n",
       "    </tr>\n",
       "    <tr>\n",
       "      <th>3</th>\n",
       "      <td>ID_e959e603.jpg</td>\n",
       "      <td>fall_armyworm</td>\n",
       "      <td>1.0</td>\n",
       "      <td>406.0</td>\n",
       "      <td>2204.0</td>\n",
       "      <td>1043.0</td>\n",
       "      <td>2617.0</td>\n",
       "      <td>1</td>\n",
       "      <td>images/train/ID_e959e603.jpg</td>\n",
       "    </tr>\n",
       "    <tr>\n",
       "      <th>4</th>\n",
       "      <td>ID_e959e603.jpg</td>\n",
       "      <td>fall_armyworm</td>\n",
       "      <td>1.0</td>\n",
       "      <td>879.0</td>\n",
       "      <td>2064.0</td>\n",
       "      <td>1257.0</td>\n",
       "      <td>2396.0</td>\n",
       "      <td>1</td>\n",
       "      <td>images/train/ID_e959e603.jpg</td>\n",
       "    </tr>\n",
       "  </tbody>\n",
       "</table>\n",
       "</div>"
      ],
      "text/plain": [
       "          Image_ID                 class  confidence    ymin    xmin    ymax  \\\n",
       "0  ID_625a7f2c.jpg  maize_streak_disease         1.0  1374.0    35.0  4608.0   \n",
       "1  ID_e959e603.jpg         fall_armyworm         1.0  1022.0  1378.0  1379.0   \n",
       "2  ID_e959e603.jpg         fall_armyworm         1.0  1379.0  1466.0  1736.0   \n",
       "3  ID_e959e603.jpg         fall_armyworm         1.0   406.0  2204.0  1043.0   \n",
       "4  ID_e959e603.jpg         fall_armyworm         1.0   879.0  2064.0  1257.0   \n",
       "\n",
       "     xmax  class_id                     ImagePath  \n",
       "0  2731.0         2  images/train/ID_625a7f2c.jpg  \n",
       "1  1697.0         1  images/train/ID_e959e603.jpg  \n",
       "2  1711.0         1  images/train/ID_e959e603.jpg  \n",
       "3  2617.0         1  images/train/ID_e959e603.jpg  \n",
       "4  2396.0         1  images/train/ID_e959e603.jpg  "
      ]
     },
     "execution_count": 20,
     "metadata": {},
     "output_type": "execute_result"
    }
   ],
   "source": [
    "train.head()"
   ]
  },
  {
   "cell_type": "code",
   "execution_count": 21,
   "id": "642c816b",
   "metadata": {
    "execution": {
     "iopub.execute_input": "2025-05-25T00:52:03.777256Z",
     "iopub.status.busy": "2025-05-25T00:52:03.776764Z",
     "iopub.status.idle": "2025-05-25T00:52:03.792711Z",
     "shell.execute_reply": "2025-05-25T00:52:03.791995Z"
    },
    "papermill": {
     "duration": 0.057071,
     "end_time": "2025-05-25T00:52:03.793894",
     "exception": false,
     "start_time": "2025-05-25T00:52:03.736823",
     "status": "completed"
    },
    "tags": []
   },
   "outputs": [
    {
     "data": {
      "text/plain": [
       "16761"
      ]
     },
     "execution_count": 21,
     "metadata": {},
     "output_type": "execute_result"
    }
   ],
   "source": [
    "train['ImagePath'].nunique()"
   ]
  },
  {
   "cell_type": "code",
   "execution_count": 22,
   "id": "839aabfc",
   "metadata": {
    "execution": {
     "iopub.execute_input": "2025-05-25T00:52:03.874112Z",
     "iopub.status.busy": "2025-05-25T00:52:03.873718Z",
     "iopub.status.idle": "2025-05-25T00:52:03.902536Z",
     "shell.execute_reply": "2025-05-25T00:52:03.901479Z"
    },
    "papermill": {
     "duration": 0.07101,
     "end_time": "2025-05-25T00:52:03.904123",
     "exception": false,
     "start_time": "2025-05-25T00:52:03.833113",
     "status": "completed"
    },
    "tags": []
   },
   "outputs": [
    {
     "data": {
      "text/plain": [
       "array(['maize_streak_disease', 'fall_armyworm', 'healthy'], dtype=object)"
      ]
     },
     "execution_count": 22,
     "metadata": {},
     "output_type": "execute_result"
    }
   ],
   "source": [
    "train['class'] = train['class'].str.strip()\n",
    "train['class'].unique()"
   ]
  },
  {
   "cell_type": "code",
   "execution_count": 23,
   "id": "bd5e964a",
   "metadata": {
    "execution": {
     "iopub.execute_input": "2025-05-25T00:52:03.991444Z",
     "iopub.status.busy": "2025-05-25T00:52:03.990801Z",
     "iopub.status.idle": "2025-05-25T00:52:04.044301Z",
     "shell.execute_reply": "2025-05-25T00:52:04.043373Z"
    },
    "papermill": {
     "duration": 0.097224,
     "end_time": "2025-05-25T00:52:04.045774",
     "exception": false,
     "start_time": "2025-05-25T00:52:03.948550",
     "status": "completed"
    },
    "tags": []
   },
   "outputs": [
    {
     "name": "stdout",
     "output_type": "stream",
     "text": [
      "['0: healthy' '1: fall_armyworm' '2: maize_streak_disease']\n"
     ]
    }
   ],
   "source": [
    "\n",
    "class_with_id = (train['class_id'].astype(str) + ': ' + train['class']).drop_duplicates().sort_values().values\n",
    "print(class_with_id)\n"
   ]
  },
  {
   "cell_type": "code",
   "execution_count": 24,
   "id": "063108e2",
   "metadata": {
    "execution": {
     "iopub.execute_input": "2025-05-25T00:52:04.135046Z",
     "iopub.status.busy": "2025-05-25T00:52:04.134743Z",
     "iopub.status.idle": "2025-05-25T00:52:04.144703Z",
     "shell.execute_reply": "2025-05-25T00:52:04.144105Z"
    },
    "papermill": {
     "duration": 0.054781,
     "end_time": "2025-05-25T00:52:04.145827",
     "exception": false,
     "start_time": "2025-05-25T00:52:04.091046",
     "status": "completed"
    },
    "tags": []
   },
   "outputs": [
    {
     "data": {
      "text/plain": [
       "['maize_streak_disease', 'fall_armyworm', 'healthy']"
      ]
     },
     "execution_count": 24,
     "metadata": {},
     "output_type": "execute_result"
    }
   ],
   "source": [
    "unique_classes = train['class'].unique().tolist()\n",
    "unique_classes"
   ]
  },
  {
   "cell_type": "code",
   "execution_count": 25,
   "id": "4a2e5b4d",
   "metadata": {
    "execution": {
     "iopub.execute_input": "2025-05-25T00:52:04.227182Z",
     "iopub.status.busy": "2025-05-25T00:52:04.226866Z",
     "iopub.status.idle": "2025-05-25T00:52:04.231773Z",
     "shell.execute_reply": "2025-05-25T00:52:04.231157Z"
    },
    "papermill": {
     "duration": 0.047493,
     "end_time": "2025-05-25T00:52:04.232895",
     "exception": false,
     "start_time": "2025-05-25T00:52:04.185402",
     "status": "completed"
    },
    "tags": []
   },
   "outputs": [
    {
     "data": {
      "text/plain": [
       "['fall_armyworm', 'healthy', 'maize_streak_disease']"
      ]
     },
     "execution_count": 25,
     "metadata": {},
     "output_type": "execute_result"
    }
   ],
   "source": [
    "sorted_classes = sorted(unique_classes)\n",
    "sorted_classes"
   ]
  },
  {
   "cell_type": "code",
   "execution_count": 26,
   "id": "153d4c6f",
   "metadata": {
    "execution": {
     "iopub.execute_input": "2025-05-25T00:52:04.311253Z",
     "iopub.status.busy": "2025-05-25T00:52:04.310917Z",
     "iopub.status.idle": "2025-05-25T00:52:04.315740Z",
     "shell.execute_reply": "2025-05-25T00:52:04.315109Z"
    },
    "papermill": {
     "duration": 0.045052,
     "end_time": "2025-05-25T00:52:04.316922",
     "exception": false,
     "start_time": "2025-05-25T00:52:04.271870",
     "status": "completed"
    },
    "tags": []
   },
   "outputs": [
    {
     "data": {
      "text/plain": [
       "[(0, 'fall_armyworm'), (1, 'healthy'), (2, 'maize_streak_disease')]"
      ]
     },
     "execution_count": 26,
     "metadata": {},
     "output_type": "execute_result"
    }
   ],
   "source": [
    "enumerated_list = list(enumerate(sorted_classes))\n",
    "enumerated_list"
   ]
  },
  {
   "cell_type": "code",
   "execution_count": null,
   "id": "e921d125",
   "metadata": {
    "papermill": {
     "duration": 0.03912,
     "end_time": "2025-05-25T00:52:04.395543",
     "exception": false,
     "start_time": "2025-05-25T00:52:04.356423",
     "status": "completed"
    },
    "tags": []
   },
   "outputs": [],
   "source": []
  },
  {
   "cell_type": "code",
   "execution_count": 27,
   "id": "97073495",
   "metadata": {
    "execution": {
     "iopub.execute_input": "2025-05-25T00:52:04.473841Z",
     "iopub.status.busy": "2025-05-25T00:52:04.473054Z",
     "iopub.status.idle": "2025-05-25T00:52:04.620299Z",
     "shell.execute_reply": "2025-05-25T00:52:04.619516Z"
    },
    "papermill": {
     "duration": 0.187833,
     "end_time": "2025-05-25T00:52:04.621857",
     "exception": false,
     "start_time": "2025-05-25T00:52:04.434024",
     "status": "completed"
    },
    "tags": []
   },
   "outputs": [
    {
     "name": "stdout",
     "output_type": "stream",
     "text": [
      "✅ Fichier d'annotations chargé : 91419 lignes\n",
      "🔍 Nombre d'images uniques : 16761\n"
     ]
    }
   ],
   "source": [
    "import pandas as pd\n",
    "\n",
    "# Charger le fichier d'annotations\n",
    "train_df = pd.read_csv(DATASETS_DIR / \"Train.csv\")\n",
    "\n",
    "\n",
    "print(f\"✅ Fichier d'annotations chargé : {len(train_df)} lignes\")\n",
    "\n",
    "# Obtenir le nombre d'images uniques\n",
    "unique_images = train_df['Image_ID'].unique()  # Remplacez 'Image_ID' par le nom de la colonne appropriée\n",
    "num_unique_images = len(unique_images)\n",
    "\n",
    "print(f\"🔍 Nombre d'images uniques : {num_unique_images}\")\n"
   ]
  },
  {
   "cell_type": "code",
   "execution_count": 28,
   "id": "73a3d038",
   "metadata": {
    "execution": {
     "iopub.execute_input": "2025-05-25T00:52:04.705643Z",
     "iopub.status.busy": "2025-05-25T00:52:04.704983Z",
     "iopub.status.idle": "2025-05-25T00:52:04.839942Z",
     "shell.execute_reply": "2025-05-25T00:52:04.839317Z"
    },
    "papermill": {
     "duration": 0.180535,
     "end_time": "2025-05-25T00:52:04.841545",
     "exception": false,
     "start_time": "2025-05-25T00:52:04.661010",
     "status": "completed"
    },
    "tags": []
   },
   "outputs": [],
   "source": [
    "train_df = pd.read_csv(DATASETS_DIR / \"Train.csv\")\n"
   ]
  },
  {
   "cell_type": "code",
   "execution_count": 29,
   "id": "963fe5c3",
   "metadata": {
    "execution": {
     "iopub.execute_input": "2025-05-25T00:52:04.932738Z",
     "iopub.status.busy": "2025-05-25T00:52:04.931983Z",
     "iopub.status.idle": "2025-05-25T00:52:04.936460Z",
     "shell.execute_reply": "2025-05-25T00:52:04.935709Z"
    },
    "papermill": {
     "duration": 0.050729,
     "end_time": "2025-05-25T00:52:04.937558",
     "exception": false,
     "start_time": "2025-05-25T00:52:04.886829",
     "status": "completed"
    },
    "tags": []
   },
   "outputs": [
    {
     "name": "stdout",
     "output_type": "stream",
     "text": [
      "DataFrame chargé : 91419 boîtes initiales\n"
     ]
    }
   ],
   "source": [
    "print(f\"DataFrame chargé : {len(train_df)} boîtes initiales\")\n"
   ]
  },
  {
   "cell_type": "code",
   "execution_count": 30,
   "id": "316bd773",
   "metadata": {
    "execution": {
     "iopub.execute_input": "2025-05-25T00:52:05.023375Z",
     "iopub.status.busy": "2025-05-25T00:52:05.022760Z",
     "iopub.status.idle": "2025-05-25T00:52:05.028614Z",
     "shell.execute_reply": "2025-05-25T00:52:05.027737Z"
    },
    "papermill": {
     "duration": 0.048992,
     "end_time": "2025-05-25T00:52:05.029876",
     "exception": false,
     "start_time": "2025-05-25T00:52:04.980884",
     "status": "completed"
    },
    "tags": []
   },
   "outputs": [],
   "source": [
    "def bb_intersection_over_union(boxA, boxB):\n",
    "    \"\"\"\n",
    "    Calculate IoU between two boxes\n",
    "    \n",
    "    Args:\n",
    "        boxA: [ymin, xmin, ymax, xmax]  # Note: ordre cohérent avec votre DataFrame\n",
    "        boxB: [ymin, xmin, ymax, xmax]  # Note: ordre cohérent avec votre DataFrame\n",
    "    \"\"\"\n",
    "    # On réorganise les coordonnées pour le calcul (ymin,xmin → xmin,ymin)\n",
    "    xA = max(boxA[1], boxB[1])  # xmin\n",
    "    yA = max(boxA[0], boxB[0])  # ymin\n",
    "    xB = min(boxA[3], boxB[3])  # xmax\n",
    "    yB = min(boxA[2], boxB[2])  # ymax\n",
    "\n",
    "    interArea = max(0, xB - xA + 1) * max(0, yB - yA + 1)\n",
    "\n",
    "    boxAArea = (boxA[3] - boxA[1] + 1) * (boxA[2] - boxA[0] + 1)  # (xmax-xmin)*(ymax-ymin)\n",
    "    boxBArea = (boxB[3] - boxB[1] + 1) * (boxB[2] - boxB[0] + 1)  # (xmax-xmin)*(ymax-ymin)\n",
    "\n",
    "    iou = interArea / float(boxAArea + boxBArea - interArea)\n",
    "    return iou"
   ]
  },
  {
   "cell_type": "code",
   "execution_count": 31,
   "id": "18709acc",
   "metadata": {
    "execution": {
     "iopub.execute_input": "2025-05-25T00:52:05.110733Z",
     "iopub.status.busy": "2025-05-25T00:52:05.110014Z",
     "iopub.status.idle": "2025-05-25T00:52:05.118702Z",
     "shell.execute_reply": "2025-05-25T00:52:05.118033Z"
    },
    "papermill": {
     "duration": 0.049855,
     "end_time": "2025-05-25T00:52:05.119856",
     "exception": false,
     "start_time": "2025-05-25T00:52:05.070001",
     "status": "completed"
    },
    "tags": []
   },
   "outputs": [],
   "source": [
    "import random\n",
    "from tqdm import tqdm\n",
    "\n",
    "def random_nms(df, threshold, seed=None):\n",
    "    \"\"\"\n",
    "    Applique un NMS aléatoire classe par classe sur chaque image.\n",
    "    Affiche uniquement une barre de progression propre (tqdm).\n",
    "    \"\"\"\n",
    "    if seed is not None:\n",
    "        random.seed(seed)\n",
    "\n",
    "    results = []\n",
    "\n",
    "    for img_id in tqdm(df[\"Image_ID\"].unique(), desc=\"📦 Traitement NMS\", unit=\"image\"):\n",
    "        img_df = df[df[\"Image_ID\"] == img_id].copy()\n",
    "\n",
    "        if len(img_df) <= 1:\n",
    "            results.append(img_df)\n",
    "            continue\n",
    "\n",
    "        keep_indices = []\n",
    "        for cls in img_df[\"class\"].unique():\n",
    "            class_indices = img_df.index[img_df[\"class\"] == cls].tolist()\n",
    "            \n",
    "            if len(class_indices) <= 1:\n",
    "                keep_indices.extend(class_indices)\n",
    "                continue\n",
    "\n",
    "            boxes = img_df.loc[class_indices, [\"ymin\", \"xmin\", \"ymax\", \"xmax\"]].values\n",
    "            indices = list(range(len(boxes)))\n",
    "            random.shuffle(indices)\n",
    "\n",
    "            class_keep = []\n",
    "            while indices:\n",
    "                i = indices.pop(0)\n",
    "                class_keep.append(i)\n",
    "\n",
    "                remaining_boxes = [boxes[j] for j in indices]\n",
    "                ious = [bb_intersection_over_union(boxes[i], box_j) for box_j in remaining_boxes]\n",
    "\n",
    "                new_indices = []\n",
    "                for j, iou in zip(indices, ious):\n",
    "                    if iou <= threshold:\n",
    "                        new_indices.append(j)\n",
    "                indices = new_indices\n",
    "\n",
    "            keep_indices.extend([class_indices[i] for i in class_keep])\n",
    "\n",
    "        results.append(img_df.loc[keep_indices])\n",
    "\n",
    "    filtered_df = pd.concat(results, ignore_index=True)\n",
    "    print(f\"\\n✅ Résultat final: {len(df)} boxes → {len(filtered_df)} boxes après NMS\")\n",
    "    return filtered_df\n"
   ]
  },
  {
   "cell_type": "code",
   "execution_count": 32,
   "id": "0f176620",
   "metadata": {
    "execution": {
     "iopub.execute_input": "2025-05-25T00:52:05.204122Z",
     "iopub.status.busy": "2025-05-25T00:52:05.203468Z",
     "iopub.status.idle": "2025-05-25T00:52:05.208503Z",
     "shell.execute_reply": "2025-05-25T00:52:05.207654Z"
    },
    "papermill": {
     "duration": 0.048395,
     "end_time": "2025-05-25T00:52:05.209702",
     "exception": false,
     "start_time": "2025-05-25T00:52:05.161307",
     "status": "completed"
    },
    "tags": []
   },
   "outputs": [],
   "source": [
    "def get_filtered_train_df(df, iou_threshold=1.0, seed=42):\n",
    "    \"\"\"Garantie la conservation de toutes les colonnes\"\"\"\n",
    "    # Vérification rapide\n",
    "    needed = ['ymin','xmin','ymax','xmax']\n",
    "    assert all(col in df.columns for col in needed), f\"Il manque {set(needed)-set(df.columns)}\"\n",
    "    \n",
    "    filtered = random_nms(df, iou_threshold, seed)\n",
    "    \n",
    "    # Vérification que rien n'a été perdu\n",
    "    assert set(df.columns) == set(filtered.columns), \"Colonnes perdues durant le traitement\"\n",
    "    \n",
    "    return filtered"
   ]
  },
  {
   "cell_type": "code",
   "execution_count": 33,
   "id": "bb543fa5",
   "metadata": {
    "execution": {
     "iopub.execute_input": "2025-05-25T00:52:05.293486Z",
     "iopub.status.busy": "2025-05-25T00:52:05.292937Z",
     "iopub.status.idle": "2025-05-25T00:54:31.651966Z",
     "shell.execute_reply": "2025-05-25T00:54:31.651065Z"
    },
    "papermill": {
     "duration": 146.402202,
     "end_time": "2025-05-25T00:54:31.653454",
     "exception": false,
     "start_time": "2025-05-25T00:52:05.251252",
     "status": "completed"
    },
    "tags": []
   },
   "outputs": [
    {
     "name": "stderr",
     "output_type": "stream",
     "text": [
      "📦 Traitement NMS: 100%|██████████| 16761/16761 [02:24<00:00, 115.66image/s]\n"
     ]
    },
    {
     "name": "stdout",
     "output_type": "stream",
     "text": [
      "\n",
      "✅ Résultat final: 91419 boxes → 91419 boxes après NMS\n",
      "Boîtes avant/après : 91419 → 91419\n"
     ]
    },
    {
     "data": {
      "text/html": [
       "<div>\n",
       "<style scoped>\n",
       "    .dataframe tbody tr th:only-of-type {\n",
       "        vertical-align: middle;\n",
       "    }\n",
       "\n",
       "    .dataframe tbody tr th {\n",
       "        vertical-align: top;\n",
       "    }\n",
       "\n",
       "    .dataframe thead th {\n",
       "        text-align: right;\n",
       "    }\n",
       "</style>\n",
       "<table border=\"1\" class=\"dataframe\">\n",
       "  <thead>\n",
       "    <tr style=\"text-align: right;\">\n",
       "      <th></th>\n",
       "      <th>Image_ID</th>\n",
       "      <th>class</th>\n",
       "      <th>ymin</th>\n",
       "      <th>xmin</th>\n",
       "      <th>ymax</th>\n",
       "      <th>xmax</th>\n",
       "    </tr>\n",
       "  </thead>\n",
       "  <tbody>\n",
       "    <tr>\n",
       "      <th>0</th>\n",
       "      <td>ID_625a7f2c.jpg</td>\n",
       "      <td>maize_streak_disease</td>\n",
       "      <td>1374.0</td>\n",
       "      <td>35.0</td>\n",
       "      <td>4608.0</td>\n",
       "      <td>2731.0</td>\n",
       "    </tr>\n",
       "    <tr>\n",
       "      <th>1</th>\n",
       "      <td>ID_e959e603.jpg</td>\n",
       "      <td>fall_armyworm</td>\n",
       "      <td>1802.0</td>\n",
       "      <td>2176.0</td>\n",
       "      <td>2268.0</td>\n",
       "      <td>2589.0</td>\n",
       "    </tr>\n",
       "  </tbody>\n",
       "</table>\n",
       "</div>"
      ],
      "text/plain": [
       "          Image_ID                 class    ymin    xmin    ymax    xmax\n",
       "0  ID_625a7f2c.jpg  maize_streak_disease  1374.0    35.0  4608.0  2731.0\n",
       "1  ID_e959e603.jpg         fall_armyworm  1802.0  2176.0  2268.0  2589.0"
      ]
     },
     "execution_count": 33,
     "metadata": {},
     "output_type": "execute_result"
    }
   ],
   "source": [
    "# Application du NMS\n",
    "filtered_train_df = get_filtered_train_df(train_df, iou_threshold=1.0)\n",
    "\n",
    "# Vérification rapide du résultat\n",
    "print(f\"Boîtes avant/après : {len(train_df)} → {len(filtered_train_df)}\")\n",
    "filtered_train_df[['Image_ID', 'class', 'ymin', 'xmin', 'ymax', 'xmax']].head(2)"
   ]
  },
  {
   "cell_type": "code",
   "execution_count": 34,
   "id": "c69611a5",
   "metadata": {
    "execution": {
     "iopub.execute_input": "2025-05-25T00:54:31.911400Z",
     "iopub.status.busy": "2025-05-25T00:54:31.910694Z",
     "iopub.status.idle": "2025-05-25T00:54:31.943259Z",
     "shell.execute_reply": "2025-05-25T00:54:31.942423Z"
    },
    "papermill": {
     "duration": 0.192016,
     "end_time": "2025-05-25T00:54:31.944462",
     "exception": false,
     "start_time": "2025-05-25T00:54:31.752446",
     "status": "completed"
    },
    "tags": []
   },
   "outputs": [
    {
     "name": "stdout",
     "output_type": "stream",
     "text": [
      "Top 5 suppressions:\n",
      " Image_ID\n",
      "ID_5dca7b9d.jpg    0\n",
      "ID_ced623cc.jpg    0\n",
      "ID_e4cd286d.jpg    0\n",
      "ID_a00f2aba.jpg    0\n",
      "ID_b7263c47.jpg    0\n",
      "Name: count, dtype: int64\n"
     ]
    }
   ],
   "source": [
    "print(\"Top 5 suppressions:\\n\", (train_df['Image_ID'].value_counts() - filtered_train_df['Image_ID'].value_counts()).nlargest(5))"
   ]
  },
  {
   "cell_type": "code",
   "execution_count": 35,
   "id": "b9177e05",
   "metadata": {
    "execution": {
     "iopub.execute_input": "2025-05-25T00:54:32.149029Z",
     "iopub.status.busy": "2025-05-25T00:54:32.148762Z",
     "iopub.status.idle": "2025-05-25T00:54:32.714504Z",
     "shell.execute_reply": "2025-05-25T00:54:32.713835Z"
    },
    "papermill": {
     "duration": 0.672739,
     "end_time": "2025-05-25T00:54:32.715885",
     "exception": false,
     "start_time": "2025-05-25T00:54:32.043146",
     "status": "completed"
    },
    "tags": []
   },
   "outputs": [],
   "source": [
    "# Facultatif : filtered_train_df le nouveau fichier prend le relais \n",
    "filtered_train_df.to_csv(WORK_DIR / \"filtered_train_df.csv\", index=False)"
   ]
  },
  {
   "cell_type": "code",
   "execution_count": 36,
   "id": "daec7964",
   "metadata": {
    "execution": {
     "iopub.execute_input": "2025-05-25T00:54:32.914616Z",
     "iopub.status.busy": "2025-05-25T00:54:32.914311Z",
     "iopub.status.idle": "2025-05-25T00:54:33.017833Z",
     "shell.execute_reply": "2025-05-25T00:54:33.017068Z"
    },
    "papermill": {
     "duration": 0.205815,
     "end_time": "2025-05-25T00:54:33.019080",
     "exception": false,
     "start_time": "2025-05-25T00:54:32.813265",
     "status": "completed"
    },
    "tags": []
   },
   "outputs": [
    {
     "name": "stdout",
     "output_type": "stream",
     "text": [
      "\n",
      "==================================================\n",
      "📊 ANALYSE DÉTAILLÉE DU FILTRAGE NMS\n",
      "🔧 Seuil IoU utilisé : ****\n",
      "==================================================\n",
      "\n",
      "● STATISTIQUES GLOBALES\n",
      "Boîtes avant NMS : 91419\n",
      "Boîtes après NMS : 91419\n",
      "Boîtes supprimées : 0 (0.0%)\n",
      "\n",
      "● ANALYSE PAR CLASSE\n",
      "Classe          |  Avant |  Après | Suppr. |      %\n",
      "---------------------------------------------\n",
      "maize_streak_disease |  13327 |  13327 |      0 |   0.0%\n",
      "fall_armyworm   |  54179 |  54179 |      0 |   0.0%\n",
      "healthy         |  23913 |  23913 |      0 |   0.0%\n",
      "\n",
      "● TOP 5 IMAGES AVEC PLUS DE SUPPRESSIONS\n",
      "Image_ID\n",
      "ID_5dca7b9d.jpg    0\n",
      "ID_ced623cc.jpg    0\n",
      "ID_e4cd286d.jpg    0\n",
      "ID_a00f2aba.jpg    0\n",
      "ID_b7263c47.jpg    0\n",
      "\n",
      "● APERÇU DES DONNÉES FILTRÉES\n"
     ]
    },
    {
     "data": {
      "text/html": [
       "<div>\n",
       "<style scoped>\n",
       "    .dataframe tbody tr th:only-of-type {\n",
       "        vertical-align: middle;\n",
       "    }\n",
       "\n",
       "    .dataframe tbody tr th {\n",
       "        vertical-align: top;\n",
       "    }\n",
       "\n",
       "    .dataframe thead th {\n",
       "        text-align: right;\n",
       "    }\n",
       "</style>\n",
       "<table border=\"1\" class=\"dataframe\">\n",
       "  <thead>\n",
       "    <tr style=\"text-align: right;\">\n",
       "      <th></th>\n",
       "      <th>Image_ID</th>\n",
       "      <th>class</th>\n",
       "      <th>confidence</th>\n",
       "    </tr>\n",
       "  </thead>\n",
       "  <tbody>\n",
       "    <tr>\n",
       "      <th>0</th>\n",
       "      <td>ID_625a7f2c.jpg</td>\n",
       "      <td>maize_streak_disease</td>\n",
       "      <td>1.0</td>\n",
       "    </tr>\n",
       "    <tr>\n",
       "      <th>1</th>\n",
       "      <td>ID_e959e603.jpg</td>\n",
       "      <td>fall_armyworm</td>\n",
       "      <td>1.0</td>\n",
       "    </tr>\n",
       "  </tbody>\n",
       "</table>\n",
       "</div>"
      ],
      "text/plain": [
       "          Image_ID                 class  confidence\n",
       "0  ID_625a7f2c.jpg  maize_streak_disease         1.0\n",
       "1  ID_e959e603.jpg         fall_armyworm         1.0"
      ]
     },
     "metadata": {},
     "output_type": "display_data"
    }
   ],
   "source": [
    "# =====================\n",
    "# ANALYSE DES RÉSULTATS\n",
    "# =====================\n",
    "\n",
    "# 1. Statistiques globales\n",
    "total_avant = len(train_df)\n",
    "total_apres = len(filtered_train_df)\n",
    "boites_supprimees = total_avant - total_apres\n",
    "pourcentage_supprime = (boites_supprimees / total_avant) * 100\n",
    "\n",
    "# 2. Statistiques par classe\n",
    "stats_classes = []\n",
    "for classe in train_df['class'].unique():\n",
    "    nb_avant = len(train_df[train_df['class'] == classe])\n",
    "    nb_apres = len(filtered_train_df[filtered_train_df['class'] == classe])\n",
    "    suppression = nb_avant - nb_apres\n",
    "    stats_classes.append((classe, nb_avant, nb_apres, suppression, suppression/nb_avant*100))\n",
    "\n",
    "# 3. Images les plus impactées\n",
    "top_images = (train_df['Image_ID'].value_counts() \n",
    "              - filtered_train_df['Image_ID'].value_counts()).nlargest(5)\n",
    "\n",
    "# =====================\n",
    "# AFFICHAGE DES RÉSULTATS\n",
    "# =====================\n",
    "\n",
    "# Entête\n",
    "print(\"\\n\" + \"=\"*50)\n",
    "print(\"📊 ANALYSE DÉTAILLÉE DU FILTRAGE NMS\")\n",
    "print(f\"🔧 Seuil IoU utilisé : ****\")\n",
    "print(\"=\"*50)\n",
    "\n",
    "# Section 1: Totaux\n",
    "print(\"\\n● STATISTIQUES GLOBALES\")\n",
    "print(f\"Boîtes avant NMS : {total_avant}\")\n",
    "print(f\"Boîtes après NMS : {total_apres}\")\n",
    "print(f\"Boîtes supprimées : {boites_supprimees} ({pourcentage_supprime:.1f}%)\")\n",
    "\n",
    "# Section 2: Par classe\n",
    "print(\"\\n● ANALYSE PAR CLASSE\")\n",
    "print(f\"{'Classe':<15} | {'Avant':>6} | {'Après':>6} | {'Suppr.':>6} | {'%':>6}\")\n",
    "print(\"-\"*45)\n",
    "for classe, av, ap, suppr, pct in stats_classes:\n",
    "    print(f\"{classe:<15} | {av:>6} | {ap:>6} | {suppr:>6} | {pct:>5.1f}%\")\n",
    "\n",
    "# Section 3: Images problématiques\n",
    "print(\"\\n● TOP 5 IMAGES AVEC PLUS DE SUPPRESSIONS\")\n",
    "print(top_images.to_string())\n",
    "\n",
    "# Section 4: Aperçu\n",
    "print(\"\\n● APERÇU DES DONNÉES FILTRÉES\")\n",
    "display(filtered_train_df[['Image_ID', 'class', 'confidence']].head(2))"
   ]
  },
  {
   "cell_type": "code",
   "execution_count": 37,
   "id": "e813af0f",
   "metadata": {
    "execution": {
     "iopub.execute_input": "2025-05-25T00:54:33.218086Z",
     "iopub.status.busy": "2025-05-25T00:54:33.217832Z",
     "iopub.status.idle": "2025-05-25T00:54:33.365903Z",
     "shell.execute_reply": "2025-05-25T00:54:33.365178Z"
    },
    "papermill": {
     "duration": 0.248822,
     "end_time": "2025-05-25T00:54:33.367276",
     "exception": false,
     "start_time": "2025-05-25T00:54:33.118454",
     "status": "completed"
    },
    "tags": []
   },
   "outputs": [],
   "source": [
    "all_data_df = pd.read_csv(WORK_DIR / \"filtered_train_df.csv\")\n"
   ]
  },
  {
   "cell_type": "code",
   "execution_count": 38,
   "id": "bc28aa97",
   "metadata": {
    "execution": {
     "iopub.execute_input": "2025-05-25T00:54:33.565422Z",
     "iopub.status.busy": "2025-05-25T00:54:33.564825Z",
     "iopub.status.idle": "2025-05-25T00:54:34.175900Z",
     "shell.execute_reply": "2025-05-25T00:54:34.175105Z"
    },
    "papermill": {
     "duration": 0.714496,
     "end_time": "2025-05-25T00:54:34.177075",
     "exception": false,
     "start_time": "2025-05-25T00:54:33.462579",
     "status": "completed"
    },
    "tags": []
   },
   "outputs": [
    {
     "data": {
      "image/png": "[encoded data removed]",
      "text/plain": [
       "<Figure size 1200x700 with 1 Axes>"
      ]
     },
     "metadata": {},
     "output_type": "display_data"
    }
   ],
   "source": [
    "import seaborn as sns\n",
    "import matplotlib.pyplot as plt\n",
    "\n",
    "# Compter le nombre d'instances par classe\n",
    "class_counts = all_data_df['class'].value_counts()\n",
    "\n",
    "# Paramètres de style\n",
    "sns.set_style(\"white\")\n",
    "plt.figure(figsize=(12, 7))\n",
    "\n",
    "# Création du barplot avec barres épaisses\n",
    "barplot = sns.barplot(x=class_counts.index, \n",
    "                      y=class_counts.values, \n",
    "                      hue=class_counts.index, \n",
    "                      palette='plasma',\n",
    "                      dodge=False,\n",
    "                      width=0.7)\n",
    "\n",
    "# Rotation des étiquettes de l'axe x (90 degrés pour vertical)\n",
    "plt.xticks(rotation=90, fontsize=11, ha='center')  # rotation=90 pour vertical\n",
    "\n",
    "# Affichage des valeurs sur les barres\n",
    "for i, value in enumerate(class_counts.values):\n",
    "    barplot.text(i, \n",
    "                 value + 0.02 * max(class_counts.values),\n",
    "                 f\"{value:,}\", \n",
    "                 ha='center', \n",
    "                 va='bottom', \n",
    "                 fontsize=11,\n",
    "                 fontweight='bold',\n",
    "                 color='black')\n",
    "\n",
    "# Titres et labels\n",
    "plt.title('Distribution des instances par classe\\n(100% des données)', fontsize=14, pad=20)\n",
    "plt.xlabel('Classe', fontsize=12, labelpad=10)\n",
    "plt.ylabel(\"Nombre d'instances\", fontsize=12, labelpad=10)\n",
    "\n",
    "# Ajustement des axes et apparence\n",
    "plt.ylim(0, max(class_counts.values) * 1.15)\n",
    "plt.yticks(fontsize=11)\n",
    "plt.legend().remove()\n",
    "sns.despine(left=True)\n",
    "\n",
    "# Ajuster les marges pour accommoder les étiquettes verticales\n",
    "plt.tight_layout()\n",
    "\n",
    "plt.show()"
   ]
  },
  {
   "cell_type": "code",
   "execution_count": 39,
   "id": "dc34b71a",
   "metadata": {
    "execution": {
     "iopub.execute_input": "2025-05-25T00:54:34.372862Z",
     "iopub.status.busy": "2025-05-25T00:54:34.371954Z",
     "iopub.status.idle": "2025-05-25T00:54:34.515542Z",
     "shell.execute_reply": "2025-05-25T00:54:34.514654Z"
    },
    "papermill": {
     "duration": 0.242754,
     "end_time": "2025-05-25T00:54:34.516977",
     "exception": false,
     "start_time": "2025-05-25T00:54:34.274223",
     "status": "completed"
    },
    "tags": []
   },
   "outputs": [],
   "source": [
    "# Facultatif : filtered_train_df le nouveau fichier prend le relais \n",
    "train_df = pd.read_csv(WORK_DIR / \"filtered_train_df.csv\")\n"
   ]
  },
  {
   "cell_type": "code",
   "execution_count": 40,
   "id": "bde98602",
   "metadata": {
    "execution": {
     "iopub.execute_input": "2025-05-25T00:54:34.712458Z",
     "iopub.status.busy": "2025-05-25T00:54:34.711685Z",
     "iopub.status.idle": "2025-05-25T00:54:34.724107Z",
     "shell.execute_reply": "2025-05-25T00:54:34.723187Z"
    },
    "papermill": {
     "duration": 0.110321,
     "end_time": "2025-05-25T00:54:34.725551",
     "exception": false,
     "start_time": "2025-05-25T00:54:34.615230",
     "status": "completed"
    },
    "tags": []
   },
   "outputs": [
    {
     "name": "stdout",
     "output_type": "stream",
     "text": [
      "Intsnce par classe pour l'ensemble total d'entrainemen class\n",
      "fall_armyworm           54179\n",
      "healthy                 23913\n",
      "maize_streak_disease    13327\n",
      "Name: count, dtype: int64\n",
      "Max instance count (classe majoritaire) : 54179\n"
     ]
    }
   ],
   "source": [
    "\n",
    "# === Nombre d'instances par classe ===\n",
    "class_counts = train_df['class'].value_counts()\n",
    "\n",
    "print(\"Intsnce par classe pour l'ensemble total d'entrainemen\", class_counts)\n",
    "max_count = class_counts.max()\n",
    "print(\"Max instance count (classe majoritaire) :\", max_count)"
   ]
  },
  {
   "cell_type": "code",
   "execution_count": 41,
   "id": "b2d5e0cc",
   "metadata": {
    "execution": {
     "iopub.execute_input": "2025-05-25T00:54:34.937096Z",
     "iopub.status.busy": "2025-05-25T00:54:34.936817Z",
     "iopub.status.idle": "2025-05-25T00:54:34.956274Z",
     "shell.execute_reply": "2025-05-25T00:54:34.955221Z"
    },
    "papermill": {
     "duration": 0.124872,
     "end_time": "2025-05-25T00:54:34.957581",
     "exception": false,
     "start_time": "2025-05-25T00:54:34.832709",
     "status": "completed"
    },
    "tags": []
   },
   "outputs": [
    {
     "name": "stdout",
     "output_type": "stream",
     "text": [
      "Nombre d’images uniques par classe :\n",
      " class\n",
      "fall_armyworm           5591\n",
      "healthy                 5228\n",
      "maize_streak_disease    6149\n",
      "Name: Image_ID, dtype: int64\n"
     ]
    }
   ],
   "source": [
    "unique_images_per_class = train_df.groupby('class')['Image_ID'].nunique()\n",
    "\n",
    "print(\"Nombre d’images uniques par classe :\\n\", unique_images_per_class)\n"
   ]
  },
  {
   "cell_type": "code",
   "execution_count": 42,
   "id": "52f1b827",
   "metadata": {
    "execution": {
     "iopub.execute_input": "2025-05-25T00:54:35.162919Z",
     "iopub.status.busy": "2025-05-25T00:54:35.162302Z",
     "iopub.status.idle": "2025-05-25T00:54:35.165930Z",
     "shell.execute_reply": "2025-05-25T00:54:35.165165Z"
    },
    "papermill": {
     "duration": 0.105261,
     "end_time": "2025-05-25T00:54:35.167076",
     "exception": false,
     "start_time": "2025-05-25T00:54:35.061815",
     "status": "completed"
    },
    "tags": []
   },
   "outputs": [],
   "source": [
    "duplicated_rows = []\n"
   ]
  },
  {
   "cell_type": "markdown",
   "id": "77d7ece4",
   "metadata": {
    "execution": {
     "iopub.execute_input": "2025-05-24T12:44:25.548789Z",
     "iopub.status.busy": "2025-05-24T12:44:25.548120Z",
     "iopub.status.idle": "2025-05-24T12:44:25.561711Z",
     "shell.execute_reply": "2025-05-24T12:44:25.561020Z",
     "shell.execute_reply.started": "2025-05-24T12:44:25.548768Z"
    },
    "papermill": {
     "duration": 0.097295,
     "end_time": "2025-05-25T00:54:35.358520",
     "exception": false,
     "start_time": "2025-05-25T00:54:35.261225",
     "status": "completed"
    },
    "tags": []
   },
   "source": [
    "# Création de l'arborescence\n",
    "#NEW_TRAIN_IMAGES_DIR = WORK_DIR / \"images/train\"\n",
    "#ORIG_TRAIN_LABELS_DIR\n",
    "\n",
    "#NEW_TRAIN_LABELS_DIR = WORK_DIR / \"labels/train\"\n",
    "\n",
    "NEW_TRAIN_LABELS_DIR =\"/kaggle/input/corn-maize-computer-vision/maize/ds/labels/train\"\n"
   ]
  },
  {
   "cell_type": "code",
   "execution_count": null,
   "id": "0de3ad7c",
   "metadata": {
    "papermill": {
     "duration": 0.095299,
     "end_time": "2025-05-25T00:54:35.549099",
     "exception": false,
     "start_time": "2025-05-25T00:54:35.453800",
     "status": "completed"
    },
    "tags": []
   },
   "outputs": [],
   "source": []
  },
  {
   "cell_type": "code",
   "execution_count": 43,
   "id": "7cc17f61",
   "metadata": {
    "execution": {
     "iopub.execute_input": "2025-05-25T00:54:35.847917Z",
     "iopub.status.busy": "2025-05-25T00:54:35.847333Z",
     "iopub.status.idle": "2025-05-25T00:54:35.851448Z",
     "shell.execute_reply": "2025-05-25T00:54:35.850577Z"
    },
    "papermill": {
     "duration": 0.142179,
     "end_time": "2025-05-25T00:54:35.852748",
     "exception": false,
     "start_time": "2025-05-25T00:54:35.710569",
     "status": "completed"
    },
    "tags": []
   },
   "outputs": [],
   "source": [
    "# Fonction utilitaire\n",
    "def count_files(directory):\n",
    "    return len(list(directory.glob('*')))"
   ]
  },
  {
   "cell_type": "code",
   "execution_count": null,
   "id": "d5859574",
   "metadata": {
    "papermill": {
     "duration": 0.101558,
     "end_time": "2025-05-25T00:54:36.054572",
     "exception": false,
     "start_time": "2025-05-25T00:54:35.953014",
     "status": "completed"
    },
    "tags": []
   },
   "outputs": [],
   "source": []
  },
  {
   "cell_type": "code",
   "execution_count": null,
   "id": "52fb88c1",
   "metadata": {
    "papermill": {
     "duration": 0.096944,
     "end_time": "2025-05-25T00:54:36.253392",
     "exception": false,
     "start_time": "2025-05-25T00:54:36.156448",
     "status": "completed"
    },
    "tags": []
   },
   "outputs": [],
   "source": []
  },
  {
   "cell_type": "code",
   "execution_count": null,
   "id": "1a9f924e",
   "metadata": {
    "papermill": {
     "duration": 0.101261,
     "end_time": "2025-05-25T00:54:36.455204",
     "exception": false,
     "start_time": "2025-05-25T00:54:36.353943",
     "status": "completed"
    },
    "tags": []
   },
   "outputs": [],
   "source": []
  },
  {
   "cell_type": "code",
   "execution_count": 44,
   "id": "947ea44d",
   "metadata": {
    "execution": {
     "iopub.execute_input": "2025-05-25T00:54:36.664647Z",
     "iopub.status.busy": "2025-05-25T00:54:36.664182Z",
     "iopub.status.idle": "2025-05-25T00:54:36.675074Z",
     "shell.execute_reply": "2025-05-25T00:54:36.674196Z"
    },
    "papermill": {
     "duration": 0.114808,
     "end_time": "2025-05-25T00:54:36.676415",
     "exception": false,
     "start_time": "2025-05-25T00:54:36.561607",
     "status": "completed"
    },
    "tags": []
   },
   "outputs": [
    {
     "name": "stdout",
     "output_type": "stream",
     "text": [
      "False\n"
     ]
    }
   ],
   "source": [
    "from pathlib import Path\n",
    "\n",
    "image_name = \"ID_0a1d43a6.jpg\"\n",
    "existe = (ORIG_TRAIN_IMAGES_DIR / image_name).exists()\n",
    "print(existe)"
   ]
  },
  {
   "cell_type": "code",
   "execution_count": 45,
   "id": "d82ae499",
   "metadata": {
    "execution": {
     "iopub.execute_input": "2025-05-25T00:54:36.889903Z",
     "iopub.status.busy": "2025-05-25T00:54:36.889216Z",
     "iopub.status.idle": "2025-05-25T00:54:37.046828Z",
     "shell.execute_reply": "2025-05-25T00:54:37.045827Z"
    },
    "papermill": {
     "duration": 0.265397,
     "end_time": "2025-05-25T00:54:37.048233",
     "exception": false,
     "start_time": "2025-05-25T00:54:36.782836",
     "status": "completed"
    },
    "tags": []
   },
   "outputs": [
    {
     "name": "stdout",
     "output_type": "stream",
     "text": [
      "=== VÉRIFICATION INITIALE ===\n",
      "Annotations totales: 91,419\n",
      "Images uniques: 16,761\n",
      "\n",
      "Distribution initiale:\n",
      "class\n",
      "fall_armyworm           54179\n",
      "healthy                 23913\n",
      "maize_streak_disease    13327\n",
      "Name: count, dtype: int64\n",
      "\n",
      "=== TRAIN ===\n",
      "Annotations: 72,358\n",
      "Images uniques: 13,408\n",
      "\n",
      "Distribution absolue:\n",
      "class\n",
      "fall_armyworm           42689\n",
      "healthy                 19019\n",
      "maize_streak_disease    10650\n",
      "Name: count, dtype: int64\n",
      "\n",
      "Distribution relative:\n",
      "class\n",
      "fall_armyworm           0.590\n",
      "healthy                 0.263\n",
      "maize_streak_disease    0.147\n",
      "Name: count, dtype: float64\n",
      "Écart max: 32039 annotations\n",
      "\n",
      "=== STATS PAR CLASSE - TRAIN ===\n",
      "                      Annotations  Images_uniques\n",
      "class                                            \n",
      "fall_armyworm               42689            4475\n",
      "healthy                     19019            4186\n",
      "maize_streak_disease        10650            4924\n",
      "\n",
      "Total images uniques (TRAIN): 13,408\n",
      "\n",
      "=== VALIDATION ===\n",
      "Annotations: 19,061\n",
      "Images uniques: 3,353\n",
      "\n",
      "Distribution absolue:\n",
      "class\n",
      "fall_armyworm           11490\n",
      "healthy                  4894\n",
      "maize_streak_disease     2677\n",
      "Name: count, dtype: int64\n",
      "\n",
      "Distribution relative:\n",
      "class\n",
      "fall_armyworm           0.603\n",
      "healthy                 0.257\n",
      "maize_streak_disease    0.140\n",
      "Name: count, dtype: float64\n",
      "Écart max: 8813 annotations\n",
      "\n",
      "=== STATS PAR CLASSE - VALIDATION ===\n",
      "                      Annotations  Images_uniques\n",
      "class                                            \n",
      "fall_armyworm               11490            1116\n",
      "healthy                      4894            1042\n",
      "maize_streak_disease         2677            1225\n",
      "\n",
      "Total images uniques (VALIDATION): 3,353\n",
      "\n",
      "✅ Vérifications d'intégrité passées\n"
     ]
    }
   ],
   "source": [
    "from sklearn.model_selection import train_test_split\n",
    "import pandas as pd\n",
    "import numpy as np\n",
    "from copy import deepcopy\n",
    "\n",
    "# 0. Copie protégée des données ORIGINALES (avant duplication)\n",
    "original_train_df = deepcopy(train_df)  # Assurez-vous que train_df n'est pas déjà dupliqué\n",
    "\n",
    "# 1. Vérification initiale\n",
    "print(\"=== VÉRIFICATION INITIALE ===\")\n",
    "print(f\"Annotations totales: {len(original_train_df):,}\")\n",
    "print(f\"Images uniques: {original_train_df['Image_ID'].nunique():,}\")\n",
    "print(\"\\nDistribution initiale:\")\n",
    "print(original_train_df['class'].value_counts())\n",
    "\n",
    "# 2. Séparation INITIALE en train/val (avant duplication)\n",
    "def initial_pure_split(df, test_size=0.2):\n",
    "    # On groupe par image et on garde la première classe associée (stratification)\n",
    "    image_classes = df.groupby('Image_ID')['class'].first().reset_index()\n",
    "    \n",
    "    # Split stratifié au niveau des images\n",
    "    train_img_ids, val_img_ids = train_test_split(\n",
    "        image_classes['Image_ID'],\n",
    "        test_size=test_size,\n",
    "        stratify=image_classes['class'],\n",
    "        random_state=42\n",
    "    )\n",
    "    \n",
    "    return (\n",
    "        df[df['Image_ID'].isin(train_img_ids)].copy(),  # Train initial\n",
    "        df[df['Image_ID'].isin(val_img_ids)].copy()    # Val pur (à ne pas dupliquer)\n",
    "    )\n",
    "\n",
    "# 3. Application du split initial\n",
    "train_split, val_split = initial_pure_split(original_train_df)\n",
    "\n",
    "# 4. [Votre code de duplication ici...]\n",
    "\n",
    "# 5. Après duplication, recréer les listes d'identifiants\n",
    "train_names = train_split['Image_ID'].unique().tolist()  \n",
    "val_names = val_split['Image_ID'].unique().tolist()      # Reste pur\n",
    "\n",
    "# 5. Fonction pour afficher les stats par classe\n",
    "def print_class_stats(df, name):\n",
    "    print(f\"\\n=== STATS PAR CLASSE - {name.upper()} ===\")\n",
    "    stats = df.groupby('class')['Image_ID'].agg(['count', 'nunique'])\n",
    "    stats.columns = ['Annotations', 'Images_uniques']\n",
    "    print(stats)\n",
    "    print(f\"\\nTotal images uniques ({name}): {df['Image_ID'].nunique():,}\")\n",
    "\n",
    "# 6. Fonction pour vérifier l'équilibre des classes\n",
    "def verify_balance(df, name):\n",
    "    counts = df['class'].value_counts()\n",
    "    print(f\"\\n=== {name.upper()} ===\")\n",
    "    print(f\"Annotations: {len(df):,}\")\n",
    "    print(f\"Images uniques: {df['Image_ID'].nunique():,}\")\n",
    "    print(\"\\nDistribution absolue:\")\n",
    "    print(counts)\n",
    "    print(\"\\nDistribution relative:\")\n",
    "    print((counts / counts.sum()).round(3))\n",
    "    print(f\"Écart max: {counts.max() - counts.min()} annotations\")\n",
    "\n",
    "# 7. Vérifications originales + nouvelles stats\n",
    "verify_balance(train_split, \"TRAIN\")\n",
    "print_class_stats(train_split, \"TRAIN\")\n",
    "\n",
    "verify_balance(val_split, \"VALIDATION\") \n",
    "print_class_stats(val_split, \"VALIDATION\")\n",
    "\n",
    "# 8. Vérification d'intégrité (inchangée)\n",
    "common_images = set(train_split['Image_ID']) & set(val_split['Image_ID'])\n",
    "assert len(common_images) == 0, f\"Fuites détectées: {len(common_images)} images en commun\"\n",
    "assert abs(len(train_split) + len(val_split) - len(original_train_df)) <= 1, \"Perte de données\"\n",
    "print(\"\\n✅ Vérifications d'intégrité passées\")\n"
   ]
  },
  {
   "cell_type": "code",
   "execution_count": 46,
   "id": "36a46917",
   "metadata": {
    "execution": {
     "iopub.execute_input": "2025-05-25T00:54:37.255508Z",
     "iopub.status.busy": "2025-05-25T00:54:37.254757Z",
     "iopub.status.idle": "2025-05-25T00:54:37.262537Z",
     "shell.execute_reply": "2025-05-25T00:54:37.261831Z"
    },
    "papermill": {
     "duration": 0.113168,
     "end_time": "2025-05-25T00:54:37.263880",
     "exception": false,
     "start_time": "2025-05-25T00:54:37.150712",
     "status": "completed"
    },
    "tags": []
   },
   "outputs": [],
   "source": [
    "train_df = train_split.copy()\n",
    "val_df = val_split.copy()\n"
   ]
  },
  {
   "cell_type": "code",
   "execution_count": 47,
   "id": "24cc5722",
   "metadata": {
    "execution": {
     "iopub.execute_input": "2025-05-25T00:54:37.466697Z",
     "iopub.status.busy": "2025-05-25T00:54:37.466422Z",
     "iopub.status.idle": "2025-05-25T00:54:37.480033Z",
     "shell.execute_reply": "2025-05-25T00:54:37.479232Z"
    },
    "papermill": {
     "duration": 0.117086,
     "end_time": "2025-05-25T00:54:37.481459",
     "exception": false,
     "start_time": "2025-05-25T00:54:37.364373",
     "status": "completed"
    },
    "tags": []
   },
   "outputs": [
    {
     "data": {
      "text/html": [
       "<div>\n",
       "<style scoped>\n",
       "    .dataframe tbody tr th:only-of-type {\n",
       "        vertical-align: middle;\n",
       "    }\n",
       "\n",
       "    .dataframe tbody tr th {\n",
       "        vertical-align: top;\n",
       "    }\n",
       "\n",
       "    .dataframe thead th {\n",
       "        text-align: right;\n",
       "    }\n",
       "</style>\n",
       "<table border=\"1\" class=\"dataframe\">\n",
       "  <thead>\n",
       "    <tr style=\"text-align: right;\">\n",
       "      <th></th>\n",
       "      <th>Image_ID</th>\n",
       "      <th>class</th>\n",
       "      <th>confidence</th>\n",
       "      <th>ymin</th>\n",
       "      <th>xmin</th>\n",
       "      <th>ymax</th>\n",
       "      <th>xmax</th>\n",
       "      <th>class_id</th>\n",
       "      <th>ImagePath</th>\n",
       "    </tr>\n",
       "  </thead>\n",
       "  <tbody>\n",
       "    <tr>\n",
       "      <th>0</th>\n",
       "      <td>ID_625a7f2c.jpg</td>\n",
       "      <td>maize_streak_disease</td>\n",
       "      <td>1.0</td>\n",
       "      <td>1374.0</td>\n",
       "      <td>35.0</td>\n",
       "      <td>4608.0</td>\n",
       "      <td>2731.0</td>\n",
       "      <td>2</td>\n",
       "      <td>images/train/ID_625a7f2c.jpg</td>\n",
       "    </tr>\n",
       "    <tr>\n",
       "      <th>23</th>\n",
       "      <td>ID_5f5daa1a.jpg</td>\n",
       "      <td>healthy</td>\n",
       "      <td>1.0</td>\n",
       "      <td>1091.0</td>\n",
       "      <td>656.0</td>\n",
       "      <td>1343.0</td>\n",
       "      <td>924.0</td>\n",
       "      <td>0</td>\n",
       "      <td>images/train/ID_5f5daa1a.jpg</td>\n",
       "    </tr>\n",
       "    <tr>\n",
       "      <th>24</th>\n",
       "      <td>ID_5f5daa1a.jpg</td>\n",
       "      <td>healthy</td>\n",
       "      <td>1.0</td>\n",
       "      <td>705.0</td>\n",
       "      <td>46.0</td>\n",
       "      <td>1180.0</td>\n",
       "      <td>336.0</td>\n",
       "      <td>0</td>\n",
       "      <td>images/train/ID_5f5daa1a.jpg</td>\n",
       "    </tr>\n",
       "    <tr>\n",
       "      <th>25</th>\n",
       "      <td>ID_5f5daa1a.jpg</td>\n",
       "      <td>healthy</td>\n",
       "      <td>1.0</td>\n",
       "      <td>1091.0</td>\n",
       "      <td>1283.0</td>\n",
       "      <td>1536.0</td>\n",
       "      <td>1970.0</td>\n",
       "      <td>0</td>\n",
       "      <td>images/train/ID_5f5daa1a.jpg</td>\n",
       "    </tr>\n",
       "    <tr>\n",
       "      <th>26</th>\n",
       "      <td>ID_5f5daa1a.jpg</td>\n",
       "      <td>healthy</td>\n",
       "      <td>1.0</td>\n",
       "      <td>886.0</td>\n",
       "      <td>1834.0</td>\n",
       "      <td>1222.0</td>\n",
       "      <td>2048.0</td>\n",
       "      <td>0</td>\n",
       "      <td>images/train/ID_5f5daa1a.jpg</td>\n",
       "    </tr>\n",
       "  </tbody>\n",
       "</table>\n",
       "</div>"
      ],
      "text/plain": [
       "           Image_ID                 class  confidence    ymin    xmin    ymax  \\\n",
       "0   ID_625a7f2c.jpg  maize_streak_disease         1.0  1374.0    35.0  4608.0   \n",
       "23  ID_5f5daa1a.jpg               healthy         1.0  1091.0   656.0  1343.0   \n",
       "24  ID_5f5daa1a.jpg               healthy         1.0   705.0    46.0  1180.0   \n",
       "25  ID_5f5daa1a.jpg               healthy         1.0  1091.0  1283.0  1536.0   \n",
       "26  ID_5f5daa1a.jpg               healthy         1.0   886.0  1834.0  1222.0   \n",
       "\n",
       "      xmax  class_id                     ImagePath  \n",
       "0   2731.0         2  images/train/ID_625a7f2c.jpg  \n",
       "23   924.0         0  images/train/ID_5f5daa1a.jpg  \n",
       "24   336.0         0  images/train/ID_5f5daa1a.jpg  \n",
       "25  1970.0         0  images/train/ID_5f5daa1a.jpg  \n",
       "26  2048.0         0  images/train/ID_5f5daa1a.jpg  "
      ]
     },
     "execution_count": 47,
     "metadata": {},
     "output_type": "execute_result"
    }
   ],
   "source": [
    "train_df.head()"
   ]
  },
  {
   "cell_type": "code",
   "execution_count": 48,
   "id": "1eda2c51",
   "metadata": {
    "execution": {
     "iopub.execute_input": "2025-05-25T00:54:37.686510Z",
     "iopub.status.busy": "2025-05-25T00:54:37.685816Z",
     "iopub.status.idle": "2025-05-25T00:54:37.698137Z",
     "shell.execute_reply": "2025-05-25T00:54:37.697512Z"
    },
    "papermill": {
     "duration": 0.113166,
     "end_time": "2025-05-25T00:54:37.699382",
     "exception": false,
     "start_time": "2025-05-25T00:54:37.586216",
     "status": "completed"
    },
    "tags": []
   },
   "outputs": [
    {
     "data": {
      "text/html": [
       "<div>\n",
       "<style scoped>\n",
       "    .dataframe tbody tr th:only-of-type {\n",
       "        vertical-align: middle;\n",
       "    }\n",
       "\n",
       "    .dataframe tbody tr th {\n",
       "        vertical-align: top;\n",
       "    }\n",
       "\n",
       "    .dataframe thead th {\n",
       "        text-align: right;\n",
       "    }\n",
       "</style>\n",
       "<table border=\"1\" class=\"dataframe\">\n",
       "  <thead>\n",
       "    <tr style=\"text-align: right;\">\n",
       "      <th></th>\n",
       "      <th>Image_ID</th>\n",
       "      <th>class</th>\n",
       "      <th>confidence</th>\n",
       "      <th>ymin</th>\n",
       "      <th>xmin</th>\n",
       "      <th>ymax</th>\n",
       "      <th>xmax</th>\n",
       "      <th>class_id</th>\n",
       "      <th>ImagePath</th>\n",
       "    </tr>\n",
       "  </thead>\n",
       "  <tbody>\n",
       "    <tr>\n",
       "      <th>1</th>\n",
       "      <td>ID_e959e603.jpg</td>\n",
       "      <td>fall_armyworm</td>\n",
       "      <td>1.0</td>\n",
       "      <td>1802.0</td>\n",
       "      <td>2176.0</td>\n",
       "      <td>2268.0</td>\n",
       "      <td>2589.0</td>\n",
       "      <td>1</td>\n",
       "      <td>images/train/ID_e959e603.jpg</td>\n",
       "    </tr>\n",
       "    <tr>\n",
       "      <th>2</th>\n",
       "      <td>ID_e959e603.jpg</td>\n",
       "      <td>fall_armyworm</td>\n",
       "      <td>1.0</td>\n",
       "      <td>1183.0</td>\n",
       "      <td>2893.0</td>\n",
       "      <td>1396.0</td>\n",
       "      <td>3099.0</td>\n",
       "      <td>1</td>\n",
       "      <td>images/train/ID_e959e603.jpg</td>\n",
       "    </tr>\n",
       "    <tr>\n",
       "      <th>3</th>\n",
       "      <td>ID_e959e603.jpg</td>\n",
       "      <td>fall_armyworm</td>\n",
       "      <td>1.0</td>\n",
       "      <td>406.0</td>\n",
       "      <td>2204.0</td>\n",
       "      <td>1043.0</td>\n",
       "      <td>2617.0</td>\n",
       "      <td>1</td>\n",
       "      <td>images/train/ID_e959e603.jpg</td>\n",
       "    </tr>\n",
       "    <tr>\n",
       "      <th>4</th>\n",
       "      <td>ID_e959e603.jpg</td>\n",
       "      <td>fall_armyworm</td>\n",
       "      <td>1.0</td>\n",
       "      <td>305.0</td>\n",
       "      <td>3302.0</td>\n",
       "      <td>595.0</td>\n",
       "      <td>3712.0</td>\n",
       "      <td>1</td>\n",
       "      <td>images/train/ID_e959e603.jpg</td>\n",
       "    </tr>\n",
       "    <tr>\n",
       "      <th>5</th>\n",
       "      <td>ID_e959e603.jpg</td>\n",
       "      <td>fall_armyworm</td>\n",
       "      <td>1.0</td>\n",
       "      <td>361.0</td>\n",
       "      <td>2018.0</td>\n",
       "      <td>616.0</td>\n",
       "      <td>2148.0</td>\n",
       "      <td>1</td>\n",
       "      <td>images/train/ID_e959e603.jpg</td>\n",
       "    </tr>\n",
       "  </tbody>\n",
       "</table>\n",
       "</div>"
      ],
      "text/plain": [
       "          Image_ID          class  confidence    ymin    xmin    ymax    xmax  \\\n",
       "1  ID_e959e603.jpg  fall_armyworm         1.0  1802.0  2176.0  2268.0  2589.0   \n",
       "2  ID_e959e603.jpg  fall_armyworm         1.0  1183.0  2893.0  1396.0  3099.0   \n",
       "3  ID_e959e603.jpg  fall_armyworm         1.0   406.0  2204.0  1043.0  2617.0   \n",
       "4  ID_e959e603.jpg  fall_armyworm         1.0   305.0  3302.0   595.0  3712.0   \n",
       "5  ID_e959e603.jpg  fall_armyworm         1.0   361.0  2018.0   616.0  2148.0   \n",
       "\n",
       "   class_id                     ImagePath  \n",
       "1         1  images/train/ID_e959e603.jpg  \n",
       "2         1  images/train/ID_e959e603.jpg  \n",
       "3         1  images/train/ID_e959e603.jpg  \n",
       "4         1  images/train/ID_e959e603.jpg  \n",
       "5         1  images/train/ID_e959e603.jpg  "
      ]
     },
     "execution_count": 48,
     "metadata": {},
     "output_type": "execute_result"
    }
   ],
   "source": [
    "val_df.head()"
   ]
  },
  {
   "cell_type": "code",
   "execution_count": 49,
   "id": "034065a8",
   "metadata": {
    "execution": {
     "iopub.execute_input": "2025-05-25T00:54:37.955762Z",
     "iopub.status.busy": "2025-05-25T00:54:37.955194Z",
     "iopub.status.idle": "2025-05-25T00:54:38.206070Z",
     "shell.execute_reply": "2025-05-25T00:54:38.205105Z"
    },
    "papermill": {
     "duration": 0.353128,
     "end_time": "2025-05-25T00:54:38.207434",
     "exception": false,
     "start_time": "2025-05-25T00:54:37.854306",
     "status": "completed"
    },
    "tags": []
   },
   "outputs": [
    {
     "data": {
      "image/png": "[encoded data removed]",
      "text/plain": [
       "<Figure size 1200x600 with 1 Axes>"
      ]
     },
     "metadata": {},
     "output_type": "display_data"
    }
   ],
   "source": [
    "import matplotlib.pyplot as plt\n",
    "import seaborn as sns\n",
    "\n",
    "# Compter le nombre d'instances (annotations) par classe\n",
    "class_counts = train_split['class'].value_counts()\n",
    "\n",
    "# Plot\n",
    "plt.figure(figsize=(12, 6))\n",
    "sns.barplot(\n",
    "    x=class_counts.index,\n",
    "    y=class_counts.values,\n",
    ")\n",
    "\n",
    "# Affichage des valeurs au-dessus des barres\n",
    "for i, value in enumerate(class_counts.values):\n",
    "    plt.text(i, value + 0.03 * value, str(value), ha='center', va='bottom', fontsize=10, color='black')\n",
    "\n",
    "# Améliorations visuelles\n",
    "plt.title('Distribution des instances par classe (train uniquement)', fontsize=14)\n",
    "plt.xlabel('Classe', fontsize=12)\n",
    "plt.ylabel(\"Nombre d'instances\", fontsize=12)\n",
    "plt.xticks(rotation=90)  # Noms des classes verticaux\n",
    "plt.tight_layout()\n",
    "plt.grid(axis='y', linestyle='--', alpha=0.7)\n",
    "plt.legend().remove()  # Supprime la légende inutile\n",
    "plt.show()\n"
   ]
  },
  {
   "cell_type": "code",
   "execution_count": 50,
   "id": "ccf8bae0",
   "metadata": {
    "execution": {
     "iopub.execute_input": "2025-05-25T00:54:38.408080Z",
     "iopub.status.busy": "2025-05-25T00:54:38.407739Z",
     "iopub.status.idle": "2025-05-25T00:54:38.639182Z",
     "shell.execute_reply": "2025-05-25T00:54:38.638502Z"
    },
    "papermill": {
     "duration": 0.332403,
     "end_time": "2025-05-25T00:54:38.640712",
     "exception": false,
     "start_time": "2025-05-25T00:54:38.308309",
     "status": "completed"
    },
    "tags": []
   },
   "outputs": [
    {
     "data": {
      "image/png": "[encoded data removed]",
      "text/plain": [
       "<Figure size 1200x600 with 1 Axes>"
      ]
     },
     "metadata": {},
     "output_type": "display_data"
    }
   ],
   "source": [
    "import matplotlib.pyplot as plt\n",
    "import seaborn as sns\n",
    "\n",
    "# Compter le nombre d'instances (annotations) par classe\n",
    "class_counts = val_split['class'].value_counts()\n",
    "\n",
    "# Plot\n",
    "plt.figure(figsize=(12, 6))\n",
    "sns.barplot(\n",
    "    x=class_counts.index,\n",
    "    y=class_counts.values,\n",
    "    palette='plasma',\n",
    "    edgecolor='black'\n",
    ")\n",
    "\n",
    "# Affichage des valeurs au-dessus des barres\n",
    "for i, value in enumerate(class_counts.values):\n",
    "    plt.text(i, value + 0.03 * value, str(value), ha='center', va='bottom', fontsize=10, color='black')\n",
    "\n",
    "# Améliorations visuelles\n",
    "plt.title('Distribution des instances par classe (val uniquement)', fontsize=14)\n",
    "plt.xlabel('Classe', fontsize=12)\n",
    "plt.ylabel(\"Nombre d'instances\", fontsize=12)\n",
    "plt.xticks(rotation=90)  # Noms des classes verticaux\n",
    "plt.tight_layout()\n",
    "plt.grid(axis='y', linestyle='--', alpha=0.7)\n",
    "plt.legend().remove()  # Supprime la légende inutile\n",
    "plt.show()\n"
   ]
  },
  {
   "cell_type": "code",
   "execution_count": 51,
   "id": "00b8e08d",
   "metadata": {
    "execution": {
     "iopub.execute_input": "2025-05-25T00:54:38.848124Z",
     "iopub.status.busy": "2025-05-25T00:54:38.847822Z",
     "iopub.status.idle": "2025-05-25T00:54:39.306245Z",
     "shell.execute_reply": "2025-05-25T00:54:39.305141Z"
    },
    "papermill": {
     "duration": 0.563379,
     "end_time": "2025-05-25T00:54:39.307780",
     "exception": false,
     "start_time": "2025-05-25T00:54:38.744401",
     "status": "completed"
    },
    "tags": []
   },
   "outputs": [
    {
     "name": "stdout",
     "output_type": "stream",
     "text": [
      "\n",
      "🎯 Distribution des classes dans train_split :\n",
      "class\n",
      "fall_armyworm           42689\n",
      "healthy                 19019\n",
      "maize_streak_disease    10650\n",
      "Name: count, dtype: int64\n",
      "\n",
      "📊 Statistiques FINALES :\n",
      "=== TRAIN (sans duplication) ===\n",
      "Annotations: 72,358\n",
      "Images uniques: 13,408\n",
      "class\n",
      "fall_armyworm           42689\n",
      "healthy                 19019\n",
      "maize_streak_disease    10650\n",
      "Name: count, dtype: int64\n",
      "\n",
      "=== VALIDATION ===\n",
      "Annotations: 19,061\n",
      "Images uniques: 3,353\n",
      "class\n",
      "fall_armyworm           11490\n",
      "healthy                  4894\n",
      "maize_streak_disease     2677\n",
      "Name: count, dtype: int64\n"
     ]
    }
   ],
   "source": [
    "# === 1. Statistiques sur train_split ===\n",
    "class_counts = train_split['class'].value_counts()\n",
    "print(\"\\n🎯 Distribution des classes dans train_split :\")\n",
    "print(class_counts)\n",
    "\n",
    "# === 2. Sauvegarde directe sans duplication ===\n",
    "final_train_df = train_split.copy()\n",
    "final_train_df.to_csv(WORK_DIR / \"balanced_train_df.csv\", index=False)\n",
    "    \n",
    "print(\"\\n📊 Statistiques FINALES :\")\n",
    "print(\"=== TRAIN (sans duplication) ===\")\n",
    "print(f\"Annotations: {len(final_train_df):,}\")\n",
    "print(f\"Images uniques: {final_train_df['Image_ID'].nunique():,}\")\n",
    "print(final_train_df['class'].value_counts())\n",
    "    \n",
    "print(\"\\n=== VALIDATION ===\")\n",
    "print(f\"Annotations: {len(val_split):,}\")\n",
    "print(f\"Images uniques: {val_split['Image_ID'].nunique():,}\")\n",
    "print(val_split['class'].value_counts())"
   ]
  },
  {
   "cell_type": "code",
   "execution_count": null,
   "id": "98b16c17",
   "metadata": {
    "papermill": {
     "duration": 0.107815,
     "end_time": "2025-05-25T00:54:39.525640",
     "exception": false,
     "start_time": "2025-05-25T00:54:39.417825",
     "status": "completed"
    },
    "tags": []
   },
   "outputs": [],
   "source": []
  },
  {
   "cell_type": "code",
   "execution_count": null,
   "id": "1760c38c",
   "metadata": {
    "papermill": {
     "duration": 0.100501,
     "end_time": "2025-05-25T00:54:39.733643",
     "exception": false,
     "start_time": "2025-05-25T00:54:39.633142",
     "status": "completed"
    },
    "tags": []
   },
   "outputs": [],
   "source": []
  },
  {
   "cell_type": "code",
   "execution_count": 52,
   "id": "54d9cc6a",
   "metadata": {
    "execution": {
     "iopub.execute_input": "2025-05-25T00:54:39.936957Z",
     "iopub.status.busy": "2025-05-25T00:54:39.936169Z",
     "iopub.status.idle": "2025-05-25T00:58:04.885829Z",
     "shell.execute_reply": "2025-05-25T00:58:04.884936Z"
    },
    "papermill": {
     "duration": 205.156911,
     "end_time": "2025-05-25T00:58:04.990260",
     "exception": false,
     "start_time": "2025-05-25T00:54:39.833349",
     "status": "completed"
    },
    "tags": []
   },
   "outputs": [
    {
     "name": "stdout",
     "output_type": "stream",
     "text": [
      "\n",
      "--- Bilan EXIF Orientation ---\n",
      "Total images analysées : 16761\n",
      "Images sans orientation EXIF : 7546\n",
      "Orientation EXIF = 0 : 4933 images\n",
      "Orientation EXIF = 1 : 2319 images\n",
      "Orientation EXIF = 6 : 1787 images\n",
      "Orientation EXIF = 8 : 44 images\n",
      "Orientation EXIF = 3 : 132 images\n"
     ]
    }
   ],
   "source": [
    "from PIL import Image, ExifTags\n",
    "from pathlib import Path\n",
    "from collections import Counter\n",
    "\n",
    "# Dossier contenant tes images\n",
    "image_dir = ORIG_TRAIN_IMAGES_DIR  # adapte la variable si besoin\n",
    "\n",
    "# Extensions valides\n",
    "valid_extensions = {'.jpg'}\n",
    "\n",
    "# Dictionnaire pour compter les orientations\n",
    "orientation_counts = Counter()\n",
    "no_exif_count = 0\n",
    "total_images = 0\n",
    "\n",
    "for img_path in Path(image_dir).iterdir():\n",
    "    if img_path.suffix not in valid_extensions:\n",
    "        continue\n",
    "    total_images += 1\n",
    "    try:\n",
    "        img = Image.open(img_path)\n",
    "        exif = img._getexif()\n",
    "        if exif is not None:\n",
    "            # Trouver la clé pour Orientation\n",
    "            orientation_key = None\n",
    "            for key, value in ExifTags.TAGS.items():\n",
    "                if value == 'Orientation':\n",
    "                    orientation_key = key\n",
    "                    break\n",
    "            orientation = exif.get(orientation_key, None)\n",
    "            if orientation is not None:\n",
    "                orientation_counts[orientation] += 1\n",
    "            else:\n",
    "                no_exif_count += 1\n",
    "        else:\n",
    "            no_exif_count += 1\n",
    "    except Exception as e:\n",
    "        print(f\"Erreur pour {img_path.name}: {e}\")\n",
    "        no_exif_count += 1\n",
    "\n",
    "print(\"\\n--- Bilan EXIF Orientation ---\")\n",
    "print(f\"Total images analysées : {total_images}\")\n",
    "print(f\"Images sans orientation EXIF : {no_exif_count}\")\n",
    "for k, v in orientation_counts.items():\n",
    "    print(f\"Orientation EXIF = {k} : {v} images\")"
   ]
  },
  {
   "cell_type": "code",
   "execution_count": 53,
   "id": "3b09e513",
   "metadata": {
    "execution": {
     "iopub.execute_input": "2025-05-25T00:58:05.212959Z",
     "iopub.status.busy": "2025-05-25T00:58:05.212686Z",
     "iopub.status.idle": "2025-05-25T00:58:05.224464Z",
     "shell.execute_reply": "2025-05-25T00:58:05.223337Z"
    },
    "papermill": {
     "duration": 0.125516,
     "end_time": "2025-05-25T00:58:05.225980",
     "exception": false,
     "start_time": "2025-05-25T00:58:05.100464",
     "status": "completed"
    },
    "tags": []
   },
   "outputs": [
    {
     "name": "stdout",
     "output_type": "stream",
     "text": [
      "✅ Fichier d'annotations chargé : 72358 lignes\n",
      "TRAIN - Images uniques : 13,408\n"
     ]
    }
   ],
   "source": [
    "\n",
    "train_df = train_split\n",
    "val_df = val_split\n",
    "\n",
    "print(f\"✅ Fichier d'annotations chargé : {len(train_df)} lignes\")\n",
    "print(f\"TRAIN - Images uniques : {train_df['Image_ID'].nunique():,}\")\n"
   ]
  },
  {
   "cell_type": "code",
   "execution_count": 54,
   "id": "1375fe50",
   "metadata": {
    "execution": {
     "iopub.execute_input": "2025-05-25T00:58:05.503642Z",
     "iopub.status.busy": "2025-05-25T00:58:05.503035Z",
     "iopub.status.idle": "2025-05-25T00:58:05.509524Z",
     "shell.execute_reply": "2025-05-25T00:58:05.508805Z"
    },
    "papermill": {
     "duration": 0.114283,
     "end_time": "2025-05-25T00:58:05.510544",
     "exception": false,
     "start_time": "2025-05-25T00:58:05.396261",
     "status": "completed"
    },
    "tags": []
   },
   "outputs": [
    {
     "name": "stdout",
     "output_type": "stream",
     "text": [
      "✅ Fichier d'annotations chargé : 19061 lignes\n",
      "VAL - Images uniques : 3,353\n"
     ]
    }
   ],
   "source": [
    "print(f\"✅ Fichier d'annotations chargé : {len(val_df)} lignes\")\n",
    "print(f\"VAL - Images uniques : {val_df['Image_ID'].nunique():,}\")"
   ]
  },
  {
   "cell_type": "code",
   "execution_count": 55,
   "id": "22705d95",
   "metadata": {
    "execution": {
     "iopub.execute_input": "2025-05-25T00:58:05.771530Z",
     "iopub.status.busy": "2025-05-25T00:58:05.770020Z",
     "iopub.status.idle": "2025-05-25T00:58:05.781892Z",
     "shell.execute_reply": "2025-05-25T00:58:05.780599Z"
    },
    "papermill": {
     "duration": 0.150109,
     "end_time": "2025-05-25T00:58:05.783899",
     "exception": false,
     "start_time": "2025-05-25T00:58:05.633790",
     "status": "completed"
    },
    "tags": []
   },
   "outputs": [
    {
     "data": {
      "text/plain": [
       "True"
      ]
     },
     "execution_count": 55,
     "metadata": {},
     "output_type": "execute_result"
    }
   ],
   "source": [
    "\"ID_625a7f2c.jpg\" in train_df[\"Image_ID\"].values\n"
   ]
  },
  {
   "cell_type": "code",
   "execution_count": 56,
   "id": "69fcce6c",
   "metadata": {
    "execution": {
     "iopub.execute_input": "2025-05-25T00:58:06.024304Z",
     "iopub.status.busy": "2025-05-25T00:58:06.023972Z",
     "iopub.status.idle": "2025-05-25T00:58:06.030104Z",
     "shell.execute_reply": "2025-05-25T00:58:06.029428Z"
    },
    "papermill": {
     "duration": 0.119557,
     "end_time": "2025-05-25T00:58:06.031401",
     "exception": false,
     "start_time": "2025-05-25T00:58:05.911844",
     "status": "completed"
    },
    "tags": []
   },
   "outputs": [
    {
     "data": {
      "text/plain": [
       "False"
      ]
     },
     "execution_count": 56,
     "metadata": {},
     "output_type": "execute_result"
    }
   ],
   "source": [
    "\"ID_625a7f2c.jpg\" in val_df[\"Image_ID\"].values\n"
   ]
  },
  {
   "cell_type": "markdown",
   "id": "214e3bca",
   "metadata": {
    "execution": {
     "iopub.status.busy": "2025-05-12T18:14:46.842868Z",
     "iopub.status.idle": "2025-05-12T18:14:46.843100Z",
     "shell.execute_reply": "2025-05-12T18:14:46.842998Z",
     "shell.execute_reply.started": "2025-05-12T18:14:46.842986Z"
    },
    "papermill": {
     "duration": 0.106454,
     "end_time": "2025-05-25T00:58:06.255011",
     "exception": false,
     "start_time": "2025-05-25T00:58:06.148557",
     "status": "completed"
    },
    "tags": []
   },
   "source": [
    "\n",
    "\n",
    "from PIL import Image, ExifTags  # 🔧 MODIFIÉ : Ajout de PIL pour gérer l'orientation\n",
    "import numpy as np               # 🔧 MODIFIÉ : Ajout de numpy pour conversion image PIL\n",
    "import cv2\n",
    "\n",
    "\n",
    "\n",
    "\n",
    "# === Fonction pour charger une image en corrigeant l'orientation EXIF === 🔧 MODIFIÉ : ajout de cette fonction\n",
    "def load_image_with_orientation(path):\n",
    "    image = Image.open(path)\n",
    "    try:\n",
    "        for flag in ExifTags.TAGS.keys():\n",
    "            if ExifTags.TAGS[flag] == 'Orientation':\n",
    "                break\n",
    "        exif = image._getexif()\n",
    "        if exif is not None:\n",
    "            orientation = exif.get(flag)\n",
    "            if orientation == 3:\n",
    "                image = image.rotate(180, expand=True)\n",
    "            elif orientation == 6:\n",
    "                image = image.rotate(270, expand=True)\n",
    "            elif orientation == 8:\n",
    "                image = image.rotate(90, expand=True)\n",
    "    except Exception as e:\n",
    "        print(f\"⚠️ Erreur EXIF sur {path.name} : {e}\")  # 🔧 MODIFIÉ : meilleure gestion des erreurs\n",
    "    return np.array(image)  # 🔧 MODIFIÉ : retourne un tableau numpy compatible avec OpenCV\n",
    "\n",
    "# === Fonction pour créer les labels YOLO === (inchangée)\n",
    "def create_yolo_labels(image_name, img_boxes, img_width, img_height, label_dir):\n",
    "    label_filename = f\"{Path(image_name).stem}.txt\"\n",
    "    label_path = label_dir / label_filename\n",
    "\n",
    "    with open(label_path, \"w\") as f:\n",
    "        for _, row in img_boxes.iterrows():\n",
    "            x_center = (row[\"xmin\"] + row[\"xmax\"]) / 2 / img_width\n",
    "            y_center = (row[\"ymin\"] + row[\"ymax\"]) / 2 / img_height\n",
    "            width = (row[\"xmax\"] - row[\"xmin\"]) / img_width\n",
    "            height = (row[\"ymax\"] - row[\"ymin\"]) / img_height\n",
    "            f.write(f\"{row['class_id']} {x_center:.6f} {y_center:.6f} {width:.6f} {height:.6f}\\n\")\n",
    "\n",
    "# === Chargement des annotations ===\n",
    "print(f\"✅ Fichier d'annotations chargé : {len(train_df)} lignes\")\n",
    "\n",
    "# === Génération des labels ===\n",
    "print(\"\\n🔄 Génération des labels pour les images d'entraînement...\")\n",
    "ORIG_TRAIN_IMAGES_DIR.mkdir(parents=True, exist_ok=True)\n",
    "\n",
    "valid_extensions = {'.jpg'}\n",
    "image_paths = [img_path for img_path in ORIG_TRAIN_IMAGES_DIR.iterdir() \n",
    "               if img_path.suffix in valid_extensions \n",
    "               and img_path.stem in train_df['Image_ID'].values]\n",
    "#image_paths = [img_path for img_path in NEW_TRAIN_IMAGES_DIR.iterdir() if img_path.suffix in valid_extensions]\n",
    "\n",
    "error_count = 0\n",
    "\n",
    "for image_path in tqdm(image_paths, desc=\"Traitement des images\"):\n",
    "    image_name = image_path.name\n",
    "\n",
    "    # 🔧 MODIFIÉ : Remplacement de cv2.imread par fonction avec gestion orientation EXIF\n",
    "    try:\n",
    "        img = load_image_with_orientation(image_path)\n",
    "    except Exception as e:\n",
    "        print(f\"⚠️ Erreur de chargement : {image_path.name} → {e}\")\n",
    "        error_count += 1\n",
    "        continue\n",
    "\n",
    "    img_height, img_width = img.shape[:2]\n",
    "\n",
    "    img_boxes = train_df[train_df[\"Image_ID\"] == Path(image_name).stem]\n",
    "\n",
    "    if img_boxes.empty:\n",
    "        print(f\"⚠️ Aucune annotation trouvée pour l'image : {image_name}\")\n",
    "        error_count += 1\n",
    "        continue\n",
    "\n",
    "    create_yolo_labels(image_name, img_boxes, img_width, img_height, NEW_TRAIN_LABELS_DIR)\n",
    "\n",
    "print(\"\\n✅ Génération des labels terminée !\")\n",
    "print(f\"Nombre total d'erreurs : {error_count}\")\n",
    "print(f\"📂 Labels générés dans : {NEW_TRAIN_LABELS_DIR}\")\n"
   ]
  },
  {
   "cell_type": "code",
   "execution_count": 57,
   "id": "a7f16a1e",
   "metadata": {
    "execution": {
     "iopub.execute_input": "2025-05-25T00:58:06.460082Z",
     "iopub.status.busy": "2025-05-25T00:58:06.459785Z",
     "iopub.status.idle": "2025-05-25T00:58:06.463543Z",
     "shell.execute_reply": "2025-05-25T00:58:06.462935Z"
    },
    "papermill": {
     "duration": 0.109193,
     "end_time": "2025-05-25T00:58:06.464947",
     "exception": false,
     "start_time": "2025-05-25T00:58:06.355754",
     "status": "completed"
    },
    "tags": []
   },
   "outputs": [],
   "source": [
    "\n",
    "ORIG_TRAIN_LABELS_DIR = DATASETS_DIR / 'labels' / 'train'\n"
   ]
  },
  {
   "cell_type": "code",
   "execution_count": 58,
   "id": "1e681ed2",
   "metadata": {
    "execution": {
     "iopub.execute_input": "2025-05-25T00:58:06.674937Z",
     "iopub.status.busy": "2025-05-25T00:58:06.674619Z",
     "iopub.status.idle": "2025-05-25T00:59:01.945202Z",
     "shell.execute_reply": "2025-05-25T00:59:01.944206Z"
    },
    "id": "zYt2PtezytD2",
    "papermill": {
     "duration": 55.374032,
     "end_time": "2025-05-25T00:59:01.946659",
     "exception": false,
     "start_time": "2025-05-25T00:58:06.572627",
     "status": "completed"
    },
    "tags": []
   },
   "outputs": [
    {
     "name": "stdout",
     "output_type": "stream",
     "text": [
      "✅ Il y a 16761 fichiers dans /kaggle/input/maize-corn-ds/MAIZE/labels/train\n",
      "✅ Il n'y a pas de doublons.\n"
     ]
    }
   ],
   "source": [
    "\n",
    "# Vérification de l'existence du dossier\n",
    "train_labels_path = Path(ORIG_TRAIN_LABELS_DIR)\n",
    "\n",
    "if not train_labels_path.exists():\n",
    "    print(f\"❌ Le dossier {ORIG_TRAIN_LABELS_DIR} n'existe pas.\")\n",
    "else:\n",
    "    # Récupérer la liste des fichiers\n",
    "    files = [f.name for f in train_labels_path.glob(\"*.txt\") if f.is_file()]\n",
    "\n",
    "    # Afficher le nombre total de fichiers\n",
    "    num_train_labels = len(files)\n",
    "    print(f\"✅ Il y a {num_train_labels} fichiers dans {ORIG_TRAIN_LABELS_DIR}\")\n",
    "\n",
    "    # Vérifier les doublons\n",
    "    duplicates = set([file for file in files if files.count(file) > 1])\n",
    "\n",
    "    if duplicates:\n",
    "        print(f\"⚠️ Il y a des doublons : {duplicates}\")\n",
    "    else:\n",
    "        print(\"✅ Il n'y a pas de doublons.\")\n"
   ]
  },
  {
   "cell_type": "code",
   "execution_count": 59,
   "id": "f4a9abfe",
   "metadata": {
    "execution": {
     "iopub.execute_input": "2025-05-25T00:59:02.170951Z",
     "iopub.status.busy": "2025-05-25T00:59:02.170339Z",
     "iopub.status.idle": "2025-05-25T00:59:02.207943Z",
     "shell.execute_reply": "2025-05-25T00:59:02.206886Z"
    },
    "id": "NfG2Sp9T3NJa",
    "outputId": "f3c11227-c3cb-42fd-fed2-1dbdfa466e21",
    "papermill": {
     "duration": 0.148815,
     "end_time": "2025-05-25T00:59:02.209439",
     "exception": false,
     "start_time": "2025-05-25T00:59:02.060624",
     "status": "completed"
    },
    "tags": []
   },
   "outputs": [
    {
     "name": "stdout",
     "output_type": "stream",
     "text": [
      "There are 16761 in /kaggle/input/maize-corn-ds/MAIZE/labels/train\n"
     ]
    }
   ],
   "source": [
    "## Count the number of files in TRAIN_LABELS_DIR\n",
    "num_train_labels = count_files(ORIG_TRAIN_LABELS_DIR)\n",
    "print(f\"There are {num_train_labels} in {ORIG_TRAIN_LABELS_DIR}\")"
   ]
  },
  {
   "cell_type": "code",
   "execution_count": 60,
   "id": "93353e07",
   "metadata": {
    "execution": {
     "iopub.execute_input": "2025-05-25T00:59:02.435838Z",
     "iopub.status.busy": "2025-05-25T00:59:02.435573Z",
     "iopub.status.idle": "2025-05-25T00:59:02.488814Z",
     "shell.execute_reply": "2025-05-25T00:59:02.488061Z"
    },
    "id": "ky9ccIQkAn-F",
    "outputId": "d35bb8a2-da7b-4682-b5ec-c712bf9d7d86",
    "papermill": {
     "duration": 0.166647,
     "end_time": "2025-05-25T00:59:02.489989",
     "exception": false,
     "start_time": "2025-05-25T00:59:02.323342",
     "status": "completed"
    },
    "tags": []
   },
   "outputs": [
    {
     "data": {
      "text/plain": [
       "16761"
      ]
     },
     "execution_count": 60,
     "metadata": {},
     "output_type": "execute_result"
    }
   ],
   "source": [
    "## Get the set of all the stems of the images in TRAIN_IMAGES_DIR\n",
    "train_images_stems = set([str(Path(name).stem) for name in os.listdir(ORIG_TRAIN_IMAGES_DIR)])\n",
    "len(train_images_stems)"
   ]
  },
  {
   "cell_type": "code",
   "execution_count": 61,
   "id": "c5172557",
   "metadata": {
    "execution": {
     "iopub.execute_input": "2025-05-25T00:59:02.693925Z",
     "iopub.status.busy": "2025-05-25T00:59:02.693354Z",
     "iopub.status.idle": "2025-05-25T00:59:02.748180Z",
     "shell.execute_reply": "2025-05-25T00:59:02.747400Z"
    },
    "id": "J8e4g-ESC1l_",
    "outputId": "6e7d835b-7776-4d04-d1b7-fed89b2a918f",
    "papermill": {
     "duration": 0.157888,
     "end_time": "2025-05-25T00:59:02.749599",
     "exception": false,
     "start_time": "2025-05-25T00:59:02.591711",
     "status": "completed"
    },
    "tags": []
   },
   "outputs": [
    {
     "data": {
      "text/plain": [
       "16761"
      ]
     },
     "execution_count": 61,
     "metadata": {},
     "output_type": "execute_result"
    }
   ],
   "source": [
    "## Get the set of all the stems of the labes in TRAIN_LABELS_DIR\n",
    "train_labels_stems = set([str(Path(name).stem) for name in os.listdir(ORIG_TRAIN_LABELS_DIR)])\n",
    "len(train_labels_stems)"
   ]
  },
  {
   "cell_type": "code",
   "execution_count": 62,
   "id": "24854bc2",
   "metadata": {
    "execution": {
     "iopub.execute_input": "2025-05-25T00:59:02.964125Z",
     "iopub.status.busy": "2025-05-25T00:59:02.963809Z",
     "iopub.status.idle": "2025-05-25T00:59:02.970257Z",
     "shell.execute_reply": "2025-05-25T00:59:02.969590Z"
    },
    "id": "l--_pq6yEYJs",
    "outputId": "29c646ae-33a8-45ba-86cb-54a83d8168f5",
    "papermill": {
     "duration": 0.111648,
     "end_time": "2025-05-25T00:59:02.971450",
     "exception": false,
     "start_time": "2025-05-25T00:59:02.859802",
     "status": "completed"
    },
    "tags": []
   },
   "outputs": [
    {
     "data": {
      "text/plain": [
       "True"
      ]
     },
     "execution_count": 62,
     "metadata": {},
     "output_type": "execute_result"
    }
   ],
   "source": [
    "# Check that the two sets are identitical\n",
    "train_images_stems == train_labels_stems"
   ]
  },
  {
   "cell_type": "code",
   "execution_count": 63,
   "id": "e66281ef",
   "metadata": {
    "execution": {
     "iopub.execute_input": "2025-05-25T00:59:03.242701Z",
     "iopub.status.busy": "2025-05-25T00:59:03.242356Z",
     "iopub.status.idle": "2025-05-25T00:59:03.247187Z",
     "shell.execute_reply": "2025-05-25T00:59:03.246518Z"
    },
    "id": "JbM6mOyMEbXC",
    "outputId": "2c38232d-c0ea-45ad-a1e1-677b65d004bb",
    "papermill": {
     "duration": 0.109675,
     "end_time": "2025-05-25T00:59:03.248622",
     "exception": false,
     "start_time": "2025-05-25T00:59:03.138947",
     "status": "completed"
    },
    "tags": []
   },
   "outputs": [
    {
     "data": {
      "text/plain": [
       "PosixPath('/kaggle/input/maize-corn-ds/MAIZE/images/train')"
      ]
     },
     "execution_count": 63,
     "metadata": {},
     "output_type": "execute_result"
    }
   ],
   "source": [
    "ORIG_TRAIN_IMAGES_DIR.absolute()"
   ]
  },
  {
   "cell_type": "code",
   "execution_count": 64,
   "id": "d1c61eff",
   "metadata": {
    "execution": {
     "iopub.execute_input": "2025-05-25T00:59:03.453820Z",
     "iopub.status.busy": "2025-05-25T00:59:03.453508Z",
     "iopub.status.idle": "2025-05-25T00:59:03.484165Z",
     "shell.execute_reply": "2025-05-25T00:59:03.483208Z"
    },
    "id": "-04wVe1qF9Fx",
    "papermill": {
     "duration": 0.136754,
     "end_time": "2025-05-25T00:59:03.485800",
     "exception": false,
     "start_time": "2025-05-25T00:59:03.349046",
     "status": "completed"
    },
    "tags": []
   },
   "outputs": [],
   "source": [
    "# Load train and test files\n",
    "#train = pd.read_csv(os.path.join(INPUT_DATA_DIR, 'Train.csv'))\n",
    "test = pd.read_csv(os.path.join(DATASETS_DIR, 'Test.csv'))\n",
    "#ss = pd.read_csv(os.path.join(DATASETS_DIR, 'submission.csv'))"
   ]
  },
  {
   "cell_type": "code",
   "execution_count": 65,
   "id": "ef178ca4",
   "metadata": {
    "execution": {
     "iopub.execute_input": "2025-05-25T00:59:03.695813Z",
     "iopub.status.busy": "2025-05-25T00:59:03.695190Z",
     "iopub.status.idle": "2025-05-25T00:59:03.708057Z",
     "shell.execute_reply": "2025-05-25T00:59:03.707198Z"
    },
    "id": "IDsL1-T9IT5n",
    "outputId": "af2d779b-b75e-4191-dd45-fb48b13cfc3b",
    "papermill": {
     "duration": 0.119494,
     "end_time": "2025-05-25T00:59:03.709333",
     "exception": false,
     "start_time": "2025-05-25T00:59:03.589839",
     "status": "completed"
    },
    "tags": []
   },
   "outputs": [
    {
     "data": {
      "text/html": [
       "<div>\n",
       "<style scoped>\n",
       "    .dataframe tbody tr th:only-of-type {\n",
       "        vertical-align: middle;\n",
       "    }\n",
       "\n",
       "    .dataframe tbody tr th {\n",
       "        vertical-align: top;\n",
       "    }\n",
       "\n",
       "    .dataframe thead th {\n",
       "        text-align: right;\n",
       "    }\n",
       "</style>\n",
       "<table border=\"1\" class=\"dataframe\">\n",
       "  <thead>\n",
       "    <tr style=\"text-align: right;\">\n",
       "      <th></th>\n",
       "      <th>Image_ID</th>\n",
       "      <th>class</th>\n",
       "      <th>confidence</th>\n",
       "      <th>ymin</th>\n",
       "      <th>xmin</th>\n",
       "      <th>ymax</th>\n",
       "      <th>xmax</th>\n",
       "      <th>class_id</th>\n",
       "      <th>ImagePath</th>\n",
       "    </tr>\n",
       "  </thead>\n",
       "  <tbody>\n",
       "    <tr>\n",
       "      <th>0</th>\n",
       "      <td>ID_954c7ed7.jpg</td>\n",
       "      <td>maize_streak_disease</td>\n",
       "      <td>1.0</td>\n",
       "      <td>124.0</td>\n",
       "      <td>74.0</td>\n",
       "      <td>2048.0</td>\n",
       "      <td>1536.0</td>\n",
       "      <td>2</td>\n",
       "      <td>images/test/ID_954c7ed7.jpg</td>\n",
       "    </tr>\n",
       "    <tr>\n",
       "      <th>1</th>\n",
       "      <td>ID_1ff8910c.jpg</td>\n",
       "      <td>maize_streak_disease</td>\n",
       "      <td>1.0</td>\n",
       "      <td>1.0</td>\n",
       "      <td>98.0</td>\n",
       "      <td>1073.0</td>\n",
       "      <td>810.0</td>\n",
       "      <td>2</td>\n",
       "      <td>images/test/ID_1ff8910c.jpg</td>\n",
       "    </tr>\n",
       "    <tr>\n",
       "      <th>2</th>\n",
       "      <td>ID_c3edf69f.jpg</td>\n",
       "      <td>healthy</td>\n",
       "      <td>1.0</td>\n",
       "      <td>0.0</td>\n",
       "      <td>610.0</td>\n",
       "      <td>4554.0</td>\n",
       "      <td>2830.0</td>\n",
       "      <td>0</td>\n",
       "      <td>images/test/ID_c3edf69f.jpg</td>\n",
       "    </tr>\n",
       "    <tr>\n",
       "      <th>3</th>\n",
       "      <td>ID_5e44fa2d.jpg</td>\n",
       "      <td>maize_streak_disease</td>\n",
       "      <td>1.0</td>\n",
       "      <td>431.0</td>\n",
       "      <td>489.0</td>\n",
       "      <td>4032.0</td>\n",
       "      <td>2677.0</td>\n",
       "      <td>2</td>\n",
       "      <td>images/test/ID_5e44fa2d.jpg</td>\n",
       "    </tr>\n",
       "    <tr>\n",
       "      <th>4</th>\n",
       "      <td>ID_7a776268.jpg</td>\n",
       "      <td>fall_armyworm</td>\n",
       "      <td>1.0</td>\n",
       "      <td>501.0</td>\n",
       "      <td>202.0</td>\n",
       "      <td>2102.0</td>\n",
       "      <td>2813.0</td>\n",
       "      <td>1</td>\n",
       "      <td>images/test/ID_7a776268.jpg</td>\n",
       "    </tr>\n",
       "  </tbody>\n",
       "</table>\n",
       "</div>"
      ],
      "text/plain": [
       "          Image_ID                 class  confidence   ymin   xmin    ymax  \\\n",
       "0  ID_954c7ed7.jpg  maize_streak_disease         1.0  124.0   74.0  2048.0   \n",
       "1  ID_1ff8910c.jpg  maize_streak_disease         1.0    1.0   98.0  1073.0   \n",
       "2  ID_c3edf69f.jpg               healthy         1.0    0.0  610.0  4554.0   \n",
       "3  ID_5e44fa2d.jpg  maize_streak_disease         1.0  431.0  489.0  4032.0   \n",
       "4  ID_7a776268.jpg         fall_armyworm         1.0  501.0  202.0  2102.0   \n",
       "\n",
       "     xmax  class_id                    ImagePath  \n",
       "0  1536.0         2  images/test/ID_954c7ed7.jpg  \n",
       "1   810.0         2  images/test/ID_1ff8910c.jpg  \n",
       "2  2830.0         0  images/test/ID_c3edf69f.jpg  \n",
       "3  2677.0         2  images/test/ID_5e44fa2d.jpg  \n",
       "4  2813.0         1  images/test/ID_7a776268.jpg  "
      ]
     },
     "execution_count": 65,
     "metadata": {},
     "output_type": "execute_result"
    }
   ],
   "source": [
    "test.head()"
   ]
  },
  {
   "cell_type": "code",
   "execution_count": 66,
   "id": "a6e19cc4",
   "metadata": {
    "execution": {
     "iopub.execute_input": "2025-05-25T00:59:03.916498Z",
     "iopub.status.busy": "2025-05-25T00:59:03.915684Z",
     "iopub.status.idle": "2025-05-25T00:59:03.919128Z",
     "shell.execute_reply": "2025-05-25T00:59:03.918590Z"
    },
    "papermill": {
     "duration": 0.106221,
     "end_time": "2025-05-25T00:59:03.920196",
     "exception": false,
     "start_time": "2025-05-25T00:59:03.813975",
     "status": "completed"
    },
    "tags": []
   },
   "outputs": [],
   "source": [
    "# Facultatif : filtered_train_df le nouveau fichier prend le relais \n",
    "#train_df = pd.read_csv(WORK_DIR / \"balanced_train_df.csv\")\n"
   ]
  },
  {
   "cell_type": "code",
   "execution_count": 67,
   "id": "0ce7478f",
   "metadata": {
    "execution": {
     "iopub.execute_input": "2025-05-25T00:59:04.128342Z",
     "iopub.status.busy": "2025-05-25T00:59:04.127551Z",
     "iopub.status.idle": "2025-05-25T00:59:04.137870Z",
     "shell.execute_reply": "2025-05-25T00:59:04.136994Z"
    },
    "papermill": {
     "duration": 0.116506,
     "end_time": "2025-05-25T00:59:04.139090",
     "exception": false,
     "start_time": "2025-05-25T00:59:04.022584",
     "status": "completed"
    },
    "tags": []
   },
   "outputs": [
    {
     "name": "stdout",
     "output_type": "stream",
     "text": [
      "📄 Nombre total d'annotations : 72,358\n",
      "🖼️ Nombre d'images uniques : 13,408\n"
     ]
    }
   ],
   "source": [
    "print(f\"📄 Nombre total d'annotations : {len(train_df):,}\")\n",
    "print(f\"🖼️ Nombre d'images uniques : {train_df['Image_ID'].nunique():,}\")\n"
   ]
  },
  {
   "cell_type": "code",
   "execution_count": null,
   "id": "6bb7aba3",
   "metadata": {
    "papermill": {
     "duration": 0.101493,
     "end_time": "2025-05-25T00:59:04.352444",
     "exception": false,
     "start_time": "2025-05-25T00:59:04.250951",
     "status": "completed"
    },
    "tags": []
   },
   "outputs": [],
   "source": []
  },
  {
   "cell_type": "code",
   "execution_count": null,
   "id": "471d5fc9",
   "metadata": {
    "papermill": {
     "duration": 0.104205,
     "end_time": "2025-05-25T00:59:04.562957",
     "exception": false,
     "start_time": "2025-05-25T00:59:04.458752",
     "status": "completed"
    },
    "tags": []
   },
   "outputs": [],
   "source": []
  },
  {
   "cell_type": "code",
   "execution_count": null,
   "id": "ef1d96f2",
   "metadata": {
    "papermill": {
     "duration": 0.100878,
     "end_time": "2025-05-25T00:59:04.768233",
     "exception": false,
     "start_time": "2025-05-25T00:59:04.667355",
     "status": "completed"
    },
    "tags": []
   },
   "outputs": [],
   "source": []
  },
  {
   "cell_type": "code",
   "execution_count": 68,
   "id": "86cb6c93",
   "metadata": {
    "execution": {
     "iopub.execute_input": "2025-05-25T00:59:04.973391Z",
     "iopub.status.busy": "2025-05-25T00:59:04.973083Z",
     "iopub.status.idle": "2025-05-25T00:59:04.977895Z",
     "shell.execute_reply": "2025-05-25T00:59:04.977187Z"
    },
    "id": "njwIAsbhBdIz",
    "outputId": "3df467c2-07d8-4d54-fa61-a85d25b974a1",
    "papermill": {
     "duration": 0.108838,
     "end_time": "2025-05-25T00:59:04.979108",
     "exception": false,
     "start_time": "2025-05-25T00:59:04.870270",
     "status": "completed"
    },
    "tags": []
   },
   "outputs": [
    {
     "data": {
      "text/plain": [
       "((72358, 9), (19061, 9), (9993, 9))"
      ]
     },
     "execution_count": 68,
     "metadata": {},
     "output_type": "execute_result"
    }
   ],
   "source": [
    "train_df.shape, val_df.shape, test.shape"
   ]
  },
  {
   "cell_type": "code",
   "execution_count": 69,
   "id": "f61efbbb",
   "metadata": {
    "execution": {
     "iopub.execute_input": "2025-05-25T00:59:05.246021Z",
     "iopub.status.busy": "2025-05-25T00:59:05.245723Z",
     "iopub.status.idle": "2025-05-25T00:59:05.256058Z",
     "shell.execute_reply": "2025-05-25T00:59:05.255302Z"
    },
    "papermill": {
     "duration": 0.170069,
     "end_time": "2025-05-25T00:59:05.257356",
     "exception": false,
     "start_time": "2025-05-25T00:59:05.087287",
     "status": "completed"
    },
    "tags": []
   },
   "outputs": [
    {
     "name": "stdout",
     "output_type": "stream",
     "text": [
      "Images uniques dans train_df : 13408\n"
     ]
    }
   ],
   "source": [
    "print(\"Images uniques dans train_df :\", train_df['Image_ID'].nunique())\n"
   ]
  },
  {
   "cell_type": "code",
   "execution_count": 70,
   "id": "750941af",
   "metadata": {
    "execution": {
     "iopub.execute_input": "2025-05-25T00:59:05.473700Z",
     "iopub.status.busy": "2025-05-25T00:59:05.473404Z",
     "iopub.status.idle": "2025-05-25T00:59:05.479340Z",
     "shell.execute_reply": "2025-05-25T00:59:05.478561Z"
    },
    "papermill": {
     "duration": 0.111109,
     "end_time": "2025-05-25T00:59:05.480430",
     "exception": false,
     "start_time": "2025-05-25T00:59:05.369321",
     "status": "completed"
    },
    "tags": []
   },
   "outputs": [
    {
     "name": "stdout",
     "output_type": "stream",
     "text": [
      "Images uniques dans val_df: 3353\n"
     ]
    }
   ],
   "source": [
    "print(\"Images uniques dans val_df:\", val_df['Image_ID'].nunique())\n"
   ]
  },
  {
   "cell_type": "code",
   "execution_count": 71,
   "id": "0e97b835",
   "metadata": {
    "execution": {
     "iopub.execute_input": "2025-05-25T00:59:05.685141Z",
     "iopub.status.busy": "2025-05-25T00:59:05.684857Z",
     "iopub.status.idle": "2025-05-25T00:59:05.690477Z",
     "shell.execute_reply": "2025-05-25T00:59:05.689719Z"
    },
    "papermill": {
     "duration": 0.107323,
     "end_time": "2025-05-25T00:59:05.691643",
     "exception": false,
     "start_time": "2025-05-25T00:59:05.584320",
     "status": "completed"
    },
    "tags": []
   },
   "outputs": [
    {
     "name": "stdout",
     "output_type": "stream",
     "text": [
      "Images uniques dans test_df: 1863\n"
     ]
    }
   ],
   "source": [
    "print(\"Images uniques dans test_df:\", test['Image_ID'].nunique())\n"
   ]
  },
  {
   "cell_type": "code",
   "execution_count": 72,
   "id": "66b11275",
   "metadata": {
    "execution": {
     "iopub.execute_input": "2025-05-25T00:59:05.940096Z",
     "iopub.status.busy": "2025-05-25T00:59:05.939772Z",
     "iopub.status.idle": "2025-05-25T00:59:05.952647Z",
     "shell.execute_reply": "2025-05-25T00:59:05.951990Z"
    },
    "id": "pPwq3SQfDOpq",
    "outputId": "681981e5-2dd5-41ad-8116-be3bd4072714",
    "papermill": {
     "duration": 0.123297,
     "end_time": "2025-05-25T00:59:05.953955",
     "exception": false,
     "start_time": "2025-05-25T00:59:05.830658",
     "status": "completed"
    },
    "tags": []
   },
   "outputs": [
    {
     "data": {
      "text/html": [
       "<div>\n",
       "<style scoped>\n",
       "    .dataframe tbody tr th:only-of-type {\n",
       "        vertical-align: middle;\n",
       "    }\n",
       "\n",
       "    .dataframe tbody tr th {\n",
       "        vertical-align: top;\n",
       "    }\n",
       "\n",
       "    .dataframe thead th {\n",
       "        text-align: right;\n",
       "    }\n",
       "</style>\n",
       "<table border=\"1\" class=\"dataframe\">\n",
       "  <thead>\n",
       "    <tr style=\"text-align: right;\">\n",
       "      <th></th>\n",
       "      <th>Image_ID</th>\n",
       "      <th>class</th>\n",
       "      <th>confidence</th>\n",
       "      <th>ymin</th>\n",
       "      <th>xmin</th>\n",
       "      <th>ymax</th>\n",
       "      <th>xmax</th>\n",
       "      <th>class_id</th>\n",
       "      <th>ImagePath</th>\n",
       "    </tr>\n",
       "  </thead>\n",
       "  <tbody>\n",
       "    <tr>\n",
       "      <th>0</th>\n",
       "      <td>ID_625a7f2c.jpg</td>\n",
       "      <td>maize_streak_disease</td>\n",
       "      <td>1.0</td>\n",
       "      <td>1374.0</td>\n",
       "      <td>35.0</td>\n",
       "      <td>4608.0</td>\n",
       "      <td>2731.0</td>\n",
       "      <td>2</td>\n",
       "      <td>images/train/ID_625a7f2c.jpg</td>\n",
       "    </tr>\n",
       "    <tr>\n",
       "      <th>23</th>\n",
       "      <td>ID_5f5daa1a.jpg</td>\n",
       "      <td>healthy</td>\n",
       "      <td>1.0</td>\n",
       "      <td>1091.0</td>\n",
       "      <td>656.0</td>\n",
       "      <td>1343.0</td>\n",
       "      <td>924.0</td>\n",
       "      <td>0</td>\n",
       "      <td>images/train/ID_5f5daa1a.jpg</td>\n",
       "    </tr>\n",
       "    <tr>\n",
       "      <th>24</th>\n",
       "      <td>ID_5f5daa1a.jpg</td>\n",
       "      <td>healthy</td>\n",
       "      <td>1.0</td>\n",
       "      <td>705.0</td>\n",
       "      <td>46.0</td>\n",
       "      <td>1180.0</td>\n",
       "      <td>336.0</td>\n",
       "      <td>0</td>\n",
       "      <td>images/train/ID_5f5daa1a.jpg</td>\n",
       "    </tr>\n",
       "    <tr>\n",
       "      <th>25</th>\n",
       "      <td>ID_5f5daa1a.jpg</td>\n",
       "      <td>healthy</td>\n",
       "      <td>1.0</td>\n",
       "      <td>1091.0</td>\n",
       "      <td>1283.0</td>\n",
       "      <td>1536.0</td>\n",
       "      <td>1970.0</td>\n",
       "      <td>0</td>\n",
       "      <td>images/train/ID_5f5daa1a.jpg</td>\n",
       "    </tr>\n",
       "    <tr>\n",
       "      <th>26</th>\n",
       "      <td>ID_5f5daa1a.jpg</td>\n",
       "      <td>healthy</td>\n",
       "      <td>1.0</td>\n",
       "      <td>886.0</td>\n",
       "      <td>1834.0</td>\n",
       "      <td>1222.0</td>\n",
       "      <td>2048.0</td>\n",
       "      <td>0</td>\n",
       "      <td>images/train/ID_5f5daa1a.jpg</td>\n",
       "    </tr>\n",
       "  </tbody>\n",
       "</table>\n",
       "</div>"
      ],
      "text/plain": [
       "           Image_ID                 class  confidence    ymin    xmin    ymax  \\\n",
       "0   ID_625a7f2c.jpg  maize_streak_disease         1.0  1374.0    35.0  4608.0   \n",
       "23  ID_5f5daa1a.jpg               healthy         1.0  1091.0   656.0  1343.0   \n",
       "24  ID_5f5daa1a.jpg               healthy         1.0   705.0    46.0  1180.0   \n",
       "25  ID_5f5daa1a.jpg               healthy         1.0  1091.0  1283.0  1536.0   \n",
       "26  ID_5f5daa1a.jpg               healthy         1.0   886.0  1834.0  1222.0   \n",
       "\n",
       "      xmax  class_id                     ImagePath  \n",
       "0   2731.0         2  images/train/ID_625a7f2c.jpg  \n",
       "23   924.0         0  images/train/ID_5f5daa1a.jpg  \n",
       "24   336.0         0  images/train/ID_5f5daa1a.jpg  \n",
       "25  1970.0         0  images/train/ID_5f5daa1a.jpg  \n",
       "26  2048.0         0  images/train/ID_5f5daa1a.jpg  "
      ]
     },
     "execution_count": 72,
     "metadata": {},
     "output_type": "execute_result"
    }
   ],
   "source": [
    "train_df.head()"
   ]
  },
  {
   "cell_type": "code",
   "execution_count": 73,
   "id": "458a6dc4",
   "metadata": {
    "execution": {
     "iopub.execute_input": "2025-05-25T00:59:06.175318Z",
     "iopub.status.busy": "2025-05-25T00:59:06.174979Z",
     "iopub.status.idle": "2025-05-25T00:59:06.200510Z",
     "shell.execute_reply": "2025-05-25T00:59:06.199523Z"
    },
    "id": "VIxGzQMwEDso",
    "outputId": "e0979171-9acc-4156-ab80-a9fd9570e1d0",
    "papermill": {
     "duration": 0.136041,
     "end_time": "2025-05-25T00:59:06.201818",
     "exception": false,
     "start_time": "2025-05-25T00:59:06.065777",
     "status": "completed"
    },
    "tags": []
   },
   "outputs": [
    {
     "name": "stdout",
     "output_type": "stream",
     "text": [
      "<class 'pandas.core.frame.DataFrame'>\n",
      "Index: 72358 entries, 0 to 91410\n",
      "Data columns (total 9 columns):\n",
      " #   Column      Non-Null Count  Dtype  \n",
      "---  ------      --------------  -----  \n",
      " 0   Image_ID    72358 non-null  object \n",
      " 1   class       72358 non-null  object \n",
      " 2   confidence  72358 non-null  float64\n",
      " 3   ymin        72358 non-null  float64\n",
      " 4   xmin        72358 non-null  float64\n",
      " 5   ymax        72358 non-null  float64\n",
      " 6   xmax        72358 non-null  float64\n",
      " 7   class_id    72358 non-null  int64  \n",
      " 8   ImagePath   72358 non-null  object \n",
      "dtypes: float64(5), int64(1), object(3)\n",
      "memory usage: 5.5+ MB\n"
     ]
    }
   ],
   "source": [
    "train_df.info()"
   ]
  },
  {
   "cell_type": "code",
   "execution_count": 74,
   "id": "63cfb30e",
   "metadata": {
    "execution": {
     "iopub.execute_input": "2025-05-25T00:59:06.416284Z",
     "iopub.status.busy": "2025-05-25T00:59:06.415957Z",
     "iopub.status.idle": "2025-05-25T00:59:06.420935Z",
     "shell.execute_reply": "2025-05-25T00:59:06.420214Z"
    },
    "papermill": {
     "duration": 0.112237,
     "end_time": "2025-05-25T00:59:06.422063",
     "exception": false,
     "start_time": "2025-05-25T00:59:06.309826",
     "status": "completed"
    },
    "tags": []
   },
   "outputs": [
    {
     "name": "stdout",
     "output_type": "stream",
     "text": [
      "True\n"
     ]
    }
   ],
   "source": [
    "from pathlib import Path\n",
    "\n",
    "image_name = \"ID_625a7f2c.jpg\"\n",
    "existe = (ORIG_TRAIN_IMAGES_DIR / image_name).exists()\n",
    "print(existe)"
   ]
  },
  {
   "cell_type": "code",
   "execution_count": 75,
   "id": "757f1b80",
   "metadata": {
    "execution": {
     "iopub.execute_input": "2025-05-25T00:59:06.640403Z",
     "iopub.status.busy": "2025-05-25T00:59:06.640088Z",
     "iopub.status.idle": "2025-05-25T00:59:06.643867Z",
     "shell.execute_reply": "2025-05-25T00:59:06.643194Z"
    },
    "papermill": {
     "duration": 0.114661,
     "end_time": "2025-05-25T00:59:06.645124",
     "exception": false,
     "start_time": "2025-05-25T00:59:06.530463",
     "status": "completed"
    },
    "tags": []
   },
   "outputs": [],
   "source": [
    "# Facultatif : filtered_train_df le nouveau fichier prend le relais \n",
    "#train_df = pd.read_csv(WORK_DIR / \"balanced_train_df.csv\")\n"
   ]
  },
  {
   "cell_type": "code",
   "execution_count": 76,
   "id": "5af43f09",
   "metadata": {
    "execution": {
     "iopub.execute_input": "2025-05-25T00:59:06.871094Z",
     "iopub.status.busy": "2025-05-25T00:59:06.870786Z",
     "iopub.status.idle": "2025-05-25T00:59:06.881930Z",
     "shell.execute_reply": "2025-05-25T00:59:06.880989Z"
    },
    "papermill": {
     "duration": 0.127423,
     "end_time": "2025-05-25T00:59:06.883279",
     "exception": false,
     "start_time": "2025-05-25T00:59:06.755856",
     "status": "completed"
    },
    "tags": []
   },
   "outputs": [
    {
     "name": "stdout",
     "output_type": "stream",
     "text": [
      "📄 Nombre total d'annotations : 72,358\n",
      "🖼️ Nombre d'images uniques : 13,408\n"
     ]
    }
   ],
   "source": [
    "print(f\"📄 Nombre total d'annotations : {len(train_df):,}\")\n",
    "print(f\"🖼️ Nombre d'images uniques : {train_df['Image_ID'].nunique():,}\")\n"
   ]
  },
  {
   "cell_type": "code",
   "execution_count": 77,
   "id": "c0296e73",
   "metadata": {
    "execution": {
     "iopub.execute_input": "2025-05-25T00:59:07.175720Z",
     "iopub.status.busy": "2025-05-25T00:59:07.175424Z",
     "iopub.status.idle": "2025-05-25T01:00:44.148768Z",
     "shell.execute_reply": "2025-05-25T01:00:44.147894Z"
    },
    "papermill": {
     "duration": 97.159426,
     "end_time": "2025-05-25T01:00:44.150050",
     "exception": false,
     "start_time": "2025-05-25T00:59:06.990624",
     "status": "completed"
    },
    "tags": []
   },
   "outputs": [
    {
     "name": "stdout",
     "output_type": "stream",
     "text": [
      "\n",
      "Création du jeu de validation...\n"
     ]
    },
    {
     "name": "stderr",
     "output_type": "stream",
     "text": [
      "100%|██████████| 3353/3353 [01:36<00:00, 34.58it/s]\n"
     ]
    }
   ],
   "source": [
    "import shutil\n",
    "from pathlib import Path\n",
    "from tqdm import tqdm\n",
    "\n",
    "print(\"\\nCréation du jeu de validation...\")\n",
    "\n",
    "for image_name in tqdm(val_names):\n",
    "    # Ajouter l'extension .jpg à l'image\n",
    "    image_name_with_extension = image_name\n",
    "    \n",
    "    # Copier l'image dans le répertoire de validation\n",
    "    src_img = ORIG_TRAIN_IMAGES_DIR / image_name_with_extension\n",
    "    dst_img = VAL_IMAGES_DIR / image_name_with_extension\n",
    "    \n",
    "    # Vérifie si l'image source existe\n",
    "    if src_img.exists():\n",
    "        shutil.copy(src_img, dst_img)  # Utiliser copy au lieu de move\n",
    "    else:\n",
    "        print(f\"⚠️ L'image {src_img} n'existe pas.\")\n",
    "    \n",
    "    # Copier le label dans le répertoire de validation\n",
    "    label_name = Path(image_name_with_extension).stem + \".txt\"\n",
    "    src_label = ORIG_TRAIN_LABELS_DIR / label_name\n",
    "    dst_label = VAL_LABELS_DIR / label_name\n",
    "    \n",
    "    # Vérifie si le label source existe\n",
    "    if src_label.exists():\n",
    "        shutil.copy(src_label, dst_label)  # Utiliser copy au lieu de move\n",
    "    else:\n",
    "        print(f\"⚠️ Le label {src_label} n'existe pas.\")\n"
   ]
  },
  {
   "cell_type": "code",
   "execution_count": 78,
   "id": "836d8a9d",
   "metadata": {
    "execution": {
     "iopub.execute_input": "2025-05-25T01:00:44.400885Z",
     "iopub.status.busy": "2025-05-25T01:00:44.400278Z",
     "iopub.status.idle": "2025-05-25T01:00:44.472641Z",
     "shell.execute_reply": "2025-05-25T01:00:44.471641Z"
    },
    "papermill": {
     "duration": 0.199816,
     "end_time": "2025-05-25T01:00:44.473883",
     "exception": false,
     "start_time": "2025-05-25T01:00:44.274067",
     "status": "completed"
    },
    "tags": []
   },
   "outputs": [
    {
     "name": "stdout",
     "output_type": "stream",
     "text": [
      "\n",
      "Vérification finale :\n",
      "Train images: 16761\n",
      "Train labels: 16761\n",
      "Val images: 3353\n",
      "Val labels: 3353\n"
     ]
    }
   ],
   "source": [
    "# Vérification des comptes\n",
    "print(\"\\nVérification finale :\")\n",
    "print(f\"Train images: {count_files(ORIG_TRAIN_IMAGES_DIR)}\")\n",
    "print(f\"Train labels: {count_files(ORIG_TRAIN_LABELS_DIR)}\")\n",
    "\n",
    "print(f\"Val images: {count_files(VAL_IMAGES_DIR)}\")\n",
    "print(f\"Val labels: {count_files(VAL_LABELS_DIR)}\")\n"
   ]
  },
  {
   "cell_type": "code",
   "execution_count": 79,
   "id": "8ac5b252",
   "metadata": {
    "execution": {
     "iopub.execute_input": "2025-05-25T01:00:44.729410Z",
     "iopub.status.busy": "2025-05-25T01:00:44.728704Z",
     "iopub.status.idle": "2025-05-25T01:00:44.976035Z",
     "shell.execute_reply": "2025-05-25T01:00:44.975302Z"
    },
    "id": "G0uBoOE8GKN8",
    "outputId": "1c67c341-7da6-4a91-f1d1-c733ade06cd6",
    "papermill": {
     "duration": 0.37753,
     "end_time": "2025-05-25T01:00:44.977397",
     "exception": false,
     "start_time": "2025-05-25T01:00:44.599867",
     "status": "completed"
    },
    "tags": []
   },
   "outputs": [
    {
     "data": {
      "image/png": "[encoded data removed]",
      "text/plain": [
       "<Figure size 640x480 with 1 Axes>"
      ]
     },
     "metadata": {},
     "output_type": "display_data"
    }
   ],
   "source": [
    "\n",
    "class_counts = train_df['class'].value_counts()\n",
    "\n",
    "sns.barplot(x=class_counts.index, y=class_counts.values,hue=class_counts.index, palette='viridis')\n",
    "\n",
    "for i, value in enumerate(class_counts.values):\n",
    "    plt.text(i, value + 0.05 * value, str(value), ha='center', va='bottom', fontsize=10, color='black')\n",
    "\n",
    "plt.title('Class Distribution train_df')\n",
    "plt.xlabel('Class')\n",
    "plt.ylabel('Count')\n",
    "\n",
    "plt.show()"
   ]
  },
  {
   "cell_type": "code",
   "execution_count": 80,
   "id": "29b718e6",
   "metadata": {
    "execution": {
     "iopub.execute_input": "2025-05-25T01:00:45.241270Z",
     "iopub.status.busy": "2025-05-25T01:00:45.240923Z",
     "iopub.status.idle": "2025-05-25T01:00:45.247478Z",
     "shell.execute_reply": "2025-05-25T01:00:45.246647Z"
    },
    "papermill": {
     "duration": 0.141637,
     "end_time": "2025-05-25T01:00:45.248691",
     "exception": false,
     "start_time": "2025-05-25T01:00:45.107054",
     "status": "completed"
    },
    "tags": []
   },
   "outputs": [
    {
     "name": "stdout",
     "output_type": "stream",
     "text": [
      "class\n",
      "fall_armyworm           11490\n",
      "healthy                  4894\n",
      "maize_streak_disease     2677\n",
      "Name: count, dtype: int64\n"
     ]
    }
   ],
   "source": [
    "print(val_df['class'].value_counts())\n"
   ]
  },
  {
   "cell_type": "code",
   "execution_count": 81,
   "id": "c6dfc3d8",
   "metadata": {
    "execution": {
     "iopub.execute_input": "2025-05-25T01:00:45.516017Z",
     "iopub.status.busy": "2025-05-25T01:00:45.515256Z",
     "iopub.status.idle": "2025-05-25T01:00:45.682282Z",
     "shell.execute_reply": "2025-05-25T01:00:45.681365Z"
    },
    "papermill": {
     "duration": 0.300236,
     "end_time": "2025-05-25T01:00:45.683528",
     "exception": false,
     "start_time": "2025-05-25T01:00:45.383292",
     "status": "completed"
    },
    "tags": []
   },
   "outputs": [
    {
     "data": {
      "image/png": "[encoded data removed]",
      "text/plain": [
       "<Figure size 640x480 with 1 Axes>"
      ]
     },
     "metadata": {},
     "output_type": "display_data"
    }
   ],
   "source": [
    "\n",
    "# Compter les classes\n",
    "class_counts = val_df['class'].value_counts()\n",
    "\n",
    "# Créer le graphique\n",
    "sns.barplot(x=class_counts.index, y=class_counts.values, palette='coolwarm')\n",
    "\n",
    "# Ajouter les valeurs sur les barres\n",
    "for i, value in enumerate(class_counts.values):\n",
    "    plt.text(i, value + 0.05 * value, str(value), ha='center', va='bottom', fontsize=10, color='black')\n",
    "\n",
    "plt.title('Class Distribution in val_df')\n",
    "plt.xlabel('Class')\n",
    "plt.ylabel('Count')\n",
    "plt.show()\n"
   ]
  },
  {
   "cell_type": "code",
   "execution_count": 82,
   "id": "dcb76856",
   "metadata": {
    "execution": {
     "iopub.execute_input": "2025-05-25T01:00:46.066478Z",
     "iopub.status.busy": "2025-05-25T01:00:46.066182Z",
     "iopub.status.idle": "2025-05-25T01:00:46.084222Z",
     "shell.execute_reply": "2025-05-25T01:00:46.083236Z"
    },
    "id": "nQI79ekzLvUK",
    "outputId": "ff95197c-1f68-4e1c-b4f4-9745b8e1ad43",
    "papermill": {
     "duration": 0.184791,
     "end_time": "2025-05-25T01:00:46.085519",
     "exception": false,
     "start_time": "2025-05-25T01:00:45.900728",
     "status": "completed"
    },
    "tags": []
   },
   "outputs": [
    {
     "name": "stdout",
     "output_type": "stream",
     "text": [
      "\n",
      "✅ Fichier YAML généré : data.yaml\n",
      "\n",
      "📊 Résumé des classes :\n",
      "- Class: fall_armyworm             | Instances: 42689 | Weight: 1.70\n",
      "- Class: healthy                   | Instances: 19019 | Weight: 3.80\n",
      "- Class: maize_streak_disease      | Instances: 10650 | Weight: 6.79\n"
     ]
    }
   ],
   "source": [
    "import yaml\n",
    "\n",
    "# Distribution des classes dans train_df\n",
    "class_counts = train_df['class'].value_counts()\n",
    "\n",
    "# Calcul des pondérations inverses des classes (à titre d'information uniquement)\n",
    "total_counts = class_counts.sum()\n",
    "class_weights = {class_name: total_counts / count for class_name, count in class_counts.items()}\n",
    "\n",
    "# Génération de la liste des noms de classes\n",
    "class_names = sorted(train_df['class'].unique().tolist())\n",
    "num_classes = len(class_names)\n",
    "\n",
    "# Création d'un résumé des classes avec le nom, le nombre d'instances et le poids\n",
    "class_summary = []\n",
    "for class_name in class_names:\n",
    "    class_summary.append({\n",
    "        'class': class_name,\n",
    "        'instances': int(class_counts[class_name]),\n",
    "        'weight': float(class_weights[class_name])\n",
    "    })\n",
    "\n",
    "# Création du dictionnaire des données YAML (sans le champ 'weights')\n",
    "data_yaml = {\n",
    "    \"path\": str(DATASETS_DIR.absolute()),\n",
    "    'train': str(ORIG_TRAIN_IMAGES_DIR.absolute()),\n",
    "    'val': str(VAL_IMAGES_DIR.absolute()),\n",
    "    'test': str(TEST_IMAGES_DIR.absolute()),\n",
    "    'nc': num_classes,\n",
    "    'names': class_names\n",
    "}\n",
    "\n",
    "# Sauvegarde du fichier YAML\n",
    "yaml_path = 'data.yaml'  # Définir un chemin où l'écriture est autorisée\n",
    "with open(yaml_path, 'w') as file:\n",
    "    yaml.dump(data_yaml, file, default_flow_style=False, sort_keys=False)\n",
    "\n",
    "# Affichage du fichier YAML généré\n",
    "print(\"\\n✅ Fichier YAML généré :\", yaml_path)\n",
    "\n",
    "# Affichage du résumé des classes\n",
    "print(\"\\n📊 Résumé des classes :\")\n",
    "for summary in class_summary:\n",
    "    print(f\"- Class: {summary['class']:25} | Instances: {summary['instances']:4} | Weight: {summary['weight']:.2f}\")\n"
   ]
  },
  {
   "cell_type": "code",
   "execution_count": 83,
   "id": "d16d76e8",
   "metadata": {
    "execution": {
     "iopub.execute_input": "2025-05-25T01:00:46.349710Z",
     "iopub.status.busy": "2025-05-25T01:00:46.349415Z",
     "iopub.status.idle": "2025-05-25T01:00:46.494753Z",
     "shell.execute_reply": "2025-05-25T01:00:46.493549Z"
    },
    "papermill": {
     "duration": 0.279385,
     "end_time": "2025-05-25T01:00:46.496449",
     "exception": false,
     "start_time": "2025-05-25T01:00:46.217064",
     "status": "completed"
    },
    "tags": []
   },
   "outputs": [
    {
     "name": "stdout",
     "output_type": "stream",
     "text": [
      "/kaggle/working\r\n"
     ]
    }
   ],
   "source": [
    "!pwd"
   ]
  },
  {
   "cell_type": "code",
   "execution_count": null,
   "id": "174d326a",
   "metadata": {
    "papermill": {
     "duration": 0.139365,
     "end_time": "2025-05-25T01:00:46.765903",
     "exception": false,
     "start_time": "2025-05-25T01:00:46.626538",
     "status": "completed"
    },
    "tags": []
   },
   "outputs": [],
   "source": []
  },
  {
   "cell_type": "code",
   "execution_count": 84,
   "id": "09284663",
   "metadata": {
    "execution": {
     "iopub.execute_input": "2025-05-25T01:00:47.039080Z",
     "iopub.status.busy": "2025-05-25T01:00:47.038051Z",
     "iopub.status.idle": "2025-05-25T01:00:47.046277Z",
     "shell.execute_reply": "2025-05-25T01:00:47.045412Z"
    },
    "papermill": {
     "duration": 0.146825,
     "end_time": "2025-05-25T01:00:47.047465",
     "exception": false,
     "start_time": "2025-05-25T01:00:46.900640",
     "status": "completed"
    },
    "tags": []
   },
   "outputs": [
    {
     "data": {
      "text/plain": [
       "(13408, 13408)"
      ]
     },
     "execution_count": 84,
     "metadata": {},
     "output_type": "execute_result"
    }
   ],
   "source": [
    "len(train_names), len(set(train_names))"
   ]
  },
  {
   "cell_type": "code",
   "execution_count": 85,
   "id": "e470494c",
   "metadata": {
    "execution": {
     "iopub.execute_input": "2025-05-25T01:00:47.308808Z",
     "iopub.status.busy": "2025-05-25T01:00:47.308524Z",
     "iopub.status.idle": "2025-05-25T01:00:47.314264Z",
     "shell.execute_reply": "2025-05-25T01:00:47.313419Z"
    },
    "papermill": {
     "duration": 0.135988,
     "end_time": "2025-05-25T01:00:47.315627",
     "exception": false,
     "start_time": "2025-05-25T01:00:47.179639",
     "status": "completed"
    },
    "tags": []
   },
   "outputs": [
    {
     "data": {
      "text/plain": [
       "(3353, 3353)"
      ]
     },
     "execution_count": 85,
     "metadata": {},
     "output_type": "execute_result"
    }
   ],
   "source": [
    "len(val_names), len(set(val_names))"
   ]
  },
  {
   "cell_type": "code",
   "execution_count": 86,
   "id": "55af2168",
   "metadata": {
    "execution": {
     "iopub.execute_input": "2025-05-25T01:00:47.574472Z",
     "iopub.status.busy": "2025-05-25T01:00:47.573634Z",
     "iopub.status.idle": "2025-05-25T01:00:47.586901Z",
     "shell.execute_reply": "2025-05-25T01:00:47.586086Z"
    },
    "papermill": {
     "duration": 0.142706,
     "end_time": "2025-05-25T01:00:47.588032",
     "exception": false,
     "start_time": "2025-05-25T01:00:47.445326",
     "status": "completed"
    },
    "tags": []
   },
   "outputs": [],
   "source": [
    "val_image_names = [str(Path(name).stem) for name in val_df['Image_ID'].unique()]"
   ]
  },
  {
   "cell_type": "code",
   "execution_count": 87,
   "id": "c3153194",
   "metadata": {
    "execution": {
     "iopub.execute_input": "2025-05-25T01:00:47.902841Z",
     "iopub.status.busy": "2025-05-25T01:00:47.902233Z",
     "iopub.status.idle": "2025-05-25T01:00:47.907833Z",
     "shell.execute_reply": "2025-05-25T01:00:47.907024Z"
    },
    "papermill": {
     "duration": 0.14411,
     "end_time": "2025-05-25T01:00:47.909087",
     "exception": false,
     "start_time": "2025-05-25T01:00:47.764977",
     "status": "completed"
    },
    "tags": []
   },
   "outputs": [
    {
     "data": {
      "text/plain": [
       "3353"
      ]
     },
     "execution_count": 87,
     "metadata": {},
     "output_type": "execute_result"
    }
   ],
   "source": [
    "len(val_image_names)"
   ]
  },
  {
   "cell_type": "code",
   "execution_count": 88,
   "id": "a08250c9",
   "metadata": {
    "execution": {
     "iopub.execute_input": "2025-05-25T01:00:48.183072Z",
     "iopub.status.busy": "2025-05-25T01:00:48.182771Z",
     "iopub.status.idle": "2025-05-25T01:00:48.193305Z",
     "shell.execute_reply": "2025-05-25T01:00:48.192621Z"
    },
    "papermill": {
     "duration": 0.152434,
     "end_time": "2025-05-25T01:00:48.194564",
     "exception": false,
     "start_time": "2025-05-25T01:00:48.042130",
     "status": "completed"
    },
    "tags": []
   },
   "outputs": [
    {
     "data": {
      "text/plain": [
       "(16761, 13408)"
      ]
     },
     "execution_count": 88,
     "metadata": {},
     "output_type": "execute_result"
    }
   ],
   "source": [
    "# list of images in TRAIN_IMAGES_DIR\n",
    "images_in_train_dir = os.listdir(ORIG_TRAIN_IMAGES_DIR)\n",
    "len(images_in_train_dir), len(train_names)"
   ]
  },
  {
   "cell_type": "code",
   "execution_count": 89,
   "id": "c204c2c4",
   "metadata": {
    "execution": {
     "iopub.execute_input": "2025-05-25T01:00:48.465026Z",
     "iopub.status.busy": "2025-05-25T01:00:48.464266Z",
     "iopub.status.idle": "2025-05-25T01:00:48.524811Z",
     "shell.execute_reply": "2025-05-25T01:00:48.523897Z"
    },
    "papermill": {
     "duration": 0.199343,
     "end_time": "2025-05-25T01:00:48.526248",
     "exception": false,
     "start_time": "2025-05-25T01:00:48.326905",
     "status": "completed"
    },
    "tags": []
   },
   "outputs": [],
   "source": [
    "train_image_names = [str(Path(name).stem) for name in train_df['ImagePath'].unique()]"
   ]
  },
  {
   "cell_type": "code",
   "execution_count": 90,
   "id": "28301f77",
   "metadata": {
    "execution": {
     "iopub.execute_input": "2025-05-25T01:00:48.787589Z",
     "iopub.status.busy": "2025-05-25T01:00:48.787043Z",
     "iopub.status.idle": "2025-05-25T01:00:48.792250Z",
     "shell.execute_reply": "2025-05-25T01:00:48.791459Z"
    },
    "papermill": {
     "duration": 0.137293,
     "end_time": "2025-05-25T01:00:48.793485",
     "exception": false,
     "start_time": "2025-05-25T01:00:48.656192",
     "status": "completed"
    },
    "tags": []
   },
   "outputs": [
    {
     "data": {
      "text/plain": [
       "13408"
      ]
     },
     "execution_count": 90,
     "metadata": {},
     "output_type": "execute_result"
    }
   ],
   "source": [
    "len(train_image_names)"
   ]
  },
  {
   "cell_type": "code",
   "execution_count": 91,
   "id": "ec20b237",
   "metadata": {
    "execution": {
     "iopub.execute_input": "2025-05-25T01:00:49.059291Z",
     "iopub.status.busy": "2025-05-25T01:00:49.058969Z",
     "iopub.status.idle": "2025-05-25T01:00:54.358160Z",
     "shell.execute_reply": "2025-05-25T01:00:54.357127Z"
    },
    "papermill": {
     "duration": 5.435442,
     "end_time": "2025-05-25T01:00:54.359739",
     "exception": false,
     "start_time": "2025-05-25T01:00:48.924297",
     "status": "completed"
    },
    "tags": []
   },
   "outputs": [
    {
     "name": "stdout",
     "output_type": "stream",
     "text": [
      "Requirement already satisfied: albumentations in /usr/local/lib/python3.11/dist-packages (2.0.4)\r\n",
      "Collecting albumentations\r\n",
      "  Downloading albumentations-2.0.7-py3-none-any.whl.metadata (43 kB)\r\n",
      "\u001b[2K     \u001b[90m━━━━━━━━━━━━━━━━━━━━━━━━━━━━━━━━━━━━━━━━\u001b[0m \u001b[32m43.1/43.1 kB\u001b[0m \u001b[31m1.9 MB/s\u001b[0m eta \u001b[36m0:00:00\u001b[0m\r\n",
      "\u001b[?25hRequirement already satisfied: numpy>=1.24.4 in /usr/local/lib/python3.11/dist-packages (from albumentations) (1.26.4)\r\n",
      "Requirement already satisfied: scipy>=1.10.0 in /usr/local/lib/python3.11/dist-packages (from albumentations) (1.15.2)\r\n",
      "Requirement already satisfied: PyYAML in /usr/local/lib/python3.11/dist-packages (from albumentations) (6.0.2)\r\n",
      "Requirement already satisfied: pydantic>=2.9.2 in /usr/local/lib/python3.11/dist-packages (from albumentations) (2.11.3)\r\n",
      "Collecting albucore==0.0.24 (from albumentations)\r\n",
      "  Downloading albucore-0.0.24-py3-none-any.whl.metadata (5.3 kB)\r\n",
      "Requirement already satisfied: opencv-python-headless>=4.9.0.80 in /usr/local/lib/python3.11/dist-packages (from albumentations) (4.11.0.86)\r\n",
      "Requirement already satisfied: stringzilla>=3.10.4 in /usr/local/lib/python3.11/dist-packages (from albucore==0.0.24->albumentations) (3.11.3)\r\n",
      "Requirement already satisfied: simsimd>=5.9.2 in /usr/local/lib/python3.11/dist-packages (from albucore==0.0.24->albumentations) (6.2.1)\r\n",
      "Requirement already satisfied: mkl_fft in /usr/local/lib/python3.11/dist-packages (from numpy>=1.24.4->albumentations) (1.3.8)\r\n",
      "Requirement already satisfied: mkl_random in /usr/local/lib/python3.11/dist-packages (from numpy>=1.24.4->albumentations) (1.2.4)\r\n",
      "Requirement already satisfied: mkl_umath in /usr/local/lib/python3.11/dist-packages (from numpy>=1.24.4->albumentations) (0.1.1)\r\n",
      "Requirement already satisfied: mkl in /usr/local/lib/python3.11/dist-packages (from numpy>=1.24.4->albumentations) (2025.1.0)\r\n",
      "Requirement already satisfied: tbb4py in /usr/local/lib/python3.11/dist-packages (from numpy>=1.24.4->albumentations) (2022.1.0)\r\n",
      "Requirement already satisfied: mkl-service in /usr/local/lib/python3.11/dist-packages (from numpy>=1.24.4->albumentations) (2.4.1)\r\n",
      "Requirement already satisfied: annotated-types>=0.6.0 in /usr/local/lib/python3.11/dist-packages (from pydantic>=2.9.2->albumentations) (0.7.0)\r\n",
      "Requirement already satisfied: pydantic-core==2.33.1 in /usr/local/lib/python3.11/dist-packages (from pydantic>=2.9.2->albumentations) (2.33.1)\r\n",
      "Requirement already satisfied: typing-extensions>=4.12.2 in /usr/local/lib/python3.11/dist-packages (from pydantic>=2.9.2->albumentations) (4.13.1)\r\n",
      "Requirement already satisfied: typing-inspection>=0.4.0 in /usr/local/lib/python3.11/dist-packages (from pydantic>=2.9.2->albumentations) (0.4.0)\r\n",
      "Requirement already satisfied: intel-openmp<2026,>=2024 in /usr/local/lib/python3.11/dist-packages (from mkl->numpy>=1.24.4->albumentations) (2024.2.0)\r\n",
      "Requirement already satisfied: tbb==2022.* in /usr/local/lib/python3.11/dist-packages (from mkl->numpy>=1.24.4->albumentations) (2022.1.0)\r\n",
      "Requirement already satisfied: tcmlib==1.* in /usr/local/lib/python3.11/dist-packages (from tbb==2022.*->mkl->numpy>=1.24.4->albumentations) (1.2.0)\r\n",
      "Requirement already satisfied: intel-cmplr-lib-rt in /usr/local/lib/python3.11/dist-packages (from mkl_umath->numpy>=1.24.4->albumentations) (2024.2.0)\r\n",
      "Requirement already satisfied: intel-cmplr-lib-ur==2024.2.0 in /usr/local/lib/python3.11/dist-packages (from intel-openmp<2026,>=2024->mkl->numpy>=1.24.4->albumentations) (2024.2.0)\r\n",
      "Downloading albumentations-2.0.7-py3-none-any.whl (367 kB)\r\n",
      "\u001b[2K   \u001b[90m━━━━━━━━━━━━━━━━━━━━━━━━━━━━━━━━━━━━━━━━\u001b[0m \u001b[32m367.1/367.1 kB\u001b[0m \u001b[31m10.9 MB/s\u001b[0m eta \u001b[36m0:00:00\u001b[0m\r\n",
      "\u001b[?25hDownloading albucore-0.0.24-py3-none-any.whl (15 kB)\r\n",
      "Installing collected packages: albucore, albumentations\r\n",
      "  Attempting uninstall: albucore\r\n",
      "    Found existing installation: albucore 0.0.23\r\n",
      "    Uninstalling albucore-0.0.23:\r\n",
      "      Successfully uninstalled albucore-0.0.23\r\n",
      "  Attempting uninstall: albumentations\r\n",
      "    Found existing installation: albumentations 2.0.4\r\n",
      "    Uninstalling albumentations-2.0.4:\r\n",
      "      Successfully uninstalled albumentations-2.0.4\r\n",
      "Successfully installed albucore-0.0.24 albumentations-2.0.7\r\n"
     ]
    }
   ],
   "source": [
    "!pip install -U albumentations"
   ]
  },
  {
   "cell_type": "code",
   "execution_count": 92,
   "id": "8cf07e92",
   "metadata": {
    "execution": {
     "iopub.execute_input": "2025-05-25T01:00:54.626580Z",
     "iopub.status.busy": "2025-05-25T01:00:54.625706Z",
     "iopub.status.idle": "2025-05-25T03:56:48.440786Z",
     "shell.execute_reply": "2025-05-25T03:56:48.439613Z"
    },
    "id": "salxVNfckgpl",
    "outputId": "ab47f28e-89f2-4951-f5a8-8e684227f073",
    "papermill": {
     "duration": 10553.950921,
     "end_time": "2025-05-25T03:56:48.442606",
     "exception": false,
     "start_time": "2025-05-25T01:00:54.491685",
     "status": "completed"
    },
    "tags": []
   },
   "outputs": [
    {
     "name": "stdout",
     "output_type": "stream",
     "text": [
      "Downloading https://github.com/ultralytics/assets/releases/download/v8.3.0/yolo11l.pt to 'yolo11l.pt'...\n"
     ]
    },
    {
     "name": "stderr",
     "output_type": "stream",
     "text": [
      "100%|██████████| 49.0M/49.0M [00:00<00:00, 188MB/s]\n"
     ]
    },
    {
     "name": "stdout",
     "output_type": "stream",
     "text": [
      "Ultralytics 8.3.144 🚀 Python-3.11.11 torch-2.5.1+cu124 CUDA:0 (Tesla T4, 15095MiB)\n",
      "\u001b[34m\u001b[1mengine/trainer: \u001b[0magnostic_nms=False, amp=True, augment=False, auto_augment=False, batch=8, bgr=0.0, box=7.5, cache=disk, cfg=None, classes=None, close_mosaic=10, cls=0.5, conf=None, copy_paste=0.0, copy_paste_mode=flip, cos_lr=True, cutmix=0.0, data=data.yaml, degrees=0.0, deterministic=True, device=0, dfl=1.5, dnn=False, dropout=0.0, dynamic=False, embed=None, epochs=5, erasing=0.4, exist_ok=True, fliplr=0.5, flipud=0.0, format=torchscript, fraction=1.0, freeze=None, half=False, hsv_h=0.015, hsv_s=0.7, hsv_v=0.4, imgsz=1024, int8=False, iou=0.7, keras=False, kobj=1.0, line_width=None, lr0=0.01, lrf=0.01, mask_ratio=4, max_det=300, mixup=0.0, mode=train, model=yolo11l'.pt, momentum=0.937, mosaic=1.0, multi_scale=False, name=train, nbs=64, nms=False, opset=None, optimize=False, optimizer=auto, overlap_mask=True, patience=0, perspective=0.0, plots=True, pose=12.0, pretrained=True, profile=False, project=None, rect=False, resume=False, retina_masks=False, save=True, save_conf=False, save_crop=False, save_dir=runs/detect/train, save_frames=False, save_json=False, save_period=-1, save_txt=False, scale=0.5, seed=0, shear=0.0, show=False, show_boxes=True, show_conf=True, show_labels=True, simplify=True, single_cls=False, source=None, split=val, stream_buffer=False, task=detect, time=None, tracker=botsort.yaml, translate=0.1, val=True, verbose=True, vid_stride=1, visualize=False, warmup_bias_lr=0.1, warmup_epochs=3.0, warmup_momentum=0.8, weight_decay=0.0005, workers=8, workspace=None\n",
      "Downloading https://ultralytics.com/assets/Arial.ttf to '/root/.config/Ultralytics/Arial.ttf'...\n"
     ]
    },
    {
     "name": "stderr",
     "output_type": "stream",
     "text": [
      "100%|██████████| 755k/755k [00:00<00:00, 17.8MB/s]\n"
     ]
    },
    {
     "name": "stdout",
     "output_type": "stream",
     "text": [
      "Overriding model.yaml nc=80 with nc=3\n",
      "\n",
      "                   from  n    params  module                                       arguments                     \n",
      "  0                  -1  1      1856  ultralytics.nn.modules.conv.Conv             [3, 64, 3, 2]                 \n",
      "  1                  -1  1     73984  ultralytics.nn.modules.conv.Conv             [64, 128, 3, 2]               \n",
      "  2                  -1  2    173824  ultralytics.nn.modules.block.C3k2            [128, 256, 2, True, 0.25]     \n",
      "  3                  -1  1    590336  ultralytics.nn.modules.conv.Conv             [256, 256, 3, 2]              \n",
      "  4                  -1  2    691712  ultralytics.nn.modules.block.C3k2            [256, 512, 2, True, 0.25]     \n",
      "  5                  -1  1   2360320  ultralytics.nn.modules.conv.Conv             [512, 512, 3, 2]              \n",
      "  6                  -1  2   2234368  ultralytics.nn.modules.block.C3k2            [512, 512, 2, True]           \n",
      "  7                  -1  1   2360320  ultralytics.nn.modules.conv.Conv             [512, 512, 3, 2]              \n",
      "  8                  -1  2   2234368  ultralytics.nn.modules.block.C3k2            [512, 512, 2, True]           \n",
      "  9                  -1  1    656896  ultralytics.nn.modules.block.SPPF            [512, 512, 5]                 \n",
      " 10                  -1  2   1455616  ultralytics.nn.modules.block.C2PSA           [512, 512, 2]                 \n",
      " 11                  -1  1         0  torch.nn.modules.upsampling.Upsample         [None, 2, 'nearest']          \n",
      " 12             [-1, 6]  1         0  ultralytics.nn.modules.conv.Concat           [1]                           \n",
      " 13                  -1  2   2496512  ultralytics.nn.modules.block.C3k2            [1024, 512, 2, True]          \n",
      " 14                  -1  1         0  torch.nn.modules.upsampling.Upsample         [None, 2, 'nearest']          \n",
      " 15             [-1, 4]  1         0  ultralytics.nn.modules.conv.Concat           [1]                           \n",
      " 16                  -1  2    756736  ultralytics.nn.modules.block.C3k2            [1024, 256, 2, True]          \n",
      " 17                  -1  1    590336  ultralytics.nn.modules.conv.Conv             [256, 256, 3, 2]              \n",
      " 18            [-1, 13]  1         0  ultralytics.nn.modules.conv.Concat           [1]                           \n",
      " 19                  -1  2   2365440  ultralytics.nn.modules.block.C3k2            [768, 512, 2, True]           \n",
      " 20                  -1  1   2360320  ultralytics.nn.modules.conv.Conv             [512, 512, 3, 2]              \n",
      " 21            [-1, 10]  1         0  ultralytics.nn.modules.conv.Concat           [1]                           \n",
      " 22                  -1  2   2496512  ultralytics.nn.modules.block.C3k2            [1024, 512, 2, True]          \n",
      " 23        [16, 19, 22]  1   1413337  ultralytics.nn.modules.head.Detect           [3, [256, 512, 512]]          \n",
      "YOLO11l summary: 357 layers, 25,312,793 parameters, 25,312,777 gradients, 87.3 GFLOPs\n",
      "\n",
      "Transferred 1009/1015 items from pretrained weights\n",
      "Freezing layer 'model.23.dfl.conv.weight'\n",
      "\u001b[34m\u001b[1mAMP: \u001b[0mrunning Automatic Mixed Precision (AMP) checks...\n",
      "Downloading https://github.com/ultralytics/assets/releases/download/v8.3.0/yolo11n.pt to 'yolo11n.pt'...\n"
     ]
    },
    {
     "name": "stderr",
     "output_type": "stream",
     "text": [
      "100%|██████████| 5.35M/5.35M [00:00<00:00, 74.4MB/s]\n"
     ]
    },
    {
     "name": "stdout",
     "output_type": "stream",
     "text": [
      "\u001b[34m\u001b[1mAMP: \u001b[0mchecks passed ✅\n",
      "\u001b[34m\u001b[1mtrain: \u001b[0mFast image access ✅ (ping: 0.0±0.0 ms, read: 108.1±121.5 MB/s, size: 1178.8 KB)\n"
     ]
    },
    {
     "name": "stderr",
     "output_type": "stream",
     "text": [
      "\u001b[34m\u001b[1mtrain: \u001b[0mScanning /kaggle/input/maize-corn-ds/MAIZE/labels/train... 16455 images, 0 backgrounds, 308 corrupt: 100%|██████████| 16761/16761 [01:33<00:00, 178.44it/s]"
     ]
    },
    {
     "name": "stdout",
     "output_type": "stream",
     "text": [
      "\u001b[34m\u001b[1mtrain: \u001b[0m/kaggle/input/maize-corn-ds/MAIZE/images/train/ID_005a4335.jpg: ignoring corrupt image/label: [Errno 30] Read-only file system: '/kaggle/input/maize-corn-ds/MAIZE/images/train/ID_005a4335.jpg'\n",
      "\u001b[34m\u001b[1mtrain: \u001b[0m/kaggle/input/maize-corn-ds/MAIZE/images/train/ID_0103fc38.jpg: ignoring corrupt image/label: [Errno 30] Read-only file system: '/kaggle/input/maize-corn-ds/MAIZE/images/train/ID_0103fc38.jpg'\n",
      "\u001b[34m\u001b[1mtrain: \u001b[0m/kaggle/input/maize-corn-ds/MAIZE/images/train/ID_013b9cc1.jpg: ignoring corrupt image/label: [Errno 30] Read-only file system: '/kaggle/input/maize-corn-ds/MAIZE/images/train/ID_013b9cc1.jpg'\n",
      "\u001b[34m\u001b[1mtrain: \u001b[0m/kaggle/input/maize-corn-ds/MAIZE/images/train/ID_0169210b.jpg: ignoring corrupt image/label: [Errno 30] Read-only file system: '/kaggle/input/maize-corn-ds/MAIZE/images/train/ID_0169210b.jpg'\n",
      "\u001b[34m\u001b[1mtrain: \u001b[0m/kaggle/input/maize-corn-ds/MAIZE/images/train/ID_0297c22f.jpg: ignoring corrupt image/label: [Errno 30] Read-only file system: '/kaggle/input/maize-corn-ds/MAIZE/images/train/ID_0297c22f.jpg'\n",
      "\u001b[34m\u001b[1mtrain: \u001b[0m/kaggle/input/maize-corn-ds/MAIZE/images/train/ID_0311b2ea.jpg: ignoring corrupt image/label: [Errno 30] Read-only file system: '/kaggle/input/maize-corn-ds/MAIZE/images/train/ID_0311b2ea.jpg'\n",
      "\u001b[34m\u001b[1mtrain: \u001b[0m/kaggle/input/maize-corn-ds/MAIZE/images/train/ID_031bd9c8.jpg: ignoring corrupt image/label: [Errno 30] Read-only file system: '/kaggle/input/maize-corn-ds/MAIZE/images/train/ID_031bd9c8.jpg'\n",
      "\u001b[34m\u001b[1mtrain: \u001b[0m/kaggle/input/maize-corn-ds/MAIZE/images/train/ID_062c44a6.jpg: ignoring corrupt image/label: [Errno 30] Read-only file system: '/kaggle/input/maize-corn-ds/MAIZE/images/train/ID_062c44a6.jpg'\n",
      "\u001b[34m\u001b[1mtrain: \u001b[0m/kaggle/input/maize-corn-ds/MAIZE/images/train/ID_07129137.jpg: ignoring corrupt image/label: [Errno 30] Read-only file system: '/kaggle/input/maize-corn-ds/MAIZE/images/train/ID_07129137.jpg'\n",
      "\u001b[34m\u001b[1mtrain: \u001b[0m/kaggle/input/maize-corn-ds/MAIZE/images/train/ID_0809708d.jpg: ignoring corrupt image/label: [Errno 30] Read-only file system: '/kaggle/input/maize-corn-ds/MAIZE/images/train/ID_0809708d.jpg'\n",
      "\u001b[34m\u001b[1mtrain: \u001b[0m/kaggle/input/maize-corn-ds/MAIZE/images/train/ID_087ada38.jpg: ignoring corrupt image/label: [Errno 30] Read-only file system: '/kaggle/input/maize-corn-ds/MAIZE/images/train/ID_087ada38.jpg'\n",
      "\u001b[34m\u001b[1mtrain: \u001b[0m/kaggle/input/maize-corn-ds/MAIZE/images/train/ID_08c5b3a7.jpg: ignoring corrupt image/label: [Errno 30] Read-only file system: '/kaggle/input/maize-corn-ds/MAIZE/images/train/ID_08c5b3a7.jpg'\n",
      "\u001b[34m\u001b[1mtrain: \u001b[0m/kaggle/input/maize-corn-ds/MAIZE/images/train/ID_08ecbdb5.jpg: ignoring corrupt image/label: [Errno 30] Read-only file system: '/kaggle/input/maize-corn-ds/MAIZE/images/train/ID_08ecbdb5.jpg'\n",
      "\u001b[34m\u001b[1mtrain: \u001b[0m/kaggle/input/maize-corn-ds/MAIZE/images/train/ID_094bb41d.jpg: ignoring corrupt image/label: [Errno 30] Read-only file system: '/kaggle/input/maize-corn-ds/MAIZE/images/train/ID_094bb41d.jpg'\n",
      "\u001b[34m\u001b[1mtrain: \u001b[0m/kaggle/input/maize-corn-ds/MAIZE/images/train/ID_0a112abd.jpg: ignoring corrupt image/label: [Errno 30] Read-only file system: '/kaggle/input/maize-corn-ds/MAIZE/images/train/ID_0a112abd.jpg'\n",
      "\u001b[34m\u001b[1mtrain: \u001b[0m/kaggle/input/maize-corn-ds/MAIZE/images/train/ID_0a44c144.jpg: ignoring corrupt image/label: [Errno 30] Read-only file system: '/kaggle/input/maize-corn-ds/MAIZE/images/train/ID_0a44c144.jpg'\n",
      "\u001b[34m\u001b[1mtrain: \u001b[0m/kaggle/input/maize-corn-ds/MAIZE/images/train/ID_0c371fd8.jpg: ignoring corrupt image/label: [Errno 30] Read-only file system: '/kaggle/input/maize-corn-ds/MAIZE/images/train/ID_0c371fd8.jpg'\n",
      "\u001b[34m\u001b[1mtrain: \u001b[0m/kaggle/input/maize-corn-ds/MAIZE/images/train/ID_0c45571d.jpg: ignoring corrupt image/label: [Errno 30] Read-only file system: '/kaggle/input/maize-corn-ds/MAIZE/images/train/ID_0c45571d.jpg'\n",
      "\u001b[34m\u001b[1mtrain: \u001b[0m/kaggle/input/maize-corn-ds/MAIZE/images/train/ID_0cdb6f54.jpg: ignoring corrupt image/label: [Errno 30] Read-only file system: '/kaggle/input/maize-corn-ds/MAIZE/images/train/ID_0cdb6f54.jpg'\n",
      "\u001b[34m\u001b[1mtrain: \u001b[0m/kaggle/input/maize-corn-ds/MAIZE/images/train/ID_0e81282a.jpg: ignoring corrupt image/label: [Errno 30] Read-only file system: '/kaggle/input/maize-corn-ds/MAIZE/images/train/ID_0e81282a.jpg'\n",
      "\u001b[34m\u001b[1mtrain: \u001b[0m/kaggle/input/maize-corn-ds/MAIZE/images/train/ID_0efb9edb.jpg: ignoring corrupt image/label: [Errno 30] Read-only file system: '/kaggle/input/maize-corn-ds/MAIZE/images/train/ID_0efb9edb.jpg'\n",
      "\u001b[34m\u001b[1mtrain: \u001b[0m/kaggle/input/maize-corn-ds/MAIZE/images/train/ID_0f5f2290.jpg: ignoring corrupt image/label: [Errno 30] Read-only file system: '/kaggle/input/maize-corn-ds/MAIZE/images/train/ID_0f5f2290.jpg'\n",
      "\u001b[34m\u001b[1mtrain: \u001b[0m/kaggle/input/maize-corn-ds/MAIZE/images/train/ID_12d82ce1.jpg: ignoring corrupt image/label: [Errno 30] Read-only file system: '/kaggle/input/maize-corn-ds/MAIZE/images/train/ID_12d82ce1.jpg'\n",
      "\u001b[34m\u001b[1mtrain: \u001b[0m/kaggle/input/maize-corn-ds/MAIZE/images/train/ID_13471643.jpg: ignoring corrupt image/label: [Errno 30] Read-only file system: '/kaggle/input/maize-corn-ds/MAIZE/images/train/ID_13471643.jpg'\n",
      "\u001b[34m\u001b[1mtrain: \u001b[0m/kaggle/input/maize-corn-ds/MAIZE/images/train/ID_137b790a.jpg: ignoring corrupt image/label: [Errno 30] Read-only file system: '/kaggle/input/maize-corn-ds/MAIZE/images/train/ID_137b790a.jpg'\n",
      "\u001b[34m\u001b[1mtrain: \u001b[0m/kaggle/input/maize-corn-ds/MAIZE/images/train/ID_137dbb0d.jpg: ignoring corrupt image/label: [Errno 30] Read-only file system: '/kaggle/input/maize-corn-ds/MAIZE/images/train/ID_137dbb0d.jpg'\n",
      "\u001b[34m\u001b[1mtrain: \u001b[0m/kaggle/input/maize-corn-ds/MAIZE/images/train/ID_1441b661.jpg: ignoring corrupt image/label: [Errno 30] Read-only file system: '/kaggle/input/maize-corn-ds/MAIZE/images/train/ID_1441b661.jpg'\n",
      "\u001b[34m\u001b[1mtrain: \u001b[0m/kaggle/input/maize-corn-ds/MAIZE/images/train/ID_15922f33.jpg: ignoring corrupt image/label: [Errno 30] Read-only file system: '/kaggle/input/maize-corn-ds/MAIZE/images/train/ID_15922f33.jpg'\n",
      "\u001b[34m\u001b[1mtrain: \u001b[0m/kaggle/input/maize-corn-ds/MAIZE/images/train/ID_15c3f851.jpg: ignoring corrupt image/label: [Errno 30] Read-only file system: '/kaggle/input/maize-corn-ds/MAIZE/images/train/ID_15c3f851.jpg'\n",
      "\u001b[34m\u001b[1mtrain: \u001b[0m/kaggle/input/maize-corn-ds/MAIZE/images/train/ID_16a28b04.jpg: ignoring corrupt image/label: [Errno 30] Read-only file system: '/kaggle/input/maize-corn-ds/MAIZE/images/train/ID_16a28b04.jpg'\n",
      "\u001b[34m\u001b[1mtrain: \u001b[0m/kaggle/input/maize-corn-ds/MAIZE/images/train/ID_176cca37.jpg: ignoring corrupt image/label: [Errno 30] Read-only file system: '/kaggle/input/maize-corn-ds/MAIZE/images/train/ID_176cca37.jpg'\n",
      "\u001b[34m\u001b[1mtrain: \u001b[0m/kaggle/input/maize-corn-ds/MAIZE/images/train/ID_17f85bb7.jpg: ignoring corrupt image/label: [Errno 30] Read-only file system: '/kaggle/input/maize-corn-ds/MAIZE/images/train/ID_17f85bb7.jpg'\n",
      "\u001b[34m\u001b[1mtrain: \u001b[0m/kaggle/input/maize-corn-ds/MAIZE/images/train/ID_18f36c4e.jpg: ignoring corrupt image/label: [Errno 30] Read-only file system: '/kaggle/input/maize-corn-ds/MAIZE/images/train/ID_18f36c4e.jpg'\n",
      "\u001b[34m\u001b[1mtrain: \u001b[0m/kaggle/input/maize-corn-ds/MAIZE/images/train/ID_18f62692.jpg: ignoring corrupt image/label: [Errno 30] Read-only file system: '/kaggle/input/maize-corn-ds/MAIZE/images/train/ID_18f62692.jpg'\n",
      "\u001b[34m\u001b[1mtrain: \u001b[0m/kaggle/input/maize-corn-ds/MAIZE/images/train/ID_1964d148.jpg: ignoring corrupt image/label: [Errno 30] Read-only file system: '/kaggle/input/maize-corn-ds/MAIZE/images/train/ID_1964d148.jpg'\n",
      "\u001b[34m\u001b[1mtrain: \u001b[0m/kaggle/input/maize-corn-ds/MAIZE/images/train/ID_196a3fee.jpg: ignoring corrupt image/label: [Errno 30] Read-only file system: '/kaggle/input/maize-corn-ds/MAIZE/images/train/ID_196a3fee.jpg'\n",
      "\u001b[34m\u001b[1mtrain: \u001b[0m/kaggle/input/maize-corn-ds/MAIZE/images/train/ID_1a3cadf9.jpg: ignoring corrupt image/label: non-normalized or out of bounds coordinates [      1.013]\n",
      "\u001b[34m\u001b[1mtrain: \u001b[0m/kaggle/input/maize-corn-ds/MAIZE/images/train/ID_1a7fbf04.jpg: ignoring corrupt image/label: [Errno 30] Read-only file system: '/kaggle/input/maize-corn-ds/MAIZE/images/train/ID_1a7fbf04.jpg'\n",
      "\u001b[34m\u001b[1mtrain: \u001b[0m/kaggle/input/maize-corn-ds/MAIZE/images/train/ID_1ad09213.jpg: ignoring corrupt image/label: [Errno 30] Read-only file system: '/kaggle/input/maize-corn-ds/MAIZE/images/train/ID_1ad09213.jpg'\n",
      "\u001b[34m\u001b[1mtrain: \u001b[0m/kaggle/input/maize-corn-ds/MAIZE/images/train/ID_1c63d35e.jpg: ignoring corrupt image/label: [Errno 30] Read-only file system: '/kaggle/input/maize-corn-ds/MAIZE/images/train/ID_1c63d35e.jpg'\n",
      "\u001b[34m\u001b[1mtrain: \u001b[0m/kaggle/input/maize-corn-ds/MAIZE/images/train/ID_1e26f4dd.jpg: ignoring corrupt image/label: [Errno 30] Read-only file system: '/kaggle/input/maize-corn-ds/MAIZE/images/train/ID_1e26f4dd.jpg'\n",
      "\u001b[34m\u001b[1mtrain: \u001b[0m/kaggle/input/maize-corn-ds/MAIZE/images/train/ID_1eefb34b.jpg: ignoring corrupt image/label: [Errno 30] Read-only file system: '/kaggle/input/maize-corn-ds/MAIZE/images/train/ID_1eefb34b.jpg'\n",
      "\u001b[34m\u001b[1mtrain: \u001b[0m/kaggle/input/maize-corn-ds/MAIZE/images/train/ID_1f8d96e8.jpg: ignoring corrupt image/label: [Errno 30] Read-only file system: '/kaggle/input/maize-corn-ds/MAIZE/images/train/ID_1f8d96e8.jpg'\n",
      "\u001b[34m\u001b[1mtrain: \u001b[0m/kaggle/input/maize-corn-ds/MAIZE/images/train/ID_20497d7e.jpg: ignoring corrupt image/label: [Errno 30] Read-only file system: '/kaggle/input/maize-corn-ds/MAIZE/images/train/ID_20497d7e.jpg'\n",
      "\u001b[34m\u001b[1mtrain: \u001b[0m/kaggle/input/maize-corn-ds/MAIZE/images/train/ID_205ef6dd.jpg: ignoring corrupt image/label: [Errno 30] Read-only file system: '/kaggle/input/maize-corn-ds/MAIZE/images/train/ID_205ef6dd.jpg'\n",
      "\u001b[34m\u001b[1mtrain: \u001b[0m/kaggle/input/maize-corn-ds/MAIZE/images/train/ID_20f1a2a9.jpg: ignoring corrupt image/label: [Errno 30] Read-only file system: '/kaggle/input/maize-corn-ds/MAIZE/images/train/ID_20f1a2a9.jpg'\n",
      "\u001b[34m\u001b[1mtrain: \u001b[0m/kaggle/input/maize-corn-ds/MAIZE/images/train/ID_21c01131.jpg: ignoring corrupt image/label: [Errno 30] Read-only file system: '/kaggle/input/maize-corn-ds/MAIZE/images/train/ID_21c01131.jpg'\n",
      "\u001b[34m\u001b[1mtrain: \u001b[0m/kaggle/input/maize-corn-ds/MAIZE/images/train/ID_2228f901.jpg: ignoring corrupt image/label: [Errno 30] Read-only file system: '/kaggle/input/maize-corn-ds/MAIZE/images/train/ID_2228f901.jpg'\n",
      "\u001b[34m\u001b[1mtrain: \u001b[0m/kaggle/input/maize-corn-ds/MAIZE/images/train/ID_2342e73a.jpg: ignoring corrupt image/label: [Errno 30] Read-only file system: '/kaggle/input/maize-corn-ds/MAIZE/images/train/ID_2342e73a.jpg'\n",
      "\u001b[34m\u001b[1mtrain: \u001b[0m/kaggle/input/maize-corn-ds/MAIZE/images/train/ID_26119ec4.jpg: ignoring corrupt image/label: [Errno 30] Read-only file system: '/kaggle/input/maize-corn-ds/MAIZE/images/train/ID_26119ec4.jpg'\n",
      "\u001b[34m\u001b[1mtrain: \u001b[0m/kaggle/input/maize-corn-ds/MAIZE/images/train/ID_27d6df58.jpg: ignoring corrupt image/label: [Errno 30] Read-only file system: '/kaggle/input/maize-corn-ds/MAIZE/images/train/ID_27d6df58.jpg'\n",
      "\u001b[34m\u001b[1mtrain: \u001b[0m/kaggle/input/maize-corn-ds/MAIZE/images/train/ID_27e5f436.jpg: ignoring corrupt image/label: [Errno 30] Read-only file system: '/kaggle/input/maize-corn-ds/MAIZE/images/train/ID_27e5f436.jpg'\n",
      "\u001b[34m\u001b[1mtrain: \u001b[0m/kaggle/input/maize-corn-ds/MAIZE/images/train/ID_27f2124b.jpg: ignoring corrupt image/label: [Errno 30] Read-only file system: '/kaggle/input/maize-corn-ds/MAIZE/images/train/ID_27f2124b.jpg'\n",
      "\u001b[34m\u001b[1mtrain: \u001b[0m/kaggle/input/maize-corn-ds/MAIZE/images/train/ID_29b2ec4e.jpg: ignoring corrupt image/label: [Errno 30] Read-only file system: '/kaggle/input/maize-corn-ds/MAIZE/images/train/ID_29b2ec4e.jpg'\n",
      "\u001b[34m\u001b[1mtrain: \u001b[0m/kaggle/input/maize-corn-ds/MAIZE/images/train/ID_2b384ea0.jpg: ignoring corrupt image/label: [Errno 30] Read-only file system: '/kaggle/input/maize-corn-ds/MAIZE/images/train/ID_2b384ea0.jpg'\n",
      "\u001b[34m\u001b[1mtrain: \u001b[0m/kaggle/input/maize-corn-ds/MAIZE/images/train/ID_2b79906d.jpg: ignoring corrupt image/label: [Errno 30] Read-only file system: '/kaggle/input/maize-corn-ds/MAIZE/images/train/ID_2b79906d.jpg'\n",
      "\u001b[34m\u001b[1mtrain: \u001b[0m/kaggle/input/maize-corn-ds/MAIZE/images/train/ID_2bf436a6.jpg: ignoring corrupt image/label: [Errno 30] Read-only file system: '/kaggle/input/maize-corn-ds/MAIZE/images/train/ID_2bf436a6.jpg'\n",
      "\u001b[34m\u001b[1mtrain: \u001b[0m/kaggle/input/maize-corn-ds/MAIZE/images/train/ID_2c576d4b.jpg: ignoring corrupt image/label: [Errno 30] Read-only file system: '/kaggle/input/maize-corn-ds/MAIZE/images/train/ID_2c576d4b.jpg'\n",
      "\u001b[34m\u001b[1mtrain: \u001b[0m/kaggle/input/maize-corn-ds/MAIZE/images/train/ID_2d2e255d.jpg: ignoring corrupt image/label: [Errno 30] Read-only file system: '/kaggle/input/maize-corn-ds/MAIZE/images/train/ID_2d2e255d.jpg'\n",
      "\u001b[34m\u001b[1mtrain: \u001b[0m/kaggle/input/maize-corn-ds/MAIZE/images/train/ID_2d4bcd9f.jpg: ignoring corrupt image/label: [Errno 30] Read-only file system: '/kaggle/input/maize-corn-ds/MAIZE/images/train/ID_2d4bcd9f.jpg'\n",
      "\u001b[34m\u001b[1mtrain: \u001b[0m/kaggle/input/maize-corn-ds/MAIZE/images/train/ID_309a9bc2.jpg: ignoring corrupt image/label: [Errno 30] Read-only file system: '/kaggle/input/maize-corn-ds/MAIZE/images/train/ID_309a9bc2.jpg'\n",
      "\u001b[34m\u001b[1mtrain: \u001b[0m/kaggle/input/maize-corn-ds/MAIZE/images/train/ID_31b7599f.jpg: ignoring corrupt image/label: [Errno 30] Read-only file system: '/kaggle/input/maize-corn-ds/MAIZE/images/train/ID_31b7599f.jpg'\n",
      "\u001b[34m\u001b[1mtrain: \u001b[0m/kaggle/input/maize-corn-ds/MAIZE/images/train/ID_369d09cd.jpg: ignoring corrupt image/label: [Errno 30] Read-only file system: '/kaggle/input/maize-corn-ds/MAIZE/images/train/ID_369d09cd.jpg'\n",
      "\u001b[34m\u001b[1mtrain: \u001b[0m/kaggle/input/maize-corn-ds/MAIZE/images/train/ID_383d834a.jpg: ignoring corrupt image/label: [Errno 30] Read-only file system: '/kaggle/input/maize-corn-ds/MAIZE/images/train/ID_383d834a.jpg'\n",
      "\u001b[34m\u001b[1mtrain: \u001b[0m/kaggle/input/maize-corn-ds/MAIZE/images/train/ID_38e015d9.jpg: ignoring corrupt image/label: [Errno 30] Read-only file system: '/kaggle/input/maize-corn-ds/MAIZE/images/train/ID_38e015d9.jpg'\n",
      "\u001b[34m\u001b[1mtrain: \u001b[0m/kaggle/input/maize-corn-ds/MAIZE/images/train/ID_39238af3.jpg: ignoring corrupt image/label: [Errno 30] Read-only file system: '/kaggle/input/maize-corn-ds/MAIZE/images/train/ID_39238af3.jpg'\n",
      "\u001b[34m\u001b[1mtrain: \u001b[0m/kaggle/input/maize-corn-ds/MAIZE/images/train/ID_3aa4a0d1.jpg: ignoring corrupt image/label: [Errno 30] Read-only file system: '/kaggle/input/maize-corn-ds/MAIZE/images/train/ID_3aa4a0d1.jpg'\n",
      "\u001b[34m\u001b[1mtrain: \u001b[0m/kaggle/input/maize-corn-ds/MAIZE/images/train/ID_3bd4f327.jpg: ignoring corrupt image/label: [Errno 30] Read-only file system: '/kaggle/input/maize-corn-ds/MAIZE/images/train/ID_3bd4f327.jpg'\n",
      "\u001b[34m\u001b[1mtrain: \u001b[0m/kaggle/input/maize-corn-ds/MAIZE/images/train/ID_3c8d963c.jpg: ignoring corrupt image/label: [Errno 30] Read-only file system: '/kaggle/input/maize-corn-ds/MAIZE/images/train/ID_3c8d963c.jpg'\n",
      "\u001b[34m\u001b[1mtrain: \u001b[0m/kaggle/input/maize-corn-ds/MAIZE/images/train/ID_3d2ecd9f.jpg: ignoring corrupt image/label: [Errno 30] Read-only file system: '/kaggle/input/maize-corn-ds/MAIZE/images/train/ID_3d2ecd9f.jpg'\n",
      "\u001b[34m\u001b[1mtrain: \u001b[0m/kaggle/input/maize-corn-ds/MAIZE/images/train/ID_3e11be2f.jpg: ignoring corrupt image/label: [Errno 30] Read-only file system: '/kaggle/input/maize-corn-ds/MAIZE/images/train/ID_3e11be2f.jpg'\n",
      "\u001b[34m\u001b[1mtrain: \u001b[0m/kaggle/input/maize-corn-ds/MAIZE/images/train/ID_3eebc8e3.jpg: ignoring corrupt image/label: [Errno 30] Read-only file system: '/kaggle/input/maize-corn-ds/MAIZE/images/train/ID_3eebc8e3.jpg'\n",
      "\u001b[34m\u001b[1mtrain: \u001b[0m/kaggle/input/maize-corn-ds/MAIZE/images/train/ID_3ef68ae7.jpg: ignoring corrupt image/label: [Errno 30] Read-only file system: '/kaggle/input/maize-corn-ds/MAIZE/images/train/ID_3ef68ae7.jpg'\n",
      "\u001b[34m\u001b[1mtrain: \u001b[0m/kaggle/input/maize-corn-ds/MAIZE/images/train/ID_40780c61.jpg: ignoring corrupt image/label: [Errno 30] Read-only file system: '/kaggle/input/maize-corn-ds/MAIZE/images/train/ID_40780c61.jpg'\n",
      "\u001b[34m\u001b[1mtrain: \u001b[0m/kaggle/input/maize-corn-ds/MAIZE/images/train/ID_4151d53d.jpg: ignoring corrupt image/label: [Errno 30] Read-only file system: '/kaggle/input/maize-corn-ds/MAIZE/images/train/ID_4151d53d.jpg'\n",
      "\u001b[34m\u001b[1mtrain: \u001b[0m/kaggle/input/maize-corn-ds/MAIZE/images/train/ID_43bc6828.jpg: ignoring corrupt image/label: [Errno 30] Read-only file system: '/kaggle/input/maize-corn-ds/MAIZE/images/train/ID_43bc6828.jpg'\n",
      "\u001b[34m\u001b[1mtrain: \u001b[0m/kaggle/input/maize-corn-ds/MAIZE/images/train/ID_447e6c62.jpg: ignoring corrupt image/label: [Errno 30] Read-only file system: '/kaggle/input/maize-corn-ds/MAIZE/images/train/ID_447e6c62.jpg'\n",
      "\u001b[34m\u001b[1mtrain: \u001b[0m/kaggle/input/maize-corn-ds/MAIZE/images/train/ID_4655cf9a.jpg: ignoring corrupt image/label: [Errno 30] Read-only file system: '/kaggle/input/maize-corn-ds/MAIZE/images/train/ID_4655cf9a.jpg'\n",
      "\u001b[34m\u001b[1mtrain: \u001b[0m/kaggle/input/maize-corn-ds/MAIZE/images/train/ID_46c42b83.jpg: ignoring corrupt image/label: [Errno 30] Read-only file system: '/kaggle/input/maize-corn-ds/MAIZE/images/train/ID_46c42b83.jpg'\n",
      "\u001b[34m\u001b[1mtrain: \u001b[0m/kaggle/input/maize-corn-ds/MAIZE/images/train/ID_474a9d7b.jpg: ignoring corrupt image/label: [Errno 30] Read-only file system: '/kaggle/input/maize-corn-ds/MAIZE/images/train/ID_474a9d7b.jpg'\n",
      "\u001b[34m\u001b[1mtrain: \u001b[0m/kaggle/input/maize-corn-ds/MAIZE/images/train/ID_48098ca2.jpg: ignoring corrupt image/label: [Errno 30] Read-only file system: '/kaggle/input/maize-corn-ds/MAIZE/images/train/ID_48098ca2.jpg'\n",
      "\u001b[34m\u001b[1mtrain: \u001b[0m/kaggle/input/maize-corn-ds/MAIZE/images/train/ID_4933f35a.jpg: ignoring corrupt image/label: [Errno 30] Read-only file system: '/kaggle/input/maize-corn-ds/MAIZE/images/train/ID_4933f35a.jpg'\n",
      "\u001b[34m\u001b[1mtrain: \u001b[0m/kaggle/input/maize-corn-ds/MAIZE/images/train/ID_49cb4718.jpg: ignoring corrupt image/label: [Errno 30] Read-only file system: '/kaggle/input/maize-corn-ds/MAIZE/images/train/ID_49cb4718.jpg'\n",
      "\u001b[34m\u001b[1mtrain: \u001b[0m/kaggle/input/maize-corn-ds/MAIZE/images/train/ID_4c21d7de.jpg: ignoring corrupt image/label: [Errno 30] Read-only file system: '/kaggle/input/maize-corn-ds/MAIZE/images/train/ID_4c21d7de.jpg'\n",
      "\u001b[34m\u001b[1mtrain: \u001b[0m/kaggle/input/maize-corn-ds/MAIZE/images/train/ID_4c6970b0.jpg: ignoring corrupt image/label: [Errno 30] Read-only file system: '/kaggle/input/maize-corn-ds/MAIZE/images/train/ID_4c6970b0.jpg'\n",
      "\u001b[34m\u001b[1mtrain: \u001b[0m/kaggle/input/maize-corn-ds/MAIZE/images/train/ID_4d83cdb2.jpg: ignoring corrupt image/label: [Errno 30] Read-only file system: '/kaggle/input/maize-corn-ds/MAIZE/images/train/ID_4d83cdb2.jpg'\n",
      "\u001b[34m\u001b[1mtrain: \u001b[0m/kaggle/input/maize-corn-ds/MAIZE/images/train/ID_4e5f528a.jpg: ignoring corrupt image/label: [Errno 30] Read-only file system: '/kaggle/input/maize-corn-ds/MAIZE/images/train/ID_4e5f528a.jpg'\n",
      "\u001b[34m\u001b[1mtrain: \u001b[0m/kaggle/input/maize-corn-ds/MAIZE/images/train/ID_4f677def.jpg: ignoring corrupt image/label: [Errno 30] Read-only file system: '/kaggle/input/maize-corn-ds/MAIZE/images/train/ID_4f677def.jpg'\n",
      "\u001b[34m\u001b[1mtrain: \u001b[0m/kaggle/input/maize-corn-ds/MAIZE/images/train/ID_4f6c9cbf.jpg: ignoring corrupt image/label: [Errno 30] Read-only file system: '/kaggle/input/maize-corn-ds/MAIZE/images/train/ID_4f6c9cbf.jpg'\n",
      "\u001b[34m\u001b[1mtrain: \u001b[0m/kaggle/input/maize-corn-ds/MAIZE/images/train/ID_4fc7879b.jpg: ignoring corrupt image/label: [Errno 30] Read-only file system: '/kaggle/input/maize-corn-ds/MAIZE/images/train/ID_4fc7879b.jpg'\n",
      "\u001b[34m\u001b[1mtrain: \u001b[0m/kaggle/input/maize-corn-ds/MAIZE/images/train/ID_50ef42c5.jpg: ignoring corrupt image/label: [Errno 30] Read-only file system: '/kaggle/input/maize-corn-ds/MAIZE/images/train/ID_50ef42c5.jpg'\n",
      "\u001b[34m\u001b[1mtrain: \u001b[0m/kaggle/input/maize-corn-ds/MAIZE/images/train/ID_51ca3887.jpg: ignoring corrupt image/label: [Errno 30] Read-only file system: '/kaggle/input/maize-corn-ds/MAIZE/images/train/ID_51ca3887.jpg'\n",
      "\u001b[34m\u001b[1mtrain: \u001b[0m/kaggle/input/maize-corn-ds/MAIZE/images/train/ID_52c92803.jpg: ignoring corrupt image/label: [Errno 30] Read-only file system: '/kaggle/input/maize-corn-ds/MAIZE/images/train/ID_52c92803.jpg'\n",
      "\u001b[34m\u001b[1mtrain: \u001b[0m/kaggle/input/maize-corn-ds/MAIZE/images/train/ID_532261b6.jpg: ignoring corrupt image/label: [Errno 30] Read-only file system: '/kaggle/input/maize-corn-ds/MAIZE/images/train/ID_532261b6.jpg'\n",
      "\u001b[34m\u001b[1mtrain: \u001b[0m/kaggle/input/maize-corn-ds/MAIZE/images/train/ID_53949409.jpg: ignoring corrupt image/label: [Errno 30] Read-only file system: '/kaggle/input/maize-corn-ds/MAIZE/images/train/ID_53949409.jpg'\n",
      "\u001b[34m\u001b[1mtrain: \u001b[0m/kaggle/input/maize-corn-ds/MAIZE/images/train/ID_53a63554.jpg: ignoring corrupt image/label: [Errno 30] Read-only file system: '/kaggle/input/maize-corn-ds/MAIZE/images/train/ID_53a63554.jpg'\n",
      "\u001b[34m\u001b[1mtrain: \u001b[0m/kaggle/input/maize-corn-ds/MAIZE/images/train/ID_53f89d4d.jpg: ignoring corrupt image/label: [Errno 30] Read-only file system: '/kaggle/input/maize-corn-ds/MAIZE/images/train/ID_53f89d4d.jpg'\n",
      "\u001b[34m\u001b[1mtrain: \u001b[0m/kaggle/input/maize-corn-ds/MAIZE/images/train/ID_54aa8110.jpg: ignoring corrupt image/label: [Errno 30] Read-only file system: '/kaggle/input/maize-corn-ds/MAIZE/images/train/ID_54aa8110.jpg'\n",
      "\u001b[34m\u001b[1mtrain: \u001b[0m/kaggle/input/maize-corn-ds/MAIZE/images/train/ID_54f1161c.jpg: ignoring corrupt image/label: [Errno 30] Read-only file system: '/kaggle/input/maize-corn-ds/MAIZE/images/train/ID_54f1161c.jpg'\n",
      "\u001b[34m\u001b[1mtrain: \u001b[0m/kaggle/input/maize-corn-ds/MAIZE/images/train/ID_58079d52.jpg: ignoring corrupt image/label: [Errno 30] Read-only file system: '/kaggle/input/maize-corn-ds/MAIZE/images/train/ID_58079d52.jpg'\n",
      "\u001b[34m\u001b[1mtrain: \u001b[0m/kaggle/input/maize-corn-ds/MAIZE/images/train/ID_587f7e79.jpg: ignoring corrupt image/label: [Errno 30] Read-only file system: '/kaggle/input/maize-corn-ds/MAIZE/images/train/ID_587f7e79.jpg'\n",
      "\u001b[34m\u001b[1mtrain: \u001b[0m/kaggle/input/maize-corn-ds/MAIZE/images/train/ID_58de409e.jpg: ignoring corrupt image/label: [Errno 30] Read-only file system: '/kaggle/input/maize-corn-ds/MAIZE/images/train/ID_58de409e.jpg'\n",
      "\u001b[34m\u001b[1mtrain: \u001b[0m/kaggle/input/maize-corn-ds/MAIZE/images/train/ID_59253f16.jpg: ignoring corrupt image/label: [Errno 30] Read-only file system: '/kaggle/input/maize-corn-ds/MAIZE/images/train/ID_59253f16.jpg'\n",
      "\u001b[34m\u001b[1mtrain: \u001b[0m/kaggle/input/maize-corn-ds/MAIZE/images/train/ID_597b1caf.jpg: ignoring corrupt image/label: [Errno 30] Read-only file system: '/kaggle/input/maize-corn-ds/MAIZE/images/train/ID_597b1caf.jpg'\n",
      "\u001b[34m\u001b[1mtrain: \u001b[0m/kaggle/input/maize-corn-ds/MAIZE/images/train/ID_5a0f3acc.jpg: ignoring corrupt image/label: [Errno 30] Read-only file system: '/kaggle/input/maize-corn-ds/MAIZE/images/train/ID_5a0f3acc.jpg'\n",
      "\u001b[34m\u001b[1mtrain: \u001b[0m/kaggle/input/maize-corn-ds/MAIZE/images/train/ID_5a2822ed.jpg: ignoring corrupt image/label: [Errno 30] Read-only file system: '/kaggle/input/maize-corn-ds/MAIZE/images/train/ID_5a2822ed.jpg'\n",
      "\u001b[34m\u001b[1mtrain: \u001b[0m/kaggle/input/maize-corn-ds/MAIZE/images/train/ID_5ab35373.jpg: ignoring corrupt image/label: [Errno 30] Read-only file system: '/kaggle/input/maize-corn-ds/MAIZE/images/train/ID_5ab35373.jpg'\n",
      "\u001b[34m\u001b[1mtrain: \u001b[0m/kaggle/input/maize-corn-ds/MAIZE/images/train/ID_5ca2400a.jpg: ignoring corrupt image/label: [Errno 30] Read-only file system: '/kaggle/input/maize-corn-ds/MAIZE/images/train/ID_5ca2400a.jpg'\n",
      "\u001b[34m\u001b[1mtrain: \u001b[0m/kaggle/input/maize-corn-ds/MAIZE/images/train/ID_5d290f82.jpg: ignoring corrupt image/label: [Errno 30] Read-only file system: '/kaggle/input/maize-corn-ds/MAIZE/images/train/ID_5d290f82.jpg'\n",
      "\u001b[34m\u001b[1mtrain: \u001b[0m/kaggle/input/maize-corn-ds/MAIZE/images/train/ID_5e913d13.jpg: ignoring corrupt image/label: [Errno 30] Read-only file system: '/kaggle/input/maize-corn-ds/MAIZE/images/train/ID_5e913d13.jpg'\n",
      "\u001b[34m\u001b[1mtrain: \u001b[0m/kaggle/input/maize-corn-ds/MAIZE/images/train/ID_5efb82c7.jpg: ignoring corrupt image/label: [Errno 30] Read-only file system: '/kaggle/input/maize-corn-ds/MAIZE/images/train/ID_5efb82c7.jpg'\n",
      "\u001b[34m\u001b[1mtrain: \u001b[0m/kaggle/input/maize-corn-ds/MAIZE/images/train/ID_5f29687e.jpg: ignoring corrupt image/label: [Errno 30] Read-only file system: '/kaggle/input/maize-corn-ds/MAIZE/images/train/ID_5f29687e.jpg'\n",
      "\u001b[34m\u001b[1mtrain: \u001b[0m/kaggle/input/maize-corn-ds/MAIZE/images/train/ID_5fc2b966.jpg: ignoring corrupt image/label: [Errno 30] Read-only file system: '/kaggle/input/maize-corn-ds/MAIZE/images/train/ID_5fc2b966.jpg'\n",
      "\u001b[34m\u001b[1mtrain: \u001b[0m/kaggle/input/maize-corn-ds/MAIZE/images/train/ID_5ff8208a.jpg: ignoring corrupt image/label: [Errno 30] Read-only file system: '/kaggle/input/maize-corn-ds/MAIZE/images/train/ID_5ff8208a.jpg'\n",
      "\u001b[34m\u001b[1mtrain: \u001b[0m/kaggle/input/maize-corn-ds/MAIZE/images/train/ID_603a5c0a.jpg: ignoring corrupt image/label: [Errno 30] Read-only file system: '/kaggle/input/maize-corn-ds/MAIZE/images/train/ID_603a5c0a.jpg'\n",
      "\u001b[34m\u001b[1mtrain: \u001b[0m/kaggle/input/maize-corn-ds/MAIZE/images/train/ID_6142ce41.jpg: ignoring corrupt image/label: [Errno 30] Read-only file system: '/kaggle/input/maize-corn-ds/MAIZE/images/train/ID_6142ce41.jpg'\n",
      "\u001b[34m\u001b[1mtrain: \u001b[0m/kaggle/input/maize-corn-ds/MAIZE/images/train/ID_61eb00a8.jpg: ignoring corrupt image/label: [Errno 30] Read-only file system: '/kaggle/input/maize-corn-ds/MAIZE/images/train/ID_61eb00a8.jpg'\n",
      "\u001b[34m\u001b[1mtrain: \u001b[0m/kaggle/input/maize-corn-ds/MAIZE/images/train/ID_648281c7.jpg: ignoring corrupt image/label: [Errno 30] Read-only file system: '/kaggle/input/maize-corn-ds/MAIZE/images/train/ID_648281c7.jpg'\n",
      "\u001b[34m\u001b[1mtrain: \u001b[0m/kaggle/input/maize-corn-ds/MAIZE/images/train/ID_64cb67c3.jpg: ignoring corrupt image/label: [Errno 30] Read-only file system: '/kaggle/input/maize-corn-ds/MAIZE/images/train/ID_64cb67c3.jpg'\n",
      "\u001b[34m\u001b[1mtrain: \u001b[0m/kaggle/input/maize-corn-ds/MAIZE/images/train/ID_666603e7.jpg: ignoring corrupt image/label: [Errno 30] Read-only file system: '/kaggle/input/maize-corn-ds/MAIZE/images/train/ID_666603e7.jpg'\n",
      "\u001b[34m\u001b[1mtrain: \u001b[0m/kaggle/input/maize-corn-ds/MAIZE/images/train/ID_66681fdd.jpg: ignoring corrupt image/label: [Errno 30] Read-only file system: '/kaggle/input/maize-corn-ds/MAIZE/images/train/ID_66681fdd.jpg'\n",
      "\u001b[34m\u001b[1mtrain: \u001b[0m/kaggle/input/maize-corn-ds/MAIZE/images/train/ID_67dddcd6.jpg: ignoring corrupt image/label: [Errno 30] Read-only file system: '/kaggle/input/maize-corn-ds/MAIZE/images/train/ID_67dddcd6.jpg'\n",
      "\u001b[34m\u001b[1mtrain: \u001b[0m/kaggle/input/maize-corn-ds/MAIZE/images/train/ID_69518569.jpg: ignoring corrupt image/label: [Errno 30] Read-only file system: '/kaggle/input/maize-corn-ds/MAIZE/images/train/ID_69518569.jpg'\n",
      "\u001b[34m\u001b[1mtrain: \u001b[0m/kaggle/input/maize-corn-ds/MAIZE/images/train/ID_69ae3356.jpg: ignoring corrupt image/label: [Errno 30] Read-only file system: '/kaggle/input/maize-corn-ds/MAIZE/images/train/ID_69ae3356.jpg'\n",
      "\u001b[34m\u001b[1mtrain: \u001b[0m/kaggle/input/maize-corn-ds/MAIZE/images/train/ID_6a82cdaf.jpg: ignoring corrupt image/label: [Errno 30] Read-only file system: '/kaggle/input/maize-corn-ds/MAIZE/images/train/ID_6a82cdaf.jpg'\n",
      "\u001b[34m\u001b[1mtrain: \u001b[0m/kaggle/input/maize-corn-ds/MAIZE/images/train/ID_6a8beb51.jpg: ignoring corrupt image/label: [Errno 30] Read-only file system: '/kaggle/input/maize-corn-ds/MAIZE/images/train/ID_6a8beb51.jpg'\n",
      "\u001b[34m\u001b[1mtrain: \u001b[0m/kaggle/input/maize-corn-ds/MAIZE/images/train/ID_6c16be95.jpg: ignoring corrupt image/label: non-normalized or out of bounds coordinates [     1.5644      3.9073      2.4713      7.7529]\n",
      "\u001b[34m\u001b[1mtrain: \u001b[0m/kaggle/input/maize-corn-ds/MAIZE/images/train/ID_6d44e9ce.jpg: ignoring corrupt image/label: [Errno 30] Read-only file system: '/kaggle/input/maize-corn-ds/MAIZE/images/train/ID_6d44e9ce.jpg'\n",
      "\u001b[34m\u001b[1mtrain: \u001b[0m/kaggle/input/maize-corn-ds/MAIZE/images/train/ID_6f52df15.jpg: ignoring corrupt image/label: [Errno 30] Read-only file system: '/kaggle/input/maize-corn-ds/MAIZE/images/train/ID_6f52df15.jpg'\n",
      "\u001b[34m\u001b[1mtrain: \u001b[0m/kaggle/input/maize-corn-ds/MAIZE/images/train/ID_6fabbb22.jpg: ignoring corrupt image/label: [Errno 30] Read-only file system: '/kaggle/input/maize-corn-ds/MAIZE/images/train/ID_6fabbb22.jpg'\n",
      "\u001b[34m\u001b[1mtrain: \u001b[0m/kaggle/input/maize-corn-ds/MAIZE/images/train/ID_70ad265e.jpg: ignoring corrupt image/label: [Errno 30] Read-only file system: '/kaggle/input/maize-corn-ds/MAIZE/images/train/ID_70ad265e.jpg'\n",
      "\u001b[34m\u001b[1mtrain: \u001b[0m/kaggle/input/maize-corn-ds/MAIZE/images/train/ID_71faa3f8.jpg: ignoring corrupt image/label: [Errno 30] Read-only file system: '/kaggle/input/maize-corn-ds/MAIZE/images/train/ID_71faa3f8.jpg'\n",
      "\u001b[34m\u001b[1mtrain: \u001b[0m/kaggle/input/maize-corn-ds/MAIZE/images/train/ID_729b2bc6.jpg: ignoring corrupt image/label: [Errno 30] Read-only file system: '/kaggle/input/maize-corn-ds/MAIZE/images/train/ID_729b2bc6.jpg'\n",
      "\u001b[34m\u001b[1mtrain: \u001b[0m/kaggle/input/maize-corn-ds/MAIZE/images/train/ID_744743a6.jpg: ignoring corrupt image/label: [Errno 30] Read-only file system: '/kaggle/input/maize-corn-ds/MAIZE/images/train/ID_744743a6.jpg'\n",
      "\u001b[34m\u001b[1mtrain: \u001b[0m/kaggle/input/maize-corn-ds/MAIZE/images/train/ID_7470c341.jpg: ignoring corrupt image/label: [Errno 30] Read-only file system: '/kaggle/input/maize-corn-ds/MAIZE/images/train/ID_7470c341.jpg'\n",
      "\u001b[34m\u001b[1mtrain: \u001b[0m/kaggle/input/maize-corn-ds/MAIZE/images/train/ID_751f17d8.jpg: ignoring corrupt image/label: [Errno 30] Read-only file system: '/kaggle/input/maize-corn-ds/MAIZE/images/train/ID_751f17d8.jpg'\n",
      "\u001b[34m\u001b[1mtrain: \u001b[0m/kaggle/input/maize-corn-ds/MAIZE/images/train/ID_75584d0a.jpg: ignoring corrupt image/label: [Errno 30] Read-only file system: '/kaggle/input/maize-corn-ds/MAIZE/images/train/ID_75584d0a.jpg'\n",
      "\u001b[34m\u001b[1mtrain: \u001b[0m/kaggle/input/maize-corn-ds/MAIZE/images/train/ID_7639208c.jpg: ignoring corrupt image/label: [Errno 30] Read-only file system: '/kaggle/input/maize-corn-ds/MAIZE/images/train/ID_7639208c.jpg'\n",
      "\u001b[34m\u001b[1mtrain: \u001b[0m/kaggle/input/maize-corn-ds/MAIZE/images/train/ID_77a29a46.jpg: ignoring corrupt image/label: [Errno 30] Read-only file system: '/kaggle/input/maize-corn-ds/MAIZE/images/train/ID_77a29a46.jpg'\n",
      "\u001b[34m\u001b[1mtrain: \u001b[0m/kaggle/input/maize-corn-ds/MAIZE/images/train/ID_7ae96e6c.jpg: ignoring corrupt image/label: [Errno 30] Read-only file system: '/kaggle/input/maize-corn-ds/MAIZE/images/train/ID_7ae96e6c.jpg'\n",
      "\u001b[34m\u001b[1mtrain: \u001b[0m/kaggle/input/maize-corn-ds/MAIZE/images/train/ID_7b81a059.jpg: ignoring corrupt image/label: [Errno 30] Read-only file system: '/kaggle/input/maize-corn-ds/MAIZE/images/train/ID_7b81a059.jpg'\n",
      "\u001b[34m\u001b[1mtrain: \u001b[0m/kaggle/input/maize-corn-ds/MAIZE/images/train/ID_7c1e5c4d.jpg: ignoring corrupt image/label: [Errno 30] Read-only file system: '/kaggle/input/maize-corn-ds/MAIZE/images/train/ID_7c1e5c4d.jpg'\n",
      "\u001b[34m\u001b[1mtrain: \u001b[0m/kaggle/input/maize-corn-ds/MAIZE/images/train/ID_7ea6cc5f.jpg: ignoring corrupt image/label: [Errno 30] Read-only file system: '/kaggle/input/maize-corn-ds/MAIZE/images/train/ID_7ea6cc5f.jpg'\n",
      "\u001b[34m\u001b[1mtrain: \u001b[0m/kaggle/input/maize-corn-ds/MAIZE/images/train/ID_7f3ee079.jpg: ignoring corrupt image/label: [Errno 30] Read-only file system: '/kaggle/input/maize-corn-ds/MAIZE/images/train/ID_7f3ee079.jpg'\n",
      "\u001b[34m\u001b[1mtrain: \u001b[0m/kaggle/input/maize-corn-ds/MAIZE/images/train/ID_8210c55e.jpg: ignoring corrupt image/label: [Errno 30] Read-only file system: '/kaggle/input/maize-corn-ds/MAIZE/images/train/ID_8210c55e.jpg'\n",
      "\u001b[34m\u001b[1mtrain: \u001b[0m/kaggle/input/maize-corn-ds/MAIZE/images/train/ID_82566c55.jpg: ignoring corrupt image/label: [Errno 30] Read-only file system: '/kaggle/input/maize-corn-ds/MAIZE/images/train/ID_82566c55.jpg'\n",
      "\u001b[34m\u001b[1mtrain: \u001b[0m/kaggle/input/maize-corn-ds/MAIZE/images/train/ID_82ecd0c2.jpg: ignoring corrupt image/label: [Errno 30] Read-only file system: '/kaggle/input/maize-corn-ds/MAIZE/images/train/ID_82ecd0c2.jpg'\n",
      "\u001b[34m\u001b[1mtrain: \u001b[0m/kaggle/input/maize-corn-ds/MAIZE/images/train/ID_83099eec.jpg: ignoring corrupt image/label: [Errno 30] Read-only file system: '/kaggle/input/maize-corn-ds/MAIZE/images/train/ID_83099eec.jpg'\n",
      "\u001b[34m\u001b[1mtrain: \u001b[0m/kaggle/input/maize-corn-ds/MAIZE/images/train/ID_8379e1bb.jpg: ignoring corrupt image/label: [Errno 30] Read-only file system: '/kaggle/input/maize-corn-ds/MAIZE/images/train/ID_8379e1bb.jpg'\n",
      "\u001b[34m\u001b[1mtrain: \u001b[0m/kaggle/input/maize-corn-ds/MAIZE/images/train/ID_83a92466.jpg: ignoring corrupt image/label: [Errno 30] Read-only file system: '/kaggle/input/maize-corn-ds/MAIZE/images/train/ID_83a92466.jpg'\n",
      "\u001b[34m\u001b[1mtrain: \u001b[0m/kaggle/input/maize-corn-ds/MAIZE/images/train/ID_842d673b.jpg: ignoring corrupt image/label: [Errno 30] Read-only file system: '/kaggle/input/maize-corn-ds/MAIZE/images/train/ID_842d673b.jpg'\n",
      "\u001b[34m\u001b[1mtrain: \u001b[0m/kaggle/input/maize-corn-ds/MAIZE/images/train/ID_8455becd.jpg: ignoring corrupt image/label: [Errno 30] Read-only file system: '/kaggle/input/maize-corn-ds/MAIZE/images/train/ID_8455becd.jpg'\n",
      "\u001b[34m\u001b[1mtrain: \u001b[0m/kaggle/input/maize-corn-ds/MAIZE/images/train/ID_85cf7dc1.jpg: ignoring corrupt image/label: [Errno 30] Read-only file system: '/kaggle/input/maize-corn-ds/MAIZE/images/train/ID_85cf7dc1.jpg'\n",
      "\u001b[34m\u001b[1mtrain: \u001b[0m/kaggle/input/maize-corn-ds/MAIZE/images/train/ID_8931bb9e.jpg: ignoring corrupt image/label: [Errno 30] Read-only file system: '/kaggle/input/maize-corn-ds/MAIZE/images/train/ID_8931bb9e.jpg'\n",
      "\u001b[34m\u001b[1mtrain: \u001b[0m/kaggle/input/maize-corn-ds/MAIZE/images/train/ID_8978002b.jpg: ignoring corrupt image/label: [Errno 30] Read-only file system: '/kaggle/input/maize-corn-ds/MAIZE/images/train/ID_8978002b.jpg'\n",
      "\u001b[34m\u001b[1mtrain: \u001b[0m/kaggle/input/maize-corn-ds/MAIZE/images/train/ID_89f418f2.jpg: ignoring corrupt image/label: [Errno 30] Read-only file system: '/kaggle/input/maize-corn-ds/MAIZE/images/train/ID_89f418f2.jpg'\n",
      "\u001b[34m\u001b[1mtrain: \u001b[0m/kaggle/input/maize-corn-ds/MAIZE/images/train/ID_8acf142c.jpg: ignoring corrupt image/label: [Errno 30] Read-only file system: '/kaggle/input/maize-corn-ds/MAIZE/images/train/ID_8acf142c.jpg'\n",
      "\u001b[34m\u001b[1mtrain: \u001b[0m/kaggle/input/maize-corn-ds/MAIZE/images/train/ID_8af80734.jpg: ignoring corrupt image/label: [Errno 30] Read-only file system: '/kaggle/input/maize-corn-ds/MAIZE/images/train/ID_8af80734.jpg'\n",
      "\u001b[34m\u001b[1mtrain: \u001b[0m/kaggle/input/maize-corn-ds/MAIZE/images/train/ID_8cd02806.jpg: ignoring corrupt image/label: [Errno 30] Read-only file system: '/kaggle/input/maize-corn-ds/MAIZE/images/train/ID_8cd02806.jpg'\n",
      "\u001b[34m\u001b[1mtrain: \u001b[0m/kaggle/input/maize-corn-ds/MAIZE/images/train/ID_8f1ac6ce.jpg: ignoring corrupt image/label: [Errno 30] Read-only file system: '/kaggle/input/maize-corn-ds/MAIZE/images/train/ID_8f1ac6ce.jpg'\n",
      "\u001b[34m\u001b[1mtrain: \u001b[0m/kaggle/input/maize-corn-ds/MAIZE/images/train/ID_916d2fe5.jpg: ignoring corrupt image/label: [Errno 30] Read-only file system: '/kaggle/input/maize-corn-ds/MAIZE/images/train/ID_916d2fe5.jpg'\n",
      "\u001b[34m\u001b[1mtrain: \u001b[0m/kaggle/input/maize-corn-ds/MAIZE/images/train/ID_917789b5.jpg: ignoring corrupt image/label: [Errno 30] Read-only file system: '/kaggle/input/maize-corn-ds/MAIZE/images/train/ID_917789b5.jpg'\n",
      "\u001b[34m\u001b[1mtrain: \u001b[0m/kaggle/input/maize-corn-ds/MAIZE/images/train/ID_946716fb.jpg: ignoring corrupt image/label: [Errno 30] Read-only file system: '/kaggle/input/maize-corn-ds/MAIZE/images/train/ID_946716fb.jpg'\n",
      "\u001b[34m\u001b[1mtrain: \u001b[0m/kaggle/input/maize-corn-ds/MAIZE/images/train/ID_961ad158.jpg: ignoring corrupt image/label: [Errno 30] Read-only file system: '/kaggle/input/maize-corn-ds/MAIZE/images/train/ID_961ad158.jpg'\n",
      "\u001b[34m\u001b[1mtrain: \u001b[0m/kaggle/input/maize-corn-ds/MAIZE/images/train/ID_9865509d.jpg: ignoring corrupt image/label: [Errno 30] Read-only file system: '/kaggle/input/maize-corn-ds/MAIZE/images/train/ID_9865509d.jpg'\n",
      "\u001b[34m\u001b[1mtrain: \u001b[0m/kaggle/input/maize-corn-ds/MAIZE/images/train/ID_989942e5.jpg: ignoring corrupt image/label: [Errno 30] Read-only file system: '/kaggle/input/maize-corn-ds/MAIZE/images/train/ID_989942e5.jpg'\n",
      "\u001b[34m\u001b[1mtrain: \u001b[0m/kaggle/input/maize-corn-ds/MAIZE/images/train/ID_9903b6dd.jpg: ignoring corrupt image/label: [Errno 30] Read-only file system: '/kaggle/input/maize-corn-ds/MAIZE/images/train/ID_9903b6dd.jpg'\n",
      "\u001b[34m\u001b[1mtrain: \u001b[0m/kaggle/input/maize-corn-ds/MAIZE/images/train/ID_9b2f7464.jpg: ignoring corrupt image/label: [Errno 30] Read-only file system: '/kaggle/input/maize-corn-ds/MAIZE/images/train/ID_9b2f7464.jpg'\n",
      "\u001b[34m\u001b[1mtrain: \u001b[0m/kaggle/input/maize-corn-ds/MAIZE/images/train/ID_9f1fb474.jpg: ignoring corrupt image/label: [Errno 30] Read-only file system: '/kaggle/input/maize-corn-ds/MAIZE/images/train/ID_9f1fb474.jpg'\n",
      "\u001b[34m\u001b[1mtrain: \u001b[0m/kaggle/input/maize-corn-ds/MAIZE/images/train/ID_9f4f3cee.jpg: ignoring corrupt image/label: [Errno 30] Read-only file system: '/kaggle/input/maize-corn-ds/MAIZE/images/train/ID_9f4f3cee.jpg'\n",
      "\u001b[34m\u001b[1mtrain: \u001b[0m/kaggle/input/maize-corn-ds/MAIZE/images/train/ID_a01d52a6.jpg: ignoring corrupt image/label: [Errno 30] Read-only file system: '/kaggle/input/maize-corn-ds/MAIZE/images/train/ID_a01d52a6.jpg'\n",
      "\u001b[34m\u001b[1mtrain: \u001b[0m/kaggle/input/maize-corn-ds/MAIZE/images/train/ID_a0bbd5a1.jpg: ignoring corrupt image/label: [Errno 30] Read-only file system: '/kaggle/input/maize-corn-ds/MAIZE/images/train/ID_a0bbd5a1.jpg'\n",
      "\u001b[34m\u001b[1mtrain: \u001b[0m/kaggle/input/maize-corn-ds/MAIZE/images/train/ID_a12f6464.jpg: ignoring corrupt image/label: [Errno 30] Read-only file system: '/kaggle/input/maize-corn-ds/MAIZE/images/train/ID_a12f6464.jpg'\n",
      "\u001b[34m\u001b[1mtrain: \u001b[0m/kaggle/input/maize-corn-ds/MAIZE/images/train/ID_a32bf5e7.jpg: ignoring corrupt image/label: [Errno 30] Read-only file system: '/kaggle/input/maize-corn-ds/MAIZE/images/train/ID_a32bf5e7.jpg'\n",
      "\u001b[34m\u001b[1mtrain: \u001b[0m/kaggle/input/maize-corn-ds/MAIZE/images/train/ID_a4bd024b.jpg: ignoring corrupt image/label: [Errno 30] Read-only file system: '/kaggle/input/maize-corn-ds/MAIZE/images/train/ID_a4bd024b.jpg'\n",
      "\u001b[34m\u001b[1mtrain: \u001b[0m/kaggle/input/maize-corn-ds/MAIZE/images/train/ID_a4d9b1eb.jpg: ignoring corrupt image/label: [Errno 30] Read-only file system: '/kaggle/input/maize-corn-ds/MAIZE/images/train/ID_a4d9b1eb.jpg'\n",
      "\u001b[34m\u001b[1mtrain: \u001b[0m/kaggle/input/maize-corn-ds/MAIZE/images/train/ID_a5492b85.jpg: ignoring corrupt image/label: [Errno 30] Read-only file system: '/kaggle/input/maize-corn-ds/MAIZE/images/train/ID_a5492b85.jpg'\n",
      "\u001b[34m\u001b[1mtrain: \u001b[0m/kaggle/input/maize-corn-ds/MAIZE/images/train/ID_a5f9b185.jpg: ignoring corrupt image/label: [Errno 30] Read-only file system: '/kaggle/input/maize-corn-ds/MAIZE/images/train/ID_a5f9b185.jpg'\n",
      "\u001b[34m\u001b[1mtrain: \u001b[0m/kaggle/input/maize-corn-ds/MAIZE/images/train/ID_a7a9c841.jpg: ignoring corrupt image/label: [Errno 30] Read-only file system: '/kaggle/input/maize-corn-ds/MAIZE/images/train/ID_a7a9c841.jpg'\n",
      "\u001b[34m\u001b[1mtrain: \u001b[0m/kaggle/input/maize-corn-ds/MAIZE/images/train/ID_a7c7adfb.jpg: ignoring corrupt image/label: [Errno 30] Read-only file system: '/kaggle/input/maize-corn-ds/MAIZE/images/train/ID_a7c7adfb.jpg'\n",
      "\u001b[34m\u001b[1mtrain: \u001b[0m/kaggle/input/maize-corn-ds/MAIZE/images/train/ID_a86202d7.jpg: ignoring corrupt image/label: [Errno 30] Read-only file system: '/kaggle/input/maize-corn-ds/MAIZE/images/train/ID_a86202d7.jpg'\n",
      "\u001b[34m\u001b[1mtrain: \u001b[0m/kaggle/input/maize-corn-ds/MAIZE/images/train/ID_a9c52969.jpg: ignoring corrupt image/label: [Errno 30] Read-only file system: '/kaggle/input/maize-corn-ds/MAIZE/images/train/ID_a9c52969.jpg'\n",
      "\u001b[34m\u001b[1mtrain: \u001b[0m/kaggle/input/maize-corn-ds/MAIZE/images/train/ID_aa840a30.jpg: ignoring corrupt image/label: [Errno 30] Read-only file system: '/kaggle/input/maize-corn-ds/MAIZE/images/train/ID_aa840a30.jpg'\n",
      "\u001b[34m\u001b[1mtrain: \u001b[0m/kaggle/input/maize-corn-ds/MAIZE/images/train/ID_aaa0cb69.jpg: ignoring corrupt image/label: [Errno 30] Read-only file system: '/kaggle/input/maize-corn-ds/MAIZE/images/train/ID_aaa0cb69.jpg'\n",
      "\u001b[34m\u001b[1mtrain: \u001b[0m/kaggle/input/maize-corn-ds/MAIZE/images/train/ID_aabbbe18.jpg: ignoring corrupt image/label: [Errno 30] Read-only file system: '/kaggle/input/maize-corn-ds/MAIZE/images/train/ID_aabbbe18.jpg'\n",
      "\u001b[34m\u001b[1mtrain: \u001b[0m/kaggle/input/maize-corn-ds/MAIZE/images/train/ID_aac362db.jpg: ignoring corrupt image/label: [Errno 30] Read-only file system: '/kaggle/input/maize-corn-ds/MAIZE/images/train/ID_aac362db.jpg'\n",
      "\u001b[34m\u001b[1mtrain: \u001b[0m/kaggle/input/maize-corn-ds/MAIZE/images/train/ID_ac3cc079.jpg: ignoring corrupt image/label: [Errno 30] Read-only file system: '/kaggle/input/maize-corn-ds/MAIZE/images/train/ID_ac3cc079.jpg'\n",
      "\u001b[34m\u001b[1mtrain: \u001b[0m/kaggle/input/maize-corn-ds/MAIZE/images/train/ID_ac47b57b.jpg: ignoring corrupt image/label: [Errno 30] Read-only file system: '/kaggle/input/maize-corn-ds/MAIZE/images/train/ID_ac47b57b.jpg'\n",
      "\u001b[34m\u001b[1mtrain: \u001b[0m/kaggle/input/maize-corn-ds/MAIZE/images/train/ID_ac6f7128.jpg: ignoring corrupt image/label: [Errno 30] Read-only file system: '/kaggle/input/maize-corn-ds/MAIZE/images/train/ID_ac6f7128.jpg'\n",
      "\u001b[34m\u001b[1mtrain: \u001b[0m/kaggle/input/maize-corn-ds/MAIZE/images/train/ID_ac963edf.jpg: ignoring corrupt image/label: [Errno 30] Read-only file system: '/kaggle/input/maize-corn-ds/MAIZE/images/train/ID_ac963edf.jpg'\n",
      "\u001b[34m\u001b[1mtrain: \u001b[0m/kaggle/input/maize-corn-ds/MAIZE/images/train/ID_acdca151.jpg: ignoring corrupt image/label: [Errno 30] Read-only file system: '/kaggle/input/maize-corn-ds/MAIZE/images/train/ID_acdca151.jpg'\n",
      "\u001b[34m\u001b[1mtrain: \u001b[0m/kaggle/input/maize-corn-ds/MAIZE/images/train/ID_aced660a.jpg: ignoring corrupt image/label: [Errno 30] Read-only file system: '/kaggle/input/maize-corn-ds/MAIZE/images/train/ID_aced660a.jpg'\n",
      "\u001b[34m\u001b[1mtrain: \u001b[0m/kaggle/input/maize-corn-ds/MAIZE/images/train/ID_acfd407e.jpg: ignoring corrupt image/label: [Errno 30] Read-only file system: '/kaggle/input/maize-corn-ds/MAIZE/images/train/ID_acfd407e.jpg'\n",
      "\u001b[34m\u001b[1mtrain: \u001b[0m/kaggle/input/maize-corn-ds/MAIZE/images/train/ID_ad32775c.jpg: ignoring corrupt image/label: [Errno 30] Read-only file system: '/kaggle/input/maize-corn-ds/MAIZE/images/train/ID_ad32775c.jpg'\n",
      "\u001b[34m\u001b[1mtrain: \u001b[0m/kaggle/input/maize-corn-ds/MAIZE/images/train/ID_ad9cc75d.jpg: ignoring corrupt image/label: [Errno 30] Read-only file system: '/kaggle/input/maize-corn-ds/MAIZE/images/train/ID_ad9cc75d.jpg'\n",
      "\u001b[34m\u001b[1mtrain: \u001b[0m/kaggle/input/maize-corn-ds/MAIZE/images/train/ID_aea5866d.jpg: ignoring corrupt image/label: [Errno 30] Read-only file system: '/kaggle/input/maize-corn-ds/MAIZE/images/train/ID_aea5866d.jpg'\n",
      "\u001b[34m\u001b[1mtrain: \u001b[0m/kaggle/input/maize-corn-ds/MAIZE/images/train/ID_b0659da4.jpg: ignoring corrupt image/label: [Errno 30] Read-only file system: '/kaggle/input/maize-corn-ds/MAIZE/images/train/ID_b0659da4.jpg'\n",
      "\u001b[34m\u001b[1mtrain: \u001b[0m/kaggle/input/maize-corn-ds/MAIZE/images/train/ID_b0a46d86.jpg: ignoring corrupt image/label: [Errno 30] Read-only file system: '/kaggle/input/maize-corn-ds/MAIZE/images/train/ID_b0a46d86.jpg'\n",
      "\u001b[34m\u001b[1mtrain: \u001b[0m/kaggle/input/maize-corn-ds/MAIZE/images/train/ID_b210877e.jpg: ignoring corrupt image/label: [Errno 30] Read-only file system: '/kaggle/input/maize-corn-ds/MAIZE/images/train/ID_b210877e.jpg'\n",
      "\u001b[34m\u001b[1mtrain: \u001b[0m/kaggle/input/maize-corn-ds/MAIZE/images/train/ID_b459c89f.jpg: ignoring corrupt image/label: [Errno 30] Read-only file system: '/kaggle/input/maize-corn-ds/MAIZE/images/train/ID_b459c89f.jpg'\n",
      "\u001b[34m\u001b[1mtrain: \u001b[0m/kaggle/input/maize-corn-ds/MAIZE/images/train/ID_b45d1dc5.jpg: ignoring corrupt image/label: [Errno 30] Read-only file system: '/kaggle/input/maize-corn-ds/MAIZE/images/train/ID_b45d1dc5.jpg'\n",
      "\u001b[34m\u001b[1mtrain: \u001b[0m/kaggle/input/maize-corn-ds/MAIZE/images/train/ID_b5051056.jpg: ignoring corrupt image/label: [Errno 30] Read-only file system: '/kaggle/input/maize-corn-ds/MAIZE/images/train/ID_b5051056.jpg'\n",
      "\u001b[34m\u001b[1mtrain: \u001b[0m/kaggle/input/maize-corn-ds/MAIZE/images/train/ID_b5136cec.jpg: ignoring corrupt image/label: [Errno 30] Read-only file system: '/kaggle/input/maize-corn-ds/MAIZE/images/train/ID_b5136cec.jpg'\n",
      "\u001b[34m\u001b[1mtrain: \u001b[0m/kaggle/input/maize-corn-ds/MAIZE/images/train/ID_b58bf504.jpg: ignoring corrupt image/label: [Errno 30] Read-only file system: '/kaggle/input/maize-corn-ds/MAIZE/images/train/ID_b58bf504.jpg'\n",
      "\u001b[34m\u001b[1mtrain: \u001b[0m/kaggle/input/maize-corn-ds/MAIZE/images/train/ID_b5ebb391.jpg: ignoring corrupt image/label: [Errno 30] Read-only file system: '/kaggle/input/maize-corn-ds/MAIZE/images/train/ID_b5ebb391.jpg'\n",
      "\u001b[34m\u001b[1mtrain: \u001b[0m/kaggle/input/maize-corn-ds/MAIZE/images/train/ID_b62945ff.jpg: ignoring corrupt image/label: [Errno 30] Read-only file system: '/kaggle/input/maize-corn-ds/MAIZE/images/train/ID_b62945ff.jpg'\n",
      "\u001b[34m\u001b[1mtrain: \u001b[0m/kaggle/input/maize-corn-ds/MAIZE/images/train/ID_b6529fad.jpg: ignoring corrupt image/label: [Errno 30] Read-only file system: '/kaggle/input/maize-corn-ds/MAIZE/images/train/ID_b6529fad.jpg'\n",
      "\u001b[34m\u001b[1mtrain: \u001b[0m/kaggle/input/maize-corn-ds/MAIZE/images/train/ID_b69d02b2.jpg: ignoring corrupt image/label: [Errno 30] Read-only file system: '/kaggle/input/maize-corn-ds/MAIZE/images/train/ID_b69d02b2.jpg'\n",
      "\u001b[34m\u001b[1mtrain: \u001b[0m/kaggle/input/maize-corn-ds/MAIZE/images/train/ID_b6dff55c.jpg: ignoring corrupt image/label: [Errno 30] Read-only file system: '/kaggle/input/maize-corn-ds/MAIZE/images/train/ID_b6dff55c.jpg'\n",
      "\u001b[34m\u001b[1mtrain: \u001b[0m/kaggle/input/maize-corn-ds/MAIZE/images/train/ID_b76fc7b6.jpg: ignoring corrupt image/label: [Errno 30] Read-only file system: '/kaggle/input/maize-corn-ds/MAIZE/images/train/ID_b76fc7b6.jpg'\n",
      "\u001b[34m\u001b[1mtrain: \u001b[0m/kaggle/input/maize-corn-ds/MAIZE/images/train/ID_b860e630.jpg: ignoring corrupt image/label: [Errno 30] Read-only file system: '/kaggle/input/maize-corn-ds/MAIZE/images/train/ID_b860e630.jpg'\n",
      "\u001b[34m\u001b[1mtrain: \u001b[0m/kaggle/input/maize-corn-ds/MAIZE/images/train/ID_b8a4e202.jpg: ignoring corrupt image/label: [Errno 30] Read-only file system: '/kaggle/input/maize-corn-ds/MAIZE/images/train/ID_b8a4e202.jpg'\n",
      "\u001b[34m\u001b[1mtrain: \u001b[0m/kaggle/input/maize-corn-ds/MAIZE/images/train/ID_b9054c1b.jpg: ignoring corrupt image/label: [Errno 30] Read-only file system: '/kaggle/input/maize-corn-ds/MAIZE/images/train/ID_b9054c1b.jpg'\n",
      "\u001b[34m\u001b[1mtrain: \u001b[0m/kaggle/input/maize-corn-ds/MAIZE/images/train/ID_b929aacd.jpg: ignoring corrupt image/label: [Errno 30] Read-only file system: '/kaggle/input/maize-corn-ds/MAIZE/images/train/ID_b929aacd.jpg'\n",
      "\u001b[34m\u001b[1mtrain: \u001b[0m/kaggle/input/maize-corn-ds/MAIZE/images/train/ID_b9bd35a0.jpg: ignoring corrupt image/label: [Errno 30] Read-only file system: '/kaggle/input/maize-corn-ds/MAIZE/images/train/ID_b9bd35a0.jpg'\n",
      "\u001b[34m\u001b[1mtrain: \u001b[0m/kaggle/input/maize-corn-ds/MAIZE/images/train/ID_ba506cda.jpg: ignoring corrupt image/label: [Errno 30] Read-only file system: '/kaggle/input/maize-corn-ds/MAIZE/images/train/ID_ba506cda.jpg'\n",
      "\u001b[34m\u001b[1mtrain: \u001b[0m/kaggle/input/maize-corn-ds/MAIZE/images/train/ID_ba5bd2b2.jpg: ignoring corrupt image/label: [Errno 30] Read-only file system: '/kaggle/input/maize-corn-ds/MAIZE/images/train/ID_ba5bd2b2.jpg'\n",
      "\u001b[34m\u001b[1mtrain: \u001b[0m/kaggle/input/maize-corn-ds/MAIZE/images/train/ID_ba62da39.jpg: ignoring corrupt image/label: [Errno 30] Read-only file system: '/kaggle/input/maize-corn-ds/MAIZE/images/train/ID_ba62da39.jpg'\n",
      "\u001b[34m\u001b[1mtrain: \u001b[0m/kaggle/input/maize-corn-ds/MAIZE/images/train/ID_bb30b66d.jpg: ignoring corrupt image/label: [Errno 30] Read-only file system: '/kaggle/input/maize-corn-ds/MAIZE/images/train/ID_bb30b66d.jpg'\n",
      "\u001b[34m\u001b[1mtrain: \u001b[0m/kaggle/input/maize-corn-ds/MAIZE/images/train/ID_bcab2753.jpg: ignoring corrupt image/label: [Errno 30] Read-only file system: '/kaggle/input/maize-corn-ds/MAIZE/images/train/ID_bcab2753.jpg'\n",
      "\u001b[34m\u001b[1mtrain: \u001b[0m/kaggle/input/maize-corn-ds/MAIZE/images/train/ID_bdbf1b40.jpg: ignoring corrupt image/label: [Errno 30] Read-only file system: '/kaggle/input/maize-corn-ds/MAIZE/images/train/ID_bdbf1b40.jpg'\n",
      "\u001b[34m\u001b[1mtrain: \u001b[0m/kaggle/input/maize-corn-ds/MAIZE/images/train/ID_c09ffcd8.jpg: ignoring corrupt image/label: [Errno 30] Read-only file system: '/kaggle/input/maize-corn-ds/MAIZE/images/train/ID_c09ffcd8.jpg'\n",
      "\u001b[34m\u001b[1mtrain: \u001b[0m/kaggle/input/maize-corn-ds/MAIZE/images/train/ID_c2c45248.jpg: ignoring corrupt image/label: [Errno 30] Read-only file system: '/kaggle/input/maize-corn-ds/MAIZE/images/train/ID_c2c45248.jpg'\n",
      "\u001b[34m\u001b[1mtrain: \u001b[0m/kaggle/input/maize-corn-ds/MAIZE/images/train/ID_c2d868af.jpg: ignoring corrupt image/label: [Errno 30] Read-only file system: '/kaggle/input/maize-corn-ds/MAIZE/images/train/ID_c2d868af.jpg'\n",
      "\u001b[34m\u001b[1mtrain: \u001b[0m/kaggle/input/maize-corn-ds/MAIZE/images/train/ID_c3845996.jpg: ignoring corrupt image/label: [Errno 30] Read-only file system: '/kaggle/input/maize-corn-ds/MAIZE/images/train/ID_c3845996.jpg'\n",
      "\u001b[34m\u001b[1mtrain: \u001b[0m/kaggle/input/maize-corn-ds/MAIZE/images/train/ID_c3df64e7.jpg: ignoring corrupt image/label: [Errno 30] Read-only file system: '/kaggle/input/maize-corn-ds/MAIZE/images/train/ID_c3df64e7.jpg'\n",
      "\u001b[34m\u001b[1mtrain: \u001b[0m/kaggle/input/maize-corn-ds/MAIZE/images/train/ID_c6d7a4c8.jpg: ignoring corrupt image/label: [Errno 30] Read-only file system: '/kaggle/input/maize-corn-ds/MAIZE/images/train/ID_c6d7a4c8.jpg'\n",
      "\u001b[34m\u001b[1mtrain: \u001b[0m/kaggle/input/maize-corn-ds/MAIZE/images/train/ID_c71a89e8.jpg: ignoring corrupt image/label: [Errno 30] Read-only file system: '/kaggle/input/maize-corn-ds/MAIZE/images/train/ID_c71a89e8.jpg'\n",
      "\u001b[34m\u001b[1mtrain: \u001b[0m/kaggle/input/maize-corn-ds/MAIZE/images/train/ID_c76f4332.jpg: ignoring corrupt image/label: [Errno 30] Read-only file system: '/kaggle/input/maize-corn-ds/MAIZE/images/train/ID_c76f4332.jpg'\n",
      "\u001b[34m\u001b[1mtrain: \u001b[0m/kaggle/input/maize-corn-ds/MAIZE/images/train/ID_c7d7148f.jpg: ignoring corrupt image/label: [Errno 30] Read-only file system: '/kaggle/input/maize-corn-ds/MAIZE/images/train/ID_c7d7148f.jpg'\n",
      "\u001b[34m\u001b[1mtrain: \u001b[0m/kaggle/input/maize-corn-ds/MAIZE/images/train/ID_c82e0d1a.jpg: ignoring corrupt image/label: [Errno 30] Read-only file system: '/kaggle/input/maize-corn-ds/MAIZE/images/train/ID_c82e0d1a.jpg'\n",
      "\u001b[34m\u001b[1mtrain: \u001b[0m/kaggle/input/maize-corn-ds/MAIZE/images/train/ID_c95e0cbe.jpg: ignoring corrupt image/label: [Errno 30] Read-only file system: '/kaggle/input/maize-corn-ds/MAIZE/images/train/ID_c95e0cbe.jpg'\n",
      "\u001b[34m\u001b[1mtrain: \u001b[0m/kaggle/input/maize-corn-ds/MAIZE/images/train/ID_ca873ae9.jpg: ignoring corrupt image/label: [Errno 30] Read-only file system: '/kaggle/input/maize-corn-ds/MAIZE/images/train/ID_ca873ae9.jpg'\n",
      "\u001b[34m\u001b[1mtrain: \u001b[0m/kaggle/input/maize-corn-ds/MAIZE/images/train/ID_cc28940c.jpg: ignoring corrupt image/label: [Errno 30] Read-only file system: '/kaggle/input/maize-corn-ds/MAIZE/images/train/ID_cc28940c.jpg'\n",
      "\u001b[34m\u001b[1mtrain: \u001b[0m/kaggle/input/maize-corn-ds/MAIZE/images/train/ID_cc9abef8.jpg: ignoring corrupt image/label: [Errno 30] Read-only file system: '/kaggle/input/maize-corn-ds/MAIZE/images/train/ID_cc9abef8.jpg'\n",
      "\u001b[34m\u001b[1mtrain: \u001b[0m/kaggle/input/maize-corn-ds/MAIZE/images/train/ID_cccee0ba.jpg: ignoring corrupt image/label: [Errno 30] Read-only file system: '/kaggle/input/maize-corn-ds/MAIZE/images/train/ID_cccee0ba.jpg'\n",
      "\u001b[34m\u001b[1mtrain: \u001b[0m/kaggle/input/maize-corn-ds/MAIZE/images/train/ID_cd68005c.jpg: ignoring corrupt image/label: [Errno 30] Read-only file system: '/kaggle/input/maize-corn-ds/MAIZE/images/train/ID_cd68005c.jpg'\n",
      "\u001b[34m\u001b[1mtrain: \u001b[0m/kaggle/input/maize-corn-ds/MAIZE/images/train/ID_cde41b21.jpg: ignoring corrupt image/label: [Errno 30] Read-only file system: '/kaggle/input/maize-corn-ds/MAIZE/images/train/ID_cde41b21.jpg'\n",
      "\u001b[34m\u001b[1mtrain: \u001b[0m/kaggle/input/maize-corn-ds/MAIZE/images/train/ID_cedd51d9.jpg: ignoring corrupt image/label: [Errno 30] Read-only file system: '/kaggle/input/maize-corn-ds/MAIZE/images/train/ID_cedd51d9.jpg'\n",
      "\u001b[34m\u001b[1mtrain: \u001b[0m/kaggle/input/maize-corn-ds/MAIZE/images/train/ID_cf449594.jpg: ignoring corrupt image/label: [Errno 30] Read-only file system: '/kaggle/input/maize-corn-ds/MAIZE/images/train/ID_cf449594.jpg'\n",
      "\u001b[34m\u001b[1mtrain: \u001b[0m/kaggle/input/maize-corn-ds/MAIZE/images/train/ID_cf5d2314.jpg: ignoring corrupt image/label: [Errno 30] Read-only file system: '/kaggle/input/maize-corn-ds/MAIZE/images/train/ID_cf5d2314.jpg'\n",
      "\u001b[34m\u001b[1mtrain: \u001b[0m/kaggle/input/maize-corn-ds/MAIZE/images/train/ID_cf92d67b.jpg: ignoring corrupt image/label: [Errno 30] Read-only file system: '/kaggle/input/maize-corn-ds/MAIZE/images/train/ID_cf92d67b.jpg'\n",
      "\u001b[34m\u001b[1mtrain: \u001b[0m/kaggle/input/maize-corn-ds/MAIZE/images/train/ID_cfb5fee0.jpg: ignoring corrupt image/label: [Errno 30] Read-only file system: '/kaggle/input/maize-corn-ds/MAIZE/images/train/ID_cfb5fee0.jpg'\n",
      "\u001b[34m\u001b[1mtrain: \u001b[0m/kaggle/input/maize-corn-ds/MAIZE/images/train/ID_d11fc2e6.jpg: ignoring corrupt image/label: [Errno 30] Read-only file system: '/kaggle/input/maize-corn-ds/MAIZE/images/train/ID_d11fc2e6.jpg'\n",
      "\u001b[34m\u001b[1mtrain: \u001b[0m/kaggle/input/maize-corn-ds/MAIZE/images/train/ID_d29dd6e5.jpg: ignoring corrupt image/label: [Errno 30] Read-only file system: '/kaggle/input/maize-corn-ds/MAIZE/images/train/ID_d29dd6e5.jpg'\n",
      "\u001b[34m\u001b[1mtrain: \u001b[0m/kaggle/input/maize-corn-ds/MAIZE/images/train/ID_d2aa7d9e.jpg: ignoring corrupt image/label: [Errno 30] Read-only file system: '/kaggle/input/maize-corn-ds/MAIZE/images/train/ID_d2aa7d9e.jpg'\n",
      "\u001b[34m\u001b[1mtrain: \u001b[0m/kaggle/input/maize-corn-ds/MAIZE/images/train/ID_d342f7a2.jpg: ignoring corrupt image/label: [Errno 30] Read-only file system: '/kaggle/input/maize-corn-ds/MAIZE/images/train/ID_d342f7a2.jpg'\n",
      "\u001b[34m\u001b[1mtrain: \u001b[0m/kaggle/input/maize-corn-ds/MAIZE/images/train/ID_d417b4fa.jpg: ignoring corrupt image/label: [Errno 30] Read-only file system: '/kaggle/input/maize-corn-ds/MAIZE/images/train/ID_d417b4fa.jpg'\n",
      "\u001b[34m\u001b[1mtrain: \u001b[0m/kaggle/input/maize-corn-ds/MAIZE/images/train/ID_d502f573.jpg: ignoring corrupt image/label: [Errno 30] Read-only file system: '/kaggle/input/maize-corn-ds/MAIZE/images/train/ID_d502f573.jpg'\n",
      "\u001b[34m\u001b[1mtrain: \u001b[0m/kaggle/input/maize-corn-ds/MAIZE/images/train/ID_d54253ab.jpg: ignoring corrupt image/label: [Errno 30] Read-only file system: '/kaggle/input/maize-corn-ds/MAIZE/images/train/ID_d54253ab.jpg'\n",
      "\u001b[34m\u001b[1mtrain: \u001b[0m/kaggle/input/maize-corn-ds/MAIZE/images/train/ID_d563d88f.jpg: ignoring corrupt image/label: [Errno 30] Read-only file system: '/kaggle/input/maize-corn-ds/MAIZE/images/train/ID_d563d88f.jpg'\n",
      "\u001b[34m\u001b[1mtrain: \u001b[0m/kaggle/input/maize-corn-ds/MAIZE/images/train/ID_d5d5fac5.jpg: ignoring corrupt image/label: [Errno 30] Read-only file system: '/kaggle/input/maize-corn-ds/MAIZE/images/train/ID_d5d5fac5.jpg'\n",
      "\u001b[34m\u001b[1mtrain: \u001b[0m/kaggle/input/maize-corn-ds/MAIZE/images/train/ID_d6053bf3.jpg: ignoring corrupt image/label: [Errno 30] Read-only file system: '/kaggle/input/maize-corn-ds/MAIZE/images/train/ID_d6053bf3.jpg'\n",
      "\u001b[34m\u001b[1mtrain: \u001b[0m/kaggle/input/maize-corn-ds/MAIZE/images/train/ID_d6077ccf.jpg: ignoring corrupt image/label: [Errno 30] Read-only file system: '/kaggle/input/maize-corn-ds/MAIZE/images/train/ID_d6077ccf.jpg'\n",
      "\u001b[34m\u001b[1mtrain: \u001b[0m/kaggle/input/maize-corn-ds/MAIZE/images/train/ID_d79d7a07.jpg: ignoring corrupt image/label: [Errno 30] Read-only file system: '/kaggle/input/maize-corn-ds/MAIZE/images/train/ID_d79d7a07.jpg'\n",
      "\u001b[34m\u001b[1mtrain: \u001b[0m/kaggle/input/maize-corn-ds/MAIZE/images/train/ID_d81b47af.jpg: ignoring corrupt image/label: [Errno 30] Read-only file system: '/kaggle/input/maize-corn-ds/MAIZE/images/train/ID_d81b47af.jpg'\n",
      "\u001b[34m\u001b[1mtrain: \u001b[0m/kaggle/input/maize-corn-ds/MAIZE/images/train/ID_d8b8305b.jpg: ignoring corrupt image/label: [Errno 30] Read-only file system: '/kaggle/input/maize-corn-ds/MAIZE/images/train/ID_d8b8305b.jpg'\n",
      "\u001b[34m\u001b[1mtrain: \u001b[0m/kaggle/input/maize-corn-ds/MAIZE/images/train/ID_d8c39934.jpg: ignoring corrupt image/label: [Errno 30] Read-only file system: '/kaggle/input/maize-corn-ds/MAIZE/images/train/ID_d8c39934.jpg'\n",
      "\u001b[34m\u001b[1mtrain: \u001b[0m/kaggle/input/maize-corn-ds/MAIZE/images/train/ID_d980abdd.jpg: ignoring corrupt image/label: [Errno 30] Read-only file system: '/kaggle/input/maize-corn-ds/MAIZE/images/train/ID_d980abdd.jpg'\n",
      "\u001b[34m\u001b[1mtrain: \u001b[0m/kaggle/input/maize-corn-ds/MAIZE/images/train/ID_d9b86db6.jpg: ignoring corrupt image/label: [Errno 30] Read-only file system: '/kaggle/input/maize-corn-ds/MAIZE/images/train/ID_d9b86db6.jpg'\n",
      "\u001b[34m\u001b[1mtrain: \u001b[0m/kaggle/input/maize-corn-ds/MAIZE/images/train/ID_da180156.jpg: ignoring corrupt image/label: [Errno 30] Read-only file system: '/kaggle/input/maize-corn-ds/MAIZE/images/train/ID_da180156.jpg'\n",
      "\u001b[34m\u001b[1mtrain: \u001b[0m/kaggle/input/maize-corn-ds/MAIZE/images/train/ID_dabdb448.jpg: ignoring corrupt image/label: [Errno 30] Read-only file system: '/kaggle/input/maize-corn-ds/MAIZE/images/train/ID_dabdb448.jpg'\n",
      "\u001b[34m\u001b[1mtrain: \u001b[0m/kaggle/input/maize-corn-ds/MAIZE/images/train/ID_dc053b28.jpg: ignoring corrupt image/label: [Errno 30] Read-only file system: '/kaggle/input/maize-corn-ds/MAIZE/images/train/ID_dc053b28.jpg'\n",
      "\u001b[34m\u001b[1mtrain: \u001b[0m/kaggle/input/maize-corn-ds/MAIZE/images/train/ID_dc15ff24.jpg: ignoring corrupt image/label: [Errno 30] Read-only file system: '/kaggle/input/maize-corn-ds/MAIZE/images/train/ID_dc15ff24.jpg'\n",
      "\u001b[34m\u001b[1mtrain: \u001b[0m/kaggle/input/maize-corn-ds/MAIZE/images/train/ID_ddbd640c.jpg: ignoring corrupt image/label: [Errno 30] Read-only file system: '/kaggle/input/maize-corn-ds/MAIZE/images/train/ID_ddbd640c.jpg'\n",
      "\u001b[34m\u001b[1mtrain: \u001b[0m/kaggle/input/maize-corn-ds/MAIZE/images/train/ID_df295232.jpg: ignoring corrupt image/label: [Errno 30] Read-only file system: '/kaggle/input/maize-corn-ds/MAIZE/images/train/ID_df295232.jpg'\n",
      "\u001b[34m\u001b[1mtrain: \u001b[0m/kaggle/input/maize-corn-ds/MAIZE/images/train/ID_df4581b5.jpg: ignoring corrupt image/label: [Errno 30] Read-only file system: '/kaggle/input/maize-corn-ds/MAIZE/images/train/ID_df4581b5.jpg'\n",
      "\u001b[34m\u001b[1mtrain: \u001b[0m/kaggle/input/maize-corn-ds/MAIZE/images/train/ID_df7ee0e0.jpg: ignoring corrupt image/label: [Errno 30] Read-only file system: '/kaggle/input/maize-corn-ds/MAIZE/images/train/ID_df7ee0e0.jpg'\n",
      "\u001b[34m\u001b[1mtrain: \u001b[0m/kaggle/input/maize-corn-ds/MAIZE/images/train/ID_dfd87964.jpg: ignoring corrupt image/label: [Errno 30] Read-only file system: '/kaggle/input/maize-corn-ds/MAIZE/images/train/ID_dfd87964.jpg'\n",
      "\u001b[34m\u001b[1mtrain: \u001b[0m/kaggle/input/maize-corn-ds/MAIZE/images/train/ID_e1632dc0.jpg: ignoring corrupt image/label: [Errno 30] Read-only file system: '/kaggle/input/maize-corn-ds/MAIZE/images/train/ID_e1632dc0.jpg'\n",
      "\u001b[34m\u001b[1mtrain: \u001b[0m/kaggle/input/maize-corn-ds/MAIZE/images/train/ID_e1e381c9.jpg: ignoring corrupt image/label: [Errno 30] Read-only file system: '/kaggle/input/maize-corn-ds/MAIZE/images/train/ID_e1e381c9.jpg'\n",
      "\u001b[34m\u001b[1mtrain: \u001b[0m/kaggle/input/maize-corn-ds/MAIZE/images/train/ID_e240d299.jpg: ignoring corrupt image/label: [Errno 30] Read-only file system: '/kaggle/input/maize-corn-ds/MAIZE/images/train/ID_e240d299.jpg'\n",
      "\u001b[34m\u001b[1mtrain: \u001b[0m/kaggle/input/maize-corn-ds/MAIZE/images/train/ID_e2460507.jpg: ignoring corrupt image/label: [Errno 30] Read-only file system: '/kaggle/input/maize-corn-ds/MAIZE/images/train/ID_e2460507.jpg'\n",
      "\u001b[34m\u001b[1mtrain: \u001b[0m/kaggle/input/maize-corn-ds/MAIZE/images/train/ID_e312a3d9.jpg: ignoring corrupt image/label: [Errno 30] Read-only file system: '/kaggle/input/maize-corn-ds/MAIZE/images/train/ID_e312a3d9.jpg'\n",
      "\u001b[34m\u001b[1mtrain: \u001b[0m/kaggle/input/maize-corn-ds/MAIZE/images/train/ID_e342aa54.jpg: ignoring corrupt image/label: [Errno 30] Read-only file system: '/kaggle/input/maize-corn-ds/MAIZE/images/train/ID_e342aa54.jpg'\n",
      "\u001b[34m\u001b[1mtrain: \u001b[0m/kaggle/input/maize-corn-ds/MAIZE/images/train/ID_e4279e18.jpg: ignoring corrupt image/label: [Errno 30] Read-only file system: '/kaggle/input/maize-corn-ds/MAIZE/images/train/ID_e4279e18.jpg'\n",
      "\u001b[34m\u001b[1mtrain: \u001b[0m/kaggle/input/maize-corn-ds/MAIZE/images/train/ID_e4d3fc84.jpg: ignoring corrupt image/label: [Errno 30] Read-only file system: '/kaggle/input/maize-corn-ds/MAIZE/images/train/ID_e4d3fc84.jpg'\n",
      "\u001b[34m\u001b[1mtrain: \u001b[0m/kaggle/input/maize-corn-ds/MAIZE/images/train/ID_e914a30a.jpg: ignoring corrupt image/label: [Errno 30] Read-only file system: '/kaggle/input/maize-corn-ds/MAIZE/images/train/ID_e914a30a.jpg'\n",
      "\u001b[34m\u001b[1mtrain: \u001b[0m/kaggle/input/maize-corn-ds/MAIZE/images/train/ID_e97917f7.jpg: ignoring corrupt image/label: [Errno 30] Read-only file system: '/kaggle/input/maize-corn-ds/MAIZE/images/train/ID_e97917f7.jpg'\n",
      "\u001b[34m\u001b[1mtrain: \u001b[0m/kaggle/input/maize-corn-ds/MAIZE/images/train/ID_ea0d065d.jpg: ignoring corrupt image/label: [Errno 30] Read-only file system: '/kaggle/input/maize-corn-ds/MAIZE/images/train/ID_ea0d065d.jpg'\n",
      "\u001b[34m\u001b[1mtrain: \u001b[0m/kaggle/input/maize-corn-ds/MAIZE/images/train/ID_ea98ea42.jpg: ignoring corrupt image/label: [Errno 30] Read-only file system: '/kaggle/input/maize-corn-ds/MAIZE/images/train/ID_ea98ea42.jpg'\n",
      "\u001b[34m\u001b[1mtrain: \u001b[0m/kaggle/input/maize-corn-ds/MAIZE/images/train/ID_eaaf8b57.jpg: ignoring corrupt image/label: [Errno 30] Read-only file system: '/kaggle/input/maize-corn-ds/MAIZE/images/train/ID_eaaf8b57.jpg'\n",
      "\u001b[34m\u001b[1mtrain: \u001b[0m/kaggle/input/maize-corn-ds/MAIZE/images/train/ID_eaed66e6.jpg: ignoring corrupt image/label: [Errno 30] Read-only file system: '/kaggle/input/maize-corn-ds/MAIZE/images/train/ID_eaed66e6.jpg'\n",
      "\u001b[34m\u001b[1mtrain: \u001b[0m/kaggle/input/maize-corn-ds/MAIZE/images/train/ID_ebd59234.jpg: ignoring corrupt image/label: [Errno 30] Read-only file system: '/kaggle/input/maize-corn-ds/MAIZE/images/train/ID_ebd59234.jpg'\n",
      "\u001b[34m\u001b[1mtrain: \u001b[0m/kaggle/input/maize-corn-ds/MAIZE/images/train/ID_ec308213.jpg: ignoring corrupt image/label: [Errno 30] Read-only file system: '/kaggle/input/maize-corn-ds/MAIZE/images/train/ID_ec308213.jpg'\n",
      "\u001b[34m\u001b[1mtrain: \u001b[0m/kaggle/input/maize-corn-ds/MAIZE/images/train/ID_ec4769b1.jpg: ignoring corrupt image/label: [Errno 30] Read-only file system: '/kaggle/input/maize-corn-ds/MAIZE/images/train/ID_ec4769b1.jpg'\n",
      "\u001b[34m\u001b[1mtrain: \u001b[0m/kaggle/input/maize-corn-ds/MAIZE/images/train/ID_ec70cb12.jpg: ignoring corrupt image/label: [Errno 30] Read-only file system: '/kaggle/input/maize-corn-ds/MAIZE/images/train/ID_ec70cb12.jpg'\n",
      "\u001b[34m\u001b[1mtrain: \u001b[0m/kaggle/input/maize-corn-ds/MAIZE/images/train/ID_ed0ff03b.jpg: ignoring corrupt image/label: [Errno 30] Read-only file system: '/kaggle/input/maize-corn-ds/MAIZE/images/train/ID_ed0ff03b.jpg'\n",
      "\u001b[34m\u001b[1mtrain: \u001b[0m/kaggle/input/maize-corn-ds/MAIZE/images/train/ID_edcf4484.jpg: ignoring corrupt image/label: [Errno 30] Read-only file system: '/kaggle/input/maize-corn-ds/MAIZE/images/train/ID_edcf4484.jpg'\n",
      "\u001b[34m\u001b[1mtrain: \u001b[0m/kaggle/input/maize-corn-ds/MAIZE/images/train/ID_eeca8fd0.jpg: ignoring corrupt image/label: [Errno 30] Read-only file system: '/kaggle/input/maize-corn-ds/MAIZE/images/train/ID_eeca8fd0.jpg'\n",
      "\u001b[34m\u001b[1mtrain: \u001b[0m/kaggle/input/maize-corn-ds/MAIZE/images/train/ID_ef2e238e.jpg: ignoring corrupt image/label: [Errno 30] Read-only file system: '/kaggle/input/maize-corn-ds/MAIZE/images/train/ID_ef2e238e.jpg'\n",
      "\u001b[34m\u001b[1mtrain: \u001b[0m/kaggle/input/maize-corn-ds/MAIZE/images/train/ID_f07589b2.jpg: ignoring corrupt image/label: [Errno 30] Read-only file system: '/kaggle/input/maize-corn-ds/MAIZE/images/train/ID_f07589b2.jpg'\n",
      "\u001b[34m\u001b[1mtrain: \u001b[0m/kaggle/input/maize-corn-ds/MAIZE/images/train/ID_f0e8a829.jpg: ignoring corrupt image/label: [Errno 30] Read-only file system: '/kaggle/input/maize-corn-ds/MAIZE/images/train/ID_f0e8a829.jpg'\n",
      "\u001b[34m\u001b[1mtrain: \u001b[0m/kaggle/input/maize-corn-ds/MAIZE/images/train/ID_f0f9ac30.jpg: ignoring corrupt image/label: [Errno 30] Read-only file system: '/kaggle/input/maize-corn-ds/MAIZE/images/train/ID_f0f9ac30.jpg'\n",
      "\u001b[34m\u001b[1mtrain: \u001b[0m/kaggle/input/maize-corn-ds/MAIZE/images/train/ID_f1b966ee.jpg: ignoring corrupt image/label: [Errno 30] Read-only file system: '/kaggle/input/maize-corn-ds/MAIZE/images/train/ID_f1b966ee.jpg'\n",
      "\u001b[34m\u001b[1mtrain: \u001b[0m/kaggle/input/maize-corn-ds/MAIZE/images/train/ID_f1c6f204.jpg: ignoring corrupt image/label: [Errno 30] Read-only file system: '/kaggle/input/maize-corn-ds/MAIZE/images/train/ID_f1c6f204.jpg'\n",
      "\u001b[34m\u001b[1mtrain: \u001b[0m/kaggle/input/maize-corn-ds/MAIZE/images/train/ID_f212a7c9.jpg: ignoring corrupt image/label: [Errno 30] Read-only file system: '/kaggle/input/maize-corn-ds/MAIZE/images/train/ID_f212a7c9.jpg'\n",
      "\u001b[34m\u001b[1mtrain: \u001b[0m/kaggle/input/maize-corn-ds/MAIZE/images/train/ID_f28a5a49.jpg: ignoring corrupt image/label: [Errno 30] Read-only file system: '/kaggle/input/maize-corn-ds/MAIZE/images/train/ID_f28a5a49.jpg'\n",
      "\u001b[34m\u001b[1mtrain: \u001b[0m/kaggle/input/maize-corn-ds/MAIZE/images/train/ID_f7dda0c7.jpg: ignoring corrupt image/label: [Errno 30] Read-only file system: '/kaggle/input/maize-corn-ds/MAIZE/images/train/ID_f7dda0c7.jpg'\n",
      "\u001b[34m\u001b[1mtrain: \u001b[0m/kaggle/input/maize-corn-ds/MAIZE/images/train/ID_f9018687.jpg: ignoring corrupt image/label: [Errno 30] Read-only file system: '/kaggle/input/maize-corn-ds/MAIZE/images/train/ID_f9018687.jpg'\n",
      "\u001b[34m\u001b[1mtrain: \u001b[0m/kaggle/input/maize-corn-ds/MAIZE/images/train/ID_f90ff1aa.jpg: ignoring corrupt image/label: [Errno 30] Read-only file system: '/kaggle/input/maize-corn-ds/MAIZE/images/train/ID_f90ff1aa.jpg'\n",
      "\u001b[34m\u001b[1mtrain: \u001b[0m/kaggle/input/maize-corn-ds/MAIZE/images/train/ID_f93707b0.jpg: ignoring corrupt image/label: [Errno 30] Read-only file system: '/kaggle/input/maize-corn-ds/MAIZE/images/train/ID_f93707b0.jpg'\n",
      "\u001b[34m\u001b[1mtrain: \u001b[0m/kaggle/input/maize-corn-ds/MAIZE/images/train/ID_fb7c8ca4.jpg: ignoring corrupt image/label: [Errno 30] Read-only file system: '/kaggle/input/maize-corn-ds/MAIZE/images/train/ID_fb7c8ca4.jpg'\n",
      "\u001b[34m\u001b[1mtrain: \u001b[0m/kaggle/input/maize-corn-ds/MAIZE/images/train/ID_fb9a689d.jpg: ignoring corrupt image/label: [Errno 30] Read-only file system: '/kaggle/input/maize-corn-ds/MAIZE/images/train/ID_fb9a689d.jpg'\n",
      "\u001b[34m\u001b[1mtrain: \u001b[0m/kaggle/input/maize-corn-ds/MAIZE/images/train/ID_fbeabbb2.jpg: ignoring corrupt image/label: [Errno 30] Read-only file system: '/kaggle/input/maize-corn-ds/MAIZE/images/train/ID_fbeabbb2.jpg'\n",
      "\u001b[34m\u001b[1mtrain: \u001b[0m/kaggle/input/maize-corn-ds/MAIZE/images/train/ID_fd3d664a.jpg: ignoring corrupt image/label: [Errno 30] Read-only file system: '/kaggle/input/maize-corn-ds/MAIZE/images/train/ID_fd3d664a.jpg'\n",
      "\u001b[34m\u001b[1mtrain: \u001b[0m/kaggle/input/maize-corn-ds/MAIZE/images/train/ID_ff38d025.jpg: ignoring corrupt image/label: [Errno 30] Read-only file system: '/kaggle/input/maize-corn-ds/MAIZE/images/train/ID_ff38d025.jpg'\n",
      "\u001b[34m\u001b[1mtrain: \u001b[0m/kaggle/input/maize-corn-ds/MAIZE/images/train/ID_ffb5729a.jpg: ignoring corrupt image/label: [Errno 30] Read-only file system: '/kaggle/input/maize-corn-ds/MAIZE/images/train/ID_ffb5729a.jpg'\n"
     ]
    },
    {
     "name": "stderr",
     "output_type": "stream",
     "text": [
      "\n"
     ]
    },
    {
     "name": "stdout",
     "output_type": "stream",
     "text": [
      "WARNING ⚠️ \u001b[34m\u001b[1mtrain: \u001b[0mCache directory /kaggle/input/maize-corn-ds/MAIZE/labels is not writeable, cache not saved.\n",
      "WARNING ⚠️ \u001b[34m\u001b[1mtrain: \u001b[0mSkipping caching images to disk, directory not writeable\n",
      "\u001b[34m\u001b[1malbumentations: \u001b[0mBlur(p=0.01, blur_limit=(3, 7)), MedianBlur(p=0.01, blur_limit=(3, 7)), ToGray(p=0.01, method='weighted_average', num_output_channels=3), CLAHE(p=0.01, clip_limit=(1.0, 4.0), tile_grid_size=(8, 8))\n",
      "\u001b[34m\u001b[1mval: \u001b[0mFast image access ✅ (ping: 0.0±0.0 ms, read: 818.4±1358.1 MB/s, size: 2116.7 KB)\n"
     ]
    },
    {
     "name": "stderr",
     "output_type": "stream",
     "text": [
      "\u001b[34m\u001b[1mval: \u001b[0mScanning /kaggle/working/labels/val... 3353 images, 0 backgrounds, 0 corrupt: 100%|██████████| 3353/3353 [00:11<00:00, 302.75it/s]"
     ]
    },
    {
     "name": "stdout",
     "output_type": "stream",
     "text": [
      "\u001b[34m\u001b[1mval: \u001b[0m/kaggle/working/images/val/ID_062c44a6.jpg: corrupt JPEG restored and saved\n",
      "\u001b[34m\u001b[1mval: \u001b[0m/kaggle/working/images/val/ID_0c45571d.jpg: corrupt JPEG restored and saved\n",
      "\u001b[34m\u001b[1mval: \u001b[0m/kaggle/working/images/val/ID_0cdb6f54.jpg: corrupt JPEG restored and saved\n",
      "\u001b[34m\u001b[1mval: \u001b[0m/kaggle/working/images/val/ID_137dbb0d.jpg: corrupt JPEG restored and saved\n",
      "\u001b[34m\u001b[1mval: \u001b[0m/kaggle/working/images/val/ID_15c3f851.jpg: corrupt JPEG restored and saved\n",
      "\u001b[34m\u001b[1mval: \u001b[0m/kaggle/working/images/val/ID_176cca37.jpg: corrupt JPEG restored and saved\n",
      "\u001b[34m\u001b[1mval: \u001b[0m/kaggle/working/images/val/ID_1a7fbf04.jpg: corrupt JPEG restored and saved\n",
      "\u001b[34m\u001b[1mval: \u001b[0m/kaggle/working/images/val/ID_2342e73a.jpg: corrupt JPEG restored and saved\n",
      "\u001b[34m\u001b[1mval: \u001b[0m/kaggle/working/images/val/ID_27f2124b.jpg: corrupt JPEG restored and saved\n",
      "\u001b[34m\u001b[1mval: \u001b[0m/kaggle/working/images/val/ID_2b384ea0.jpg: corrupt JPEG restored and saved\n",
      "\u001b[34m\u001b[1mval: \u001b[0m/kaggle/working/images/val/ID_31b7599f.jpg: corrupt JPEG restored and saved\n",
      "\u001b[34m\u001b[1mval: \u001b[0m/kaggle/working/images/val/ID_3bd4f327.jpg: corrupt JPEG restored and saved\n",
      "\u001b[34m\u001b[1mval: \u001b[0m/kaggle/working/images/val/ID_40780c61.jpg: corrupt JPEG restored and saved\n",
      "\u001b[34m\u001b[1mval: \u001b[0m/kaggle/working/images/val/ID_474a9d7b.jpg: corrupt JPEG restored and saved\n",
      "\u001b[34m\u001b[1mval: \u001b[0m/kaggle/working/images/val/ID_4c21d7de.jpg: corrupt JPEG restored and saved\n",
      "\u001b[34m\u001b[1mval: \u001b[0m/kaggle/working/images/val/ID_532261b6.jpg: corrupt JPEG restored and saved\n",
      "\u001b[34m\u001b[1mval: \u001b[0m/kaggle/working/images/val/ID_587f7e79.jpg: corrupt JPEG restored and saved\n",
      "\u001b[34m\u001b[1mval: \u001b[0m/kaggle/working/images/val/ID_58de409e.jpg: corrupt JPEG restored and saved\n",
      "\u001b[34m\u001b[1mval: \u001b[0m/kaggle/working/images/val/ID_5a0f3acc.jpg: corrupt JPEG restored and saved\n",
      "\u001b[34m\u001b[1mval: \u001b[0m/kaggle/working/images/val/ID_5ca2400a.jpg: corrupt JPEG restored and saved\n",
      "\u001b[34m\u001b[1mval: \u001b[0m/kaggle/working/images/val/ID_5f29687e.jpg: corrupt JPEG restored and saved\n",
      "\u001b[34m\u001b[1mval: \u001b[0m/kaggle/working/images/val/ID_666603e7.jpg: corrupt JPEG restored and saved\n",
      "\u001b[34m\u001b[1mval: \u001b[0m/kaggle/working/images/val/ID_67dddcd6.jpg: corrupt JPEG restored and saved\n",
      "\u001b[34m\u001b[1mval: \u001b[0m/kaggle/working/images/val/ID_6a8beb51.jpg: corrupt JPEG restored and saved\n",
      "\u001b[34m\u001b[1mval: \u001b[0m/kaggle/working/images/val/ID_71faa3f8.jpg: corrupt JPEG restored and saved\n",
      "\u001b[34m\u001b[1mval: \u001b[0m/kaggle/working/images/val/ID_7f3ee079.jpg: corrupt JPEG restored and saved\n",
      "\u001b[34m\u001b[1mval: \u001b[0m/kaggle/working/images/val/ID_83099eec.jpg: corrupt JPEG restored and saved\n",
      "\u001b[34m\u001b[1mval: \u001b[0m/kaggle/working/images/val/ID_916d2fe5.jpg: corrupt JPEG restored and saved\n",
      "\u001b[34m\u001b[1mval: \u001b[0m/kaggle/working/images/val/ID_917789b5.jpg: corrupt JPEG restored and saved\n",
      "\u001b[34m\u001b[1mval: \u001b[0m/kaggle/working/images/val/ID_a01d52a6.jpg: corrupt JPEG restored and saved\n",
      "\u001b[34m\u001b[1mval: \u001b[0m/kaggle/working/images/val/ID_a12f6464.jpg: corrupt JPEG restored and saved\n",
      "\u001b[34m\u001b[1mval: \u001b[0m/kaggle/working/images/val/ID_a4bd024b.jpg: corrupt JPEG restored and saved\n",
      "\u001b[34m\u001b[1mval: \u001b[0m/kaggle/working/images/val/ID_a4d9b1eb.jpg: corrupt JPEG restored and saved\n",
      "\u001b[34m\u001b[1mval: \u001b[0m/kaggle/working/images/val/ID_b5136cec.jpg: corrupt JPEG restored and saved\n",
      "\u001b[34m\u001b[1mval: \u001b[0m/kaggle/working/images/val/ID_b62945ff.jpg: corrupt JPEG restored and saved\n",
      "\u001b[34m\u001b[1mval: \u001b[0m/kaggle/working/images/val/ID_c2c45248.jpg: corrupt JPEG restored and saved\n",
      "\u001b[34m\u001b[1mval: \u001b[0m/kaggle/working/images/val/ID_c76f4332.jpg: corrupt JPEG restored and saved\n",
      "\u001b[34m\u001b[1mval: \u001b[0m/kaggle/working/images/val/ID_c82e0d1a.jpg: corrupt JPEG restored and saved\n",
      "\u001b[34m\u001b[1mval: \u001b[0m/kaggle/working/images/val/ID_cf5d2314.jpg: corrupt JPEG restored and saved\n",
      "\u001b[34m\u001b[1mval: \u001b[0m/kaggle/working/images/val/ID_d29dd6e5.jpg: corrupt JPEG restored and saved\n",
      "\u001b[34m\u001b[1mval: \u001b[0m/kaggle/working/images/val/ID_e1e381c9.jpg: corrupt JPEG restored and saved\n",
      "\u001b[34m\u001b[1mval: \u001b[0m/kaggle/working/images/val/ID_e2460507.jpg: corrupt JPEG restored and saved\n",
      "\u001b[34m\u001b[1mval: \u001b[0m/kaggle/working/images/val/ID_e914a30a.jpg: corrupt JPEG restored and saved\n",
      "\u001b[34m\u001b[1mval: \u001b[0m/kaggle/working/images/val/ID_ea0d065d.jpg: corrupt JPEG restored and saved\n",
      "\u001b[34m\u001b[1mval: \u001b[0m/kaggle/working/images/val/ID_ea98ea42.jpg: corrupt JPEG restored and saved\n",
      "\u001b[34m\u001b[1mval: \u001b[0m/kaggle/working/images/val/ID_ebd59234.jpg: corrupt JPEG restored and saved\n",
      "\u001b[34m\u001b[1mval: \u001b[0m/kaggle/working/images/val/ID_ec4769b1.jpg: corrupt JPEG restored and saved\n",
      "\u001b[34m\u001b[1mval: \u001b[0m/kaggle/working/images/val/ID_ec70cb12.jpg: corrupt JPEG restored and saved\n",
      "\u001b[34m\u001b[1mval: \u001b[0m/kaggle/working/images/val/ID_edcf4484.jpg: corrupt JPEG restored and saved\n",
      "\u001b[34m\u001b[1mval: \u001b[0m/kaggle/working/images/val/ID_f07589b2.jpg: corrupt JPEG restored and saved\n",
      "\u001b[34m\u001b[1mval: \u001b[0m/kaggle/working/images/val/ID_f0f9ac30.jpg: corrupt JPEG restored and saved\n",
      "\u001b[34m\u001b[1mval: \u001b[0m/kaggle/working/images/val/ID_f1c6f204.jpg: corrupt JPEG restored and saved\n",
      "\u001b[34m\u001b[1mval: \u001b[0m/kaggle/working/images/val/ID_fbeabbb2.jpg: corrupt JPEG restored and saved\n",
      "\u001b[34m\u001b[1mval: \u001b[0mNew cache created: /kaggle/working/labels/val.cache\n"
     ]
    },
    {
     "name": "stderr",
     "output_type": "stream",
     "text": [
      "\n"
     ]
    },
    {
     "name": "stdout",
     "output_type": "stream",
     "text": [
      "WARNING ⚠️ \u001b[34m\u001b[1mval: \u001b[0m89.9GB disk space required, with 50% safety margin but only 12.3/19.5GB free, not caching images to disk\n",
      "Plotting labels to runs/detect/train/labels.jpg... \n",
      "\u001b[34m\u001b[1moptimizer:\u001b[0m 'optimizer=auto' found, ignoring 'lr0=0.01' and 'momentum=0.937' and determining best 'optimizer', 'lr0' and 'momentum' automatically... \n",
      "\u001b[34m\u001b[1moptimizer:\u001b[0m AdamW(lr=0.001429, momentum=0.9) with parameter groups 167 weight(decay=0.0), 174 weight(decay=0.0005), 173 bias(decay=0.0)\n",
      "Image sizes 1024 train, 1024 val\n",
      "Using 4 dataloader workers\n",
      "Logging results to \u001b[1mruns/detect/train\u001b[0m\n",
      "Starting training for 5 epochs...\n",
      "\n",
      "      Epoch    GPU_mem   box_loss   cls_loss   dfl_loss  Instances       Size\n"
     ]
    },
    {
     "name": "stderr",
     "output_type": "stream",
     "text": [
      "        1/5      12.7G      1.909      2.394      2.178         47       1024: 100%|██████████| 2057/2057 [32:06<00:00,  1.07it/s]\n",
      "                 Class     Images  Instances      Box(P          R      mAP50  mAP50-95): 100%|██████████| 210/210 [02:45<00:00,  1.27it/s]\n"
     ]
    },
    {
     "name": "stdout",
     "output_type": "stream",
     "text": [
      "                   all       3353      19061      0.471      0.301      0.311      0.128\n",
      "\n",
      "      Epoch    GPU_mem   box_loss   cls_loss   dfl_loss  Instances       Size\n"
     ]
    },
    {
     "name": "stderr",
     "output_type": "stream",
     "text": [
      "        2/5        13G      1.831      2.262      2.114         31       1024: 100%|██████████| 2057/2057 [31:29<00:00,  1.09it/s]\n",
      "                 Class     Images  Instances      Box(P          R      mAP50  mAP50-95): 100%|██████████| 210/210 [02:36<00:00,  1.34it/s]\n"
     ]
    },
    {
     "name": "stdout",
     "output_type": "stream",
     "text": [
      "                   all       3353      19061      0.527      0.395      0.407        0.2\n",
      "\n",
      "      Epoch    GPU_mem   box_loss   cls_loss   dfl_loss  Instances       Size\n"
     ]
    },
    {
     "name": "stderr",
     "output_type": "stream",
     "text": [
      "        3/5      12.9G      1.746      2.098      2.033         48       1024: 100%|██████████| 2057/2057 [31:15<00:00,  1.10it/s]\n",
      "                 Class     Images  Instances      Box(P          R      mAP50  mAP50-95): 100%|██████████| 210/210 [02:31<00:00,  1.38it/s]\n"
     ]
    },
    {
     "name": "stdout",
     "output_type": "stream",
     "text": [
      "                   all       3353      19061      0.523      0.433      0.448      0.232\n",
      "\n",
      "      Epoch    GPU_mem   box_loss   cls_loss   dfl_loss  Instances       Size\n"
     ]
    },
    {
     "name": "stderr",
     "output_type": "stream",
     "text": [
      "        4/5      12.9G      1.673      1.943      1.971         60       1024: 100%|██████████| 2057/2057 [31:15<00:00,  1.10it/s]\n",
      "                 Class     Images  Instances      Box(P          R      mAP50  mAP50-95): 100%|██████████| 210/210 [02:32<00:00,  1.38it/s]\n"
     ]
    },
    {
     "name": "stdout",
     "output_type": "stream",
     "text": [
      "                   all       3353      19061       0.56      0.493      0.503       0.28\n",
      "\n",
      "      Epoch    GPU_mem   box_loss   cls_loss   dfl_loss  Instances       Size\n"
     ]
    },
    {
     "name": "stderr",
     "output_type": "stream",
     "text": [
      "        5/5        13G      1.604      1.797      1.908         26       1024: 100%|██████████| 2057/2057 [31:14<00:00,  1.10it/s]\n",
      "                 Class     Images  Instances      Box(P          R      mAP50  mAP50-95): 100%|██████████| 210/210 [02:32<00:00,  1.38it/s]\n"
     ]
    },
    {
     "name": "stdout",
     "output_type": "stream",
     "text": [
      "                   all       3353      19061      0.587      0.522      0.543      0.315\n",
      "\n",
      "5 epochs completed in 2.846 hours.\n",
      "Optimizer stripped from runs/detect/train/weights/last.pt, 51.2MB\n",
      "Optimizer stripped from runs/detect/train/weights/best.pt, 51.2MB\n",
      "\n",
      "Validating runs/detect/train/weights/best.pt...\n",
      "Ultralytics 8.3.144 🚀 Python-3.11.11 torch-2.5.1+cu124 CUDA:0 (Tesla T4, 15095MiB)\n",
      "YOLO11l summary (fused): 190 layers, 25,281,625 parameters, 0 gradients, 86.6 GFLOPs\n"
     ]
    },
    {
     "name": "stderr",
     "output_type": "stream",
     "text": [
      "                 Class     Images  Instances      Box(P          R      mAP50  mAP50-95): 100%|██████████| 210/210 [02:21<00:00,  1.49it/s]\n"
     ]
    },
    {
     "name": "stdout",
     "output_type": "stream",
     "text": [
      "                   all       3353      19061      0.587      0.522      0.543      0.314\n",
      "         fall_armyworm       1042       4894      0.583       0.74      0.705      0.403\n",
      "               healthy       1116      11490      0.489      0.166      0.232     0.0832\n",
      "  maize_streak_disease       1225       2677       0.69       0.66      0.693      0.457\n"
     ]
    },
    {
     "name": "stderr",
     "output_type": "stream",
     "text": [
      "/usr/local/lib/python3.11/dist-packages/matplotlib/colors.py:721: RuntimeWarning: invalid value encountered in less\n",
      "  xa[xa < 0] = -1\n",
      "/usr/local/lib/python3.11/dist-packages/matplotlib/colors.py:721: RuntimeWarning: invalid value encountered in less\n",
      "  xa[xa < 0] = -1\n"
     ]
    },
    {
     "name": "stdout",
     "output_type": "stream",
     "text": [
      "Speed: 0.4ms preprocess, 27.3ms inference, 0.0ms loss, 3.5ms postprocess per image\n",
      "Results saved to \u001b[1mruns/detect/train\u001b[0m\n",
      "Temps total d'entraînement : 10553.81 secondes\n",
      "Temps total d'entraînement : 175.90 minutes\n"
     ]
    }
   ],
   "source": [
    "##### from ultralytics import YOLO\n",
    "import time\n",
    "\n",
    "\n",
    "# Enregistrer l'heure de début\n",
    "start_time = time.time()\n",
    "\n",
    "\n",
    "# Charger un modèle YOLOv8 pré-entraîné\n",
    "model = YOLO(\"yolo11l'.pt\")\n",
    "\n",
    "# Fine-tuner le modèle sur vos donnée\n",
    "\n",
    "# Fine-tuner le modèle sur vos données\n",
    "model.train(\n",
    "    data=yaml_path,\n",
    "    epochs=5,                 # Nombre d'époques\n",
    "    imgsz=1024,                # Taille des images\n",
    "    batch=8,                  # Taille du lot\n",
    "    device=0,                # Utiliser le GPU (device=0 pour CUDA)\n",
    "    patience=0,               # Early stopping après 10 époques sans amélioration\n",
    "    auto_augment=False,\n",
    "    amp=True,\n",
    "    verbose=True,\n",
    "    save=True,                 # Sauvegarder les poids du modèle\n",
    "    exist_ok=True,\n",
    "    cos_lr=True,\n",
    "    plots=True,             # Reprendre l'entraînement si le dossier existe\n",
    "    cache='disk'\n",
    "\n",
    "\n",
    "\n",
    "\n",
    "\n",
    ")\n",
    "\n",
    "\n",
    "# Enregistrer l'heure de fin\n",
    "end_time = time.time()\n",
    "\n",
    "# Calculer le temps total d'entraînement\n",
    "training_time = end_time - start_time\n",
    "\n",
    "# Afficher le temps total d'entraînement\n",
    "print(f\"Temps total d'entraînement : {training_time:.2f} secondes\")\n",
    "print(f\"Temps total d'entraînement : {training_time / 60:.2f} minutes\")\n"
   ]
  },
  {
   "cell_type": "code",
   "execution_count": 93,
   "id": "f14e6380",
   "metadata": {
    "execution": {
     "iopub.execute_input": "2025-05-25T03:56:51.043817Z",
     "iopub.status.busy": "2025-05-25T03:56:51.043469Z",
     "iopub.status.idle": "2025-05-25T03:56:51.492132Z",
     "shell.execute_reply": "2025-05-25T03:56:51.491199Z"
    },
    "papermill": {
     "duration": 1.670714,
     "end_time": "2025-05-25T03:56:51.494700",
     "exception": false,
     "start_time": "2025-05-25T03:56:49.823986",
     "status": "completed"
    },
    "tags": []
   },
   "outputs": [],
   "source": [
    "\n",
    "# Charger le modèle YOLO entraîné\n",
    "model_path = 'runs/detect/train/weights/best.pt'\n",
    "\n",
    "model = YOLO(model_path)\n"
   ]
  },
  {
   "cell_type": "code",
   "execution_count": 94,
   "id": "7266504b",
   "metadata": {
    "execution": {
     "iopub.execute_input": "2025-05-25T03:56:54.123576Z",
     "iopub.status.busy": "2025-05-25T03:56:54.123253Z",
     "iopub.status.idle": "2025-05-25T04:02:51.691482Z",
     "shell.execute_reply": "2025-05-25T04:02:51.690355Z"
    },
    "papermill": {
     "duration": 358.886391,
     "end_time": "2025-05-25T04:02:51.693000",
     "exception": false,
     "start_time": "2025-05-25T03:56:52.806609",
     "status": "completed"
    },
    "tags": []
   },
   "outputs": [
    {
     "name": "stdout",
     "output_type": "stream",
     "text": [
      "WARNING ⚠️ 'save_hybrid' is deprecated and will be removed in in the future.\n",
      "Ultralytics 8.3.144 🚀 Python-3.11.11 torch-2.5.1+cu124 CUDA:0 (Tesla T4, 15095MiB)\n",
      "YOLO11l summary (fused): 190 layers, 25,281,625 parameters, 0 gradients, 86.6 GFLOPs\n",
      "\u001b[34m\u001b[1mval: \u001b[0mFast image access ✅ (ping: 0.0±0.0 ms, read: 82.9±51.6 MB/s, size: 2423.5 KB)\n"
     ]
    },
    {
     "name": "stderr",
     "output_type": "stream",
     "text": [
      "\u001b[34m\u001b[1mval: \u001b[0mScanning /kaggle/input/maize-corn-ds/MAIZE/labels/test... 1825 images, 0 backgrounds, 38 corrupt: 100%|██████████| 1863/1863 [00:14<00:00, 127.34it/s]"
     ]
    },
    {
     "name": "stdout",
     "output_type": "stream",
     "text": [
      "\u001b[34m\u001b[1mval: \u001b[0m/kaggle/input/maize-corn-ds/MAIZE/images/test/ID_083446dc.jpg: ignoring corrupt image/label: [Errno 30] Read-only file system: '/kaggle/input/maize-corn-ds/MAIZE/images/test/ID_083446dc.jpg'\n",
      "\u001b[34m\u001b[1mval: \u001b[0m/kaggle/input/maize-corn-ds/MAIZE/images/test/ID_094bf9dc.jpg: ignoring corrupt image/label: [Errno 30] Read-only file system: '/kaggle/input/maize-corn-ds/MAIZE/images/test/ID_094bf9dc.jpg'\n",
      "\u001b[34m\u001b[1mval: \u001b[0m/kaggle/input/maize-corn-ds/MAIZE/images/test/ID_30f58d0e.jpg: ignoring corrupt image/label: [Errno 30] Read-only file system: '/kaggle/input/maize-corn-ds/MAIZE/images/test/ID_30f58d0e.jpg'\n",
      "\u001b[34m\u001b[1mval: \u001b[0m/kaggle/input/maize-corn-ds/MAIZE/images/test/ID_31fc5b54.jpg: ignoring corrupt image/label: [Errno 30] Read-only file system: '/kaggle/input/maize-corn-ds/MAIZE/images/test/ID_31fc5b54.jpg'\n",
      "\u001b[34m\u001b[1mval: \u001b[0m/kaggle/input/maize-corn-ds/MAIZE/images/test/ID_3c03453d.jpg: ignoring corrupt image/label: [Errno 30] Read-only file system: '/kaggle/input/maize-corn-ds/MAIZE/images/test/ID_3c03453d.jpg'\n",
      "\u001b[34m\u001b[1mval: \u001b[0m/kaggle/input/maize-corn-ds/MAIZE/images/test/ID_3cabc69c.jpg: ignoring corrupt image/label: [Errno 30] Read-only file system: '/kaggle/input/maize-corn-ds/MAIZE/images/test/ID_3cabc69c.jpg'\n",
      "\u001b[34m\u001b[1mval: \u001b[0m/kaggle/input/maize-corn-ds/MAIZE/images/test/ID_4c63df49.jpg: ignoring corrupt image/label: [Errno 30] Read-only file system: '/kaggle/input/maize-corn-ds/MAIZE/images/test/ID_4c63df49.jpg'\n",
      "\u001b[34m\u001b[1mval: \u001b[0m/kaggle/input/maize-corn-ds/MAIZE/images/test/ID_4f69e505.jpg: ignoring corrupt image/label: [Errno 30] Read-only file system: '/kaggle/input/maize-corn-ds/MAIZE/images/test/ID_4f69e505.jpg'\n",
      "\u001b[34m\u001b[1mval: \u001b[0m/kaggle/input/maize-corn-ds/MAIZE/images/test/ID_579e4e27.jpg: ignoring corrupt image/label: [Errno 30] Read-only file system: '/kaggle/input/maize-corn-ds/MAIZE/images/test/ID_579e4e27.jpg'\n",
      "\u001b[34m\u001b[1mval: \u001b[0m/kaggle/input/maize-corn-ds/MAIZE/images/test/ID_6033e5f5.jpg: ignoring corrupt image/label: [Errno 30] Read-only file system: '/kaggle/input/maize-corn-ds/MAIZE/images/test/ID_6033e5f5.jpg'\n",
      "\u001b[34m\u001b[1mval: \u001b[0m/kaggle/input/maize-corn-ds/MAIZE/images/test/ID_64826aa0.jpg: ignoring corrupt image/label: [Errno 30] Read-only file system: '/kaggle/input/maize-corn-ds/MAIZE/images/test/ID_64826aa0.jpg'\n",
      "\u001b[34m\u001b[1mval: \u001b[0m/kaggle/input/maize-corn-ds/MAIZE/images/test/ID_67bd13f0.jpg: ignoring corrupt image/label: [Errno 30] Read-only file system: '/kaggle/input/maize-corn-ds/MAIZE/images/test/ID_67bd13f0.jpg'\n",
      "\u001b[34m\u001b[1mval: \u001b[0m/kaggle/input/maize-corn-ds/MAIZE/images/test/ID_6ea3488a.jpg: ignoring corrupt image/label: [Errno 30] Read-only file system: '/kaggle/input/maize-corn-ds/MAIZE/images/test/ID_6ea3488a.jpg'\n",
      "\u001b[34m\u001b[1mval: \u001b[0m/kaggle/input/maize-corn-ds/MAIZE/images/test/ID_704bb222.jpg: ignoring corrupt image/label: [Errno 30] Read-only file system: '/kaggle/input/maize-corn-ds/MAIZE/images/test/ID_704bb222.jpg'\n",
      "\u001b[34m\u001b[1mval: \u001b[0m/kaggle/input/maize-corn-ds/MAIZE/images/test/ID_72f0ea5d.jpg: ignoring corrupt image/label: [Errno 30] Read-only file system: '/kaggle/input/maize-corn-ds/MAIZE/images/test/ID_72f0ea5d.jpg'\n",
      "\u001b[34m\u001b[1mval: \u001b[0m/kaggle/input/maize-corn-ds/MAIZE/images/test/ID_750b9293.jpg: ignoring corrupt image/label: [Errno 30] Read-only file system: '/kaggle/input/maize-corn-ds/MAIZE/images/test/ID_750b9293.jpg'\n",
      "\u001b[34m\u001b[1mval: \u001b[0m/kaggle/input/maize-corn-ds/MAIZE/images/test/ID_78a9c22f.jpg: ignoring corrupt image/label: [Errno 30] Read-only file system: '/kaggle/input/maize-corn-ds/MAIZE/images/test/ID_78a9c22f.jpg'\n",
      "\u001b[34m\u001b[1mval: \u001b[0m/kaggle/input/maize-corn-ds/MAIZE/images/test/ID_7c728378.jpg: ignoring corrupt image/label: [Errno 30] Read-only file system: '/kaggle/input/maize-corn-ds/MAIZE/images/test/ID_7c728378.jpg'\n",
      "\u001b[34m\u001b[1mval: \u001b[0m/kaggle/input/maize-corn-ds/MAIZE/images/test/ID_84028f97.jpg: ignoring corrupt image/label: [Errno 30] Read-only file system: '/kaggle/input/maize-corn-ds/MAIZE/images/test/ID_84028f97.jpg'\n",
      "\u001b[34m\u001b[1mval: \u001b[0m/kaggle/input/maize-corn-ds/MAIZE/images/test/ID_95342040.jpg: ignoring corrupt image/label: [Errno 30] Read-only file system: '/kaggle/input/maize-corn-ds/MAIZE/images/test/ID_95342040.jpg'\n",
      "\u001b[34m\u001b[1mval: \u001b[0m/kaggle/input/maize-corn-ds/MAIZE/images/test/ID_9cf34c7b.jpg: ignoring corrupt image/label: [Errno 30] Read-only file system: '/kaggle/input/maize-corn-ds/MAIZE/images/test/ID_9cf34c7b.jpg'\n",
      "\u001b[34m\u001b[1mval: \u001b[0m/kaggle/input/maize-corn-ds/MAIZE/images/test/ID_af270d8e.jpg: ignoring corrupt image/label: [Errno 30] Read-only file system: '/kaggle/input/maize-corn-ds/MAIZE/images/test/ID_af270d8e.jpg'\n",
      "\u001b[34m\u001b[1mval: \u001b[0m/kaggle/input/maize-corn-ds/MAIZE/images/test/ID_b19fcfe6.jpg: ignoring corrupt image/label: [Errno 30] Read-only file system: '/kaggle/input/maize-corn-ds/MAIZE/images/test/ID_b19fcfe6.jpg'\n",
      "\u001b[34m\u001b[1mval: \u001b[0m/kaggle/input/maize-corn-ds/MAIZE/images/test/ID_b1a54e8c.jpg: ignoring corrupt image/label: [Errno 30] Read-only file system: '/kaggle/input/maize-corn-ds/MAIZE/images/test/ID_b1a54e8c.jpg'\n",
      "\u001b[34m\u001b[1mval: \u001b[0m/kaggle/input/maize-corn-ds/MAIZE/images/test/ID_b5e46d67.jpg: ignoring corrupt image/label: [Errno 30] Read-only file system: '/kaggle/input/maize-corn-ds/MAIZE/images/test/ID_b5e46d67.jpg'\n",
      "\u001b[34m\u001b[1mval: \u001b[0m/kaggle/input/maize-corn-ds/MAIZE/images/test/ID_c718de78.jpg: ignoring corrupt image/label: [Errno 30] Read-only file system: '/kaggle/input/maize-corn-ds/MAIZE/images/test/ID_c718de78.jpg'\n",
      "\u001b[34m\u001b[1mval: \u001b[0m/kaggle/input/maize-corn-ds/MAIZE/images/test/ID_ca928efc.jpg: ignoring corrupt image/label: [Errno 30] Read-only file system: '/kaggle/input/maize-corn-ds/MAIZE/images/test/ID_ca928efc.jpg'\n",
      "\u001b[34m\u001b[1mval: \u001b[0m/kaggle/input/maize-corn-ds/MAIZE/images/test/ID_d1236538.jpg: ignoring corrupt image/label: [Errno 30] Read-only file system: '/kaggle/input/maize-corn-ds/MAIZE/images/test/ID_d1236538.jpg'\n",
      "\u001b[34m\u001b[1mval: \u001b[0m/kaggle/input/maize-corn-ds/MAIZE/images/test/ID_d13da997.jpg: ignoring corrupt image/label: [Errno 30] Read-only file system: '/kaggle/input/maize-corn-ds/MAIZE/images/test/ID_d13da997.jpg'\n",
      "\u001b[34m\u001b[1mval: \u001b[0m/kaggle/input/maize-corn-ds/MAIZE/images/test/ID_d3cbcf6a.jpg: ignoring corrupt image/label: [Errno 30] Read-only file system: '/kaggle/input/maize-corn-ds/MAIZE/images/test/ID_d3cbcf6a.jpg'\n",
      "\u001b[34m\u001b[1mval: \u001b[0m/kaggle/input/maize-corn-ds/MAIZE/images/test/ID_d5ff9e5a.jpg: ignoring corrupt image/label: [Errno 30] Read-only file system: '/kaggle/input/maize-corn-ds/MAIZE/images/test/ID_d5ff9e5a.jpg'\n",
      "\u001b[34m\u001b[1mval: \u001b[0m/kaggle/input/maize-corn-ds/MAIZE/images/test/ID_e38e72b4.jpg: ignoring corrupt image/label: [Errno 30] Read-only file system: '/kaggle/input/maize-corn-ds/MAIZE/images/test/ID_e38e72b4.jpg'\n",
      "\u001b[34m\u001b[1mval: \u001b[0m/kaggle/input/maize-corn-ds/MAIZE/images/test/ID_e4f47bd7.jpg: ignoring corrupt image/label: [Errno 30] Read-only file system: '/kaggle/input/maize-corn-ds/MAIZE/images/test/ID_e4f47bd7.jpg'\n",
      "\u001b[34m\u001b[1mval: \u001b[0m/kaggle/input/maize-corn-ds/MAIZE/images/test/ID_e603dda2.jpg: ignoring corrupt image/label: [Errno 30] Read-only file system: '/kaggle/input/maize-corn-ds/MAIZE/images/test/ID_e603dda2.jpg'\n",
      "\u001b[34m\u001b[1mval: \u001b[0m/kaggle/input/maize-corn-ds/MAIZE/images/test/ID_e762e4c7.jpg: ignoring corrupt image/label: [Errno 30] Read-only file system: '/kaggle/input/maize-corn-ds/MAIZE/images/test/ID_e762e4c7.jpg'\n",
      "\u001b[34m\u001b[1mval: \u001b[0m/kaggle/input/maize-corn-ds/MAIZE/images/test/ID_ea83b154.jpg: ignoring corrupt image/label: [Errno 30] Read-only file system: '/kaggle/input/maize-corn-ds/MAIZE/images/test/ID_ea83b154.jpg'\n",
      "\u001b[34m\u001b[1mval: \u001b[0m/kaggle/input/maize-corn-ds/MAIZE/images/test/ID_f14c682c.jpg: ignoring corrupt image/label: [Errno 30] Read-only file system: '/kaggle/input/maize-corn-ds/MAIZE/images/test/ID_f14c682c.jpg'\n",
      "\u001b[34m\u001b[1mval: \u001b[0m/kaggle/input/maize-corn-ds/MAIZE/images/test/ID_fd564d3a.jpg: ignoring corrupt image/label: [Errno 30] Read-only file system: '/kaggle/input/maize-corn-ds/MAIZE/images/test/ID_fd564d3a.jpg'\n"
     ]
    },
    {
     "name": "stderr",
     "output_type": "stream",
     "text": [
      "\n"
     ]
    },
    {
     "name": "stdout",
     "output_type": "stream",
     "text": [
      "WARNING ⚠️ \u001b[34m\u001b[1mval: \u001b[0mCache directory /kaggle/input/maize-corn-ds/MAIZE/labels is not writeable, cache not saved.\n"
     ]
    },
    {
     "name": "stderr",
     "output_type": "stream",
     "text": [
      "                 Class     Images  Instances      Box(P          R      mAP50  mAP50-95): 100%|██████████| 115/115 [05:32<00:00,  2.89s/it]\n"
     ]
    },
    {
     "name": "stdout",
     "output_type": "stream",
     "text": [
      "                   all       1825       9884      0.579      0.546      0.555      0.318\n",
      "         fall_armyworm        585       2673      0.564       0.75        0.7      0.399\n",
      "               healthy        598       5791      0.493      0.195      0.245     0.0847\n",
      "  maize_streak_disease        662       1420      0.679      0.693      0.721       0.47\n"
     ]
    },
    {
     "name": "stderr",
     "output_type": "stream",
     "text": [
      "/usr/local/lib/python3.11/dist-packages/matplotlib/colors.py:721: RuntimeWarning: invalid value encountered in less\n",
      "  xa[xa < 0] = -1\n",
      "/usr/local/lib/python3.11/dist-packages/matplotlib/colors.py:721: RuntimeWarning: invalid value encountered in less\n",
      "  xa[xa < 0] = -1\n"
     ]
    },
    {
     "name": "stdout",
     "output_type": "stream",
     "text": [
      "Speed: 0.6ms preprocess, 63.2ms inference, 0.0ms loss, 1.5ms postprocess per image\n",
      "Results saved to \u001b[1mruns/detect/val\u001b[0m\n",
      "\n",
      "📊 Évaluation terminée avec les paramètres par défaut :\n",
      "metrics/precision(B): 0.5789\n",
      "metrics/recall(B): 0.5460\n",
      "metrics/mAP50(B): 0.5553\n",
      "metrics/mAP50-95(B): 0.3179\n",
      "fitness: 0.3416\n"
     ]
    }
   ],
   "source": [
    "metrics = model.val(\n",
    "    data=yaml_path,\n",
    "    split=\"test\",\n",
    "    imgsz=1024,\n",
    "    save=True,\n",
    "    save_txt=True,\n",
    "    save_conf=True,\n",
    "    save_hybrid=True,\n",
    "    plots=True\n",
    ")\n",
    "\n",
    "print(\"\\n📊 Évaluation terminée avec les paramètres par défaut :\")\n",
    "for k, v in metrics.results_dict.items():\n",
    "    print(f\"{k}: {v:.4f}\")"
   ]
  },
  {
   "cell_type": "code",
   "execution_count": 95,
   "id": "322ea439",
   "metadata": {
    "execution": {
     "iopub.execute_input": "2025-05-25T04:02:54.290375Z",
     "iopub.status.busy": "2025-05-25T04:02:54.289999Z",
     "iopub.status.idle": "2025-05-25T04:08:35.896075Z",
     "shell.execute_reply": "2025-05-25T04:08:35.894778Z"
    },
    "papermill": {
     "duration": 342.834898,
     "end_time": "2025-05-25T04:08:35.897472",
     "exception": true,
     "start_time": "2025-05-25T04:02:53.062574",
     "status": "failed"
    },
    "tags": []
   },
   "outputs": [
    {
     "name": "stdout",
     "output_type": "stream",
     "text": [
      "WARNING ⚠️ 'save_hybrid' is deprecated and will be removed in in the future.\n",
      "Ultralytics 8.3.144 🚀 Python-3.11.11 torch-2.5.1+cu124 CUDA:0 (Tesla T4, 15095MiB)\n",
      "\u001b[34m\u001b[1mval: \u001b[0mFast image access ✅ (ping: 0.0±0.0 ms, read: 577.4±892.4 MB/s, size: 1530.1 KB)\n"
     ]
    },
    {
     "name": "stderr",
     "output_type": "stream",
     "text": [
      "\u001b[34m\u001b[1mval: \u001b[0mScanning /kaggle/input/maize-corn-ds/MAIZE/labels/test... 1825 images, 0 backgrounds, 38 corrupt: 100%|██████████| 1863/1863 [00:04<00:00, 375.46it/s]\n"
     ]
    },
    {
     "name": "stdout",
     "output_type": "stream",
     "text": [
      "\u001b[34m\u001b[1mval: \u001b[0m/kaggle/input/maize-corn-ds/MAIZE/images/test/ID_083446dc.jpg: ignoring corrupt image/label: [Errno 30] Read-only file system: '/kaggle/input/maize-corn-ds/MAIZE/images/test/ID_083446dc.jpg'\n",
      "\u001b[34m\u001b[1mval: \u001b[0m/kaggle/input/maize-corn-ds/MAIZE/images/test/ID_094bf9dc.jpg: ignoring corrupt image/label: [Errno 30] Read-only file system: '/kaggle/input/maize-corn-ds/MAIZE/images/test/ID_094bf9dc.jpg'\n",
      "\u001b[34m\u001b[1mval: \u001b[0m/kaggle/input/maize-corn-ds/MAIZE/images/test/ID_30f58d0e.jpg: ignoring corrupt image/label: [Errno 30] Read-only file system: '/kaggle/input/maize-corn-ds/MAIZE/images/test/ID_30f58d0e.jpg'\n",
      "\u001b[34m\u001b[1mval: \u001b[0m/kaggle/input/maize-corn-ds/MAIZE/images/test/ID_31fc5b54.jpg: ignoring corrupt image/label: [Errno 30] Read-only file system: '/kaggle/input/maize-corn-ds/MAIZE/images/test/ID_31fc5b54.jpg'\n",
      "\u001b[34m\u001b[1mval: \u001b[0m/kaggle/input/maize-corn-ds/MAIZE/images/test/ID_3c03453d.jpg: ignoring corrupt image/label: [Errno 30] Read-only file system: '/kaggle/input/maize-corn-ds/MAIZE/images/test/ID_3c03453d.jpg'\n",
      "\u001b[34m\u001b[1mval: \u001b[0m/kaggle/input/maize-corn-ds/MAIZE/images/test/ID_3cabc69c.jpg: ignoring corrupt image/label: [Errno 30] Read-only file system: '/kaggle/input/maize-corn-ds/MAIZE/images/test/ID_3cabc69c.jpg'\n",
      "\u001b[34m\u001b[1mval: \u001b[0m/kaggle/input/maize-corn-ds/MAIZE/images/test/ID_4c63df49.jpg: ignoring corrupt image/label: [Errno 30] Read-only file system: '/kaggle/input/maize-corn-ds/MAIZE/images/test/ID_4c63df49.jpg'\n",
      "\u001b[34m\u001b[1mval: \u001b[0m/kaggle/input/maize-corn-ds/MAIZE/images/test/ID_4f69e505.jpg: ignoring corrupt image/label: [Errno 30] Read-only file system: '/kaggle/input/maize-corn-ds/MAIZE/images/test/ID_4f69e505.jpg'\n",
      "\u001b[34m\u001b[1mval: \u001b[0m/kaggle/input/maize-corn-ds/MAIZE/images/test/ID_579e4e27.jpg: ignoring corrupt image/label: [Errno 30] Read-only file system: '/kaggle/input/maize-corn-ds/MAIZE/images/test/ID_579e4e27.jpg'\n",
      "\u001b[34m\u001b[1mval: \u001b[0m/kaggle/input/maize-corn-ds/MAIZE/images/test/ID_6033e5f5.jpg: ignoring corrupt image/label: [Errno 30] Read-only file system: '/kaggle/input/maize-corn-ds/MAIZE/images/test/ID_6033e5f5.jpg'\n",
      "\u001b[34m\u001b[1mval: \u001b[0m/kaggle/input/maize-corn-ds/MAIZE/images/test/ID_64826aa0.jpg: ignoring corrupt image/label: [Errno 30] Read-only file system: '/kaggle/input/maize-corn-ds/MAIZE/images/test/ID_64826aa0.jpg'\n",
      "\u001b[34m\u001b[1mval: \u001b[0m/kaggle/input/maize-corn-ds/MAIZE/images/test/ID_67bd13f0.jpg: ignoring corrupt image/label: [Errno 30] Read-only file system: '/kaggle/input/maize-corn-ds/MAIZE/images/test/ID_67bd13f0.jpg'\n",
      "\u001b[34m\u001b[1mval: \u001b[0m/kaggle/input/maize-corn-ds/MAIZE/images/test/ID_6ea3488a.jpg: ignoring corrupt image/label: [Errno 30] Read-only file system: '/kaggle/input/maize-corn-ds/MAIZE/images/test/ID_6ea3488a.jpg'\n",
      "\u001b[34m\u001b[1mval: \u001b[0m/kaggle/input/maize-corn-ds/MAIZE/images/test/ID_704bb222.jpg: ignoring corrupt image/label: [Errno 30] Read-only file system: '/kaggle/input/maize-corn-ds/MAIZE/images/test/ID_704bb222.jpg'\n",
      "\u001b[34m\u001b[1mval: \u001b[0m/kaggle/input/maize-corn-ds/MAIZE/images/test/ID_72f0ea5d.jpg: ignoring corrupt image/label: [Errno 30] Read-only file system: '/kaggle/input/maize-corn-ds/MAIZE/images/test/ID_72f0ea5d.jpg'\n",
      "\u001b[34m\u001b[1mval: \u001b[0m/kaggle/input/maize-corn-ds/MAIZE/images/test/ID_750b9293.jpg: ignoring corrupt image/label: [Errno 30] Read-only file system: '/kaggle/input/maize-corn-ds/MAIZE/images/test/ID_750b9293.jpg'\n",
      "\u001b[34m\u001b[1mval: \u001b[0m/kaggle/input/maize-corn-ds/MAIZE/images/test/ID_78a9c22f.jpg: ignoring corrupt image/label: [Errno 30] Read-only file system: '/kaggle/input/maize-corn-ds/MAIZE/images/test/ID_78a9c22f.jpg'\n",
      "\u001b[34m\u001b[1mval: \u001b[0m/kaggle/input/maize-corn-ds/MAIZE/images/test/ID_7c728378.jpg: ignoring corrupt image/label: [Errno 30] Read-only file system: '/kaggle/input/maize-corn-ds/MAIZE/images/test/ID_7c728378.jpg'\n",
      "\u001b[34m\u001b[1mval: \u001b[0m/kaggle/input/maize-corn-ds/MAIZE/images/test/ID_84028f97.jpg: ignoring corrupt image/label: [Errno 30] Read-only file system: '/kaggle/input/maize-corn-ds/MAIZE/images/test/ID_84028f97.jpg'\n",
      "\u001b[34m\u001b[1mval: \u001b[0m/kaggle/input/maize-corn-ds/MAIZE/images/test/ID_95342040.jpg: ignoring corrupt image/label: [Errno 30] Read-only file system: '/kaggle/input/maize-corn-ds/MAIZE/images/test/ID_95342040.jpg'\n",
      "\u001b[34m\u001b[1mval: \u001b[0m/kaggle/input/maize-corn-ds/MAIZE/images/test/ID_9cf34c7b.jpg: ignoring corrupt image/label: [Errno 30] Read-only file system: '/kaggle/input/maize-corn-ds/MAIZE/images/test/ID_9cf34c7b.jpg'\n",
      "\u001b[34m\u001b[1mval: \u001b[0m/kaggle/input/maize-corn-ds/MAIZE/images/test/ID_af270d8e.jpg: ignoring corrupt image/label: [Errno 30] Read-only file system: '/kaggle/input/maize-corn-ds/MAIZE/images/test/ID_af270d8e.jpg'\n",
      "\u001b[34m\u001b[1mval: \u001b[0m/kaggle/input/maize-corn-ds/MAIZE/images/test/ID_b19fcfe6.jpg: ignoring corrupt image/label: [Errno 30] Read-only file system: '/kaggle/input/maize-corn-ds/MAIZE/images/test/ID_b19fcfe6.jpg'\n",
      "\u001b[34m\u001b[1mval: \u001b[0m/kaggle/input/maize-corn-ds/MAIZE/images/test/ID_b1a54e8c.jpg: ignoring corrupt image/label: [Errno 30] Read-only file system: '/kaggle/input/maize-corn-ds/MAIZE/images/test/ID_b1a54e8c.jpg'\n",
      "\u001b[34m\u001b[1mval: \u001b[0m/kaggle/input/maize-corn-ds/MAIZE/images/test/ID_b5e46d67.jpg: ignoring corrupt image/label: [Errno 30] Read-only file system: '/kaggle/input/maize-corn-ds/MAIZE/images/test/ID_b5e46d67.jpg'\n",
      "\u001b[34m\u001b[1mval: \u001b[0m/kaggle/input/maize-corn-ds/MAIZE/images/test/ID_c718de78.jpg: ignoring corrupt image/label: [Errno 30] Read-only file system: '/kaggle/input/maize-corn-ds/MAIZE/images/test/ID_c718de78.jpg'\n",
      "\u001b[34m\u001b[1mval: \u001b[0m/kaggle/input/maize-corn-ds/MAIZE/images/test/ID_ca928efc.jpg: ignoring corrupt image/label: [Errno 30] Read-only file system: '/kaggle/input/maize-corn-ds/MAIZE/images/test/ID_ca928efc.jpg'\n",
      "\u001b[34m\u001b[1mval: \u001b[0m/kaggle/input/maize-corn-ds/MAIZE/images/test/ID_d1236538.jpg: ignoring corrupt image/label: [Errno 30] Read-only file system: '/kaggle/input/maize-corn-ds/MAIZE/images/test/ID_d1236538.jpg'\n",
      "\u001b[34m\u001b[1mval: \u001b[0m/kaggle/input/maize-corn-ds/MAIZE/images/test/ID_d13da997.jpg: ignoring corrupt image/label: [Errno 30] Read-only file system: '/kaggle/input/maize-corn-ds/MAIZE/images/test/ID_d13da997.jpg'\n",
      "\u001b[34m\u001b[1mval: \u001b[0m/kaggle/input/maize-corn-ds/MAIZE/images/test/ID_d3cbcf6a.jpg: ignoring corrupt image/label: [Errno 30] Read-only file system: '/kaggle/input/maize-corn-ds/MAIZE/images/test/ID_d3cbcf6a.jpg'\n",
      "\u001b[34m\u001b[1mval: \u001b[0m/kaggle/input/maize-corn-ds/MAIZE/images/test/ID_d5ff9e5a.jpg: ignoring corrupt image/label: [Errno 30] Read-only file system: '/kaggle/input/maize-corn-ds/MAIZE/images/test/ID_d5ff9e5a.jpg'\n",
      "\u001b[34m\u001b[1mval: \u001b[0m/kaggle/input/maize-corn-ds/MAIZE/images/test/ID_e38e72b4.jpg: ignoring corrupt image/label: [Errno 30] Read-only file system: '/kaggle/input/maize-corn-ds/MAIZE/images/test/ID_e38e72b4.jpg'\n",
      "\u001b[34m\u001b[1mval: \u001b[0m/kaggle/input/maize-corn-ds/MAIZE/images/test/ID_e4f47bd7.jpg: ignoring corrupt image/label: [Errno 30] Read-only file system: '/kaggle/input/maize-corn-ds/MAIZE/images/test/ID_e4f47bd7.jpg'\n",
      "\u001b[34m\u001b[1mval: \u001b[0m/kaggle/input/maize-corn-ds/MAIZE/images/test/ID_e603dda2.jpg: ignoring corrupt image/label: [Errno 30] Read-only file system: '/kaggle/input/maize-corn-ds/MAIZE/images/test/ID_e603dda2.jpg'\n",
      "\u001b[34m\u001b[1mval: \u001b[0m/kaggle/input/maize-corn-ds/MAIZE/images/test/ID_e762e4c7.jpg: ignoring corrupt image/label: [Errno 30] Read-only file system: '/kaggle/input/maize-corn-ds/MAIZE/images/test/ID_e762e4c7.jpg'\n",
      "\u001b[34m\u001b[1mval: \u001b[0m/kaggle/input/maize-corn-ds/MAIZE/images/test/ID_ea83b154.jpg: ignoring corrupt image/label: [Errno 30] Read-only file system: '/kaggle/input/maize-corn-ds/MAIZE/images/test/ID_ea83b154.jpg'\n",
      "\u001b[34m\u001b[1mval: \u001b[0m/kaggle/input/maize-corn-ds/MAIZE/images/test/ID_f14c682c.jpg: ignoring corrupt image/label: [Errno 30] Read-only file system: '/kaggle/input/maize-corn-ds/MAIZE/images/test/ID_f14c682c.jpg'\n",
      "\u001b[34m\u001b[1mval: \u001b[0m/kaggle/input/maize-corn-ds/MAIZE/images/test/ID_fd564d3a.jpg: ignoring corrupt image/label: [Errno 30] Read-only file system: '/kaggle/input/maize-corn-ds/MAIZE/images/test/ID_fd564d3a.jpg'\n",
      "WARNING ⚠️ \u001b[34m\u001b[1mval: \u001b[0mCache directory /kaggle/input/maize-corn-ds/MAIZE/labels is not writeable, cache not saved.\n"
     ]
    },
    {
     "name": "stderr",
     "output_type": "stream",
     "text": [
      "                 Class     Images  Instances      Box(P          R      mAP50  mAP50-95): 100%|██████████| 115/115 [05:31<00:00,  2.88s/it]\n"
     ]
    },
    {
     "name": "stdout",
     "output_type": "stream",
     "text": [
      "                   all       1825       9884      0.579      0.546      0.555      0.318\n",
      "         fall_armyworm        585       2673      0.564       0.75        0.7      0.399\n",
      "               healthy        598       5791      0.493      0.195      0.245     0.0847\n",
      "  maize_streak_disease        662       1420      0.679      0.693      0.721       0.47\n"
     ]
    },
    {
     "name": "stderr",
     "output_type": "stream",
     "text": [
      "/usr/local/lib/python3.11/dist-packages/matplotlib/colors.py:721: RuntimeWarning: invalid value encountered in less\n",
      "  xa[xa < 0] = -1\n",
      "/usr/local/lib/python3.11/dist-packages/matplotlib/colors.py:721: RuntimeWarning: invalid value encountered in less\n",
      "  xa[xa < 0] = -1\n"
     ]
    },
    {
     "name": "stdout",
     "output_type": "stream",
     "text": [
      "Speed: 0.7ms preprocess, 63.4ms inference, 0.0ms loss, 1.5ms postprocess per image\n",
      "Results saved to \u001b[1mruns/detect/val2\u001b[0m\n",
      "\n",
      "📊 Évaluation terminée avec les paramètres par défaut :\n"
     ]
    },
    {
     "ename": "AttributeError",
     "evalue": "'DetMetrics' object has no attribute 'items'. See valid attributes below.\n\n    Utility class for computing detection metrics such as precision, recall, and mean average precision (mAP).\n\n    Attributes:\n        save_dir (Path): A path to the directory where the output plots will be saved.\n        plot (bool): A flag that indicates whether to plot precision-recall curves for each class.\n        names (dict): A dictionary of class names.\n        box (Metric): An instance of the Metric class for storing detection results.\n        speed (dict): A dictionary for storing execution times of different parts of the detection process.\n        task (str): The task type, set to 'detect'.\n    ",
     "output_type": "error",
     "traceback": [
      "\u001b[0;31m---------------------------------------------------------------------------\u001b[0m",
      "\u001b[0;31mAttributeError\u001b[0m                            Traceback (most recent call last)",
      "\u001b[0;32m/tmp/ipykernel_19/3102346757.py\u001b[0m in \u001b[0;36m<cell line: 0>\u001b[0;34m()\u001b[0m\n\u001b[1;32m     13\u001b[0m \u001b[0;31m# Affichage des métriques\u001b[0m\u001b[0;34m\u001b[0m\u001b[0;34m\u001b[0m\u001b[0m\n\u001b[1;32m     14\u001b[0m \u001b[0mprint\u001b[0m\u001b[0;34m(\u001b[0m\u001b[0;34m\"\\n📊 Évaluation terminée avec les paramètres par défaut :\"\u001b[0m\u001b[0;34m)\u001b[0m\u001b[0;34m\u001b[0m\u001b[0;34m\u001b[0m\u001b[0m\n\u001b[0;32m---> 15\u001b[0;31m \u001b[0;32mfor\u001b[0m \u001b[0mk\u001b[0m\u001b[0;34m,\u001b[0m \u001b[0mv\u001b[0m \u001b[0;32min\u001b[0m \u001b[0mmetrics\u001b[0m\u001b[0;34m.\u001b[0m\u001b[0mitems\u001b[0m\u001b[0;34m(\u001b[0m\u001b[0;34m)\u001b[0m\u001b[0;34m:\u001b[0m\u001b[0;34m\u001b[0m\u001b[0;34m\u001b[0m\u001b[0m\n\u001b[0m\u001b[1;32m     16\u001b[0m     \u001b[0mprint\u001b[0m\u001b[0;34m(\u001b[0m\u001b[0;34mf\"{k}: {v:.4f}\"\u001b[0m\u001b[0;34m)\u001b[0m\u001b[0;34m\u001b[0m\u001b[0;34m\u001b[0m\u001b[0m\n",
      "\u001b[0;32m/usr/local/lib/python3.11/dist-packages/ultralytics/utils/__init__.py\u001b[0m in \u001b[0;36m__getattr__\u001b[0;34m(self, attr)\u001b[0m\n\u001b[1;32m    392\u001b[0m         \u001b[0;34m\"\"\"Provide a custom attribute access error message with helpful information.\"\"\"\u001b[0m\u001b[0;34m\u001b[0m\u001b[0;34m\u001b[0m\u001b[0m\n\u001b[1;32m    393\u001b[0m         \u001b[0mname\u001b[0m \u001b[0;34m=\u001b[0m \u001b[0mself\u001b[0m\u001b[0;34m.\u001b[0m\u001b[0m__class__\u001b[0m\u001b[0;34m.\u001b[0m\u001b[0m__name__\u001b[0m\u001b[0;34m\u001b[0m\u001b[0;34m\u001b[0m\u001b[0m\n\u001b[0;32m--> 394\u001b[0;31m         \u001b[0;32mraise\u001b[0m \u001b[0mAttributeError\u001b[0m\u001b[0;34m(\u001b[0m\u001b[0;34mf\"'{name}' object has no attribute '{attr}'. See valid attributes below.\\n{self.__doc__}\"\u001b[0m\u001b[0;34m)\u001b[0m\u001b[0;34m\u001b[0m\u001b[0;34m\u001b[0m\u001b[0m\n\u001b[0m\u001b[1;32m    395\u001b[0m \u001b[0;34m\u001b[0m\u001b[0m\n\u001b[1;32m    396\u001b[0m \u001b[0;34m\u001b[0m\u001b[0m\n",
      "\u001b[0;31mAttributeError\u001b[0m: 'DetMetrics' object has no attribute 'items'. See valid attributes below.\n\n    Utility class for computing detection metrics such as precision, recall, and mean average precision (mAP).\n\n    Attributes:\n        save_dir (Path): A path to the directory where the output plots will be saved.\n        plot (bool): A flag that indicates whether to plot precision-recall curves for each class.\n        names (dict): A dictionary of class names.\n        box (Metric): An instance of the Metric class for storing detection results.\n        speed (dict): A dictionary for storing execution times of different parts of the detection process.\n        task (str): The task type, set to 'detect'.\n    "
     ]
    }
   ],
   "source": [
    "# Évaluation du modèle sur le jeu de test avec les paramètres par défaut\n",
    "metrics = model.val(\n",
    "    data=yaml_path,\n",
    "    split=\"test\",       # Important pour utiliser le dossier test dans ton YAML\n",
    "    imgsz=1024,\n",
    "    save=True,\n",
    "    save_txt=True,\n",
    "    save_conf=True,\n",
    "    save_hybrid=True,\n",
    "    plots=True\n",
    ")\n",
    "\n",
    "# Affichage des métriques\n",
    "print(\"\\n📊 Évaluation terminée avec les paramètres par défaut :\")\n",
    "for k, v in metrics.items():\n",
    "    print(f\"{k}: {v:.4f}\")\n"
   ]
  },
  {
   "cell_type": "code",
   "execution_count": null,
   "id": "c1ece25e",
   "metadata": {
    "execution": {
     "execution_failed": "2025-05-24T20:17:30.190Z"
    },
    "id": "PYL35muC3Y2b",
    "papermill": {
     "duration": null,
     "end_time": null,
     "exception": null,
     "start_time": null,
     "status": "pending"
    },
    "tags": []
   },
   "outputs": [],
   "source": [
    "import os\n",
    "import torch\n",
    "from ultralytics import YOLO\n",
    "from tqdm import tqdm\n",
    "\n",
    "# Définir le seuil de confiance à 0\n",
    "CONFIDENCE_THRESHOLD = 0.25  \n",
    "\n",
    "# Charger le modèle YOLO entraîné\n",
    "model_path = 'runs/detect/train/weights/best.pt'\n",
    "\n",
    "model = YOLO(model_path)\n",
    "\n",
    "# Chemin vers le dossier contenant les images de test\n",
    "test_dir_path = TEST_IMAGES_DIR  # Assurez-vous que cette variable est bien définie\n",
    "\n",
    "# Récupérer la liste des fichiers d'image dans le répertoire de test\n",
    "image_files = os.listdir(test_dir_path)\n",
    "\n",
    "# Liste pour stocker les résultats\n",
    "all_data = []\n",
    "\n",
    "# Boucle sur chaque image du répertoire\n",
    "for image_file in tqdm(image_files):\n",
    "    img_path = os.path.join(test_dir_path, image_file)\n",
    "\n",
    "    # Effectuer l'inférence avec conf=0.0\n",
    "    results = model(img_path, conf=0.25, iou=0.7, augment=True, imgsz=1024)\n",
    "\n",
    "    # Extraire les résultats\n",
    "    boxes = results[0].boxes.xyxy.tolist() if results[0].boxes else []\n",
    "    classes = results[0].boxes.cls.tolist() if results[0].boxes else []\n",
    "    confidences = results[0].boxes.conf.tolist() if results[0].boxes else []\n",
    "    names = results[0].names\n",
    "\n",
    "    if boxes:  \n",
    "        for box, cls, conf in zip(boxes, classes, confidences):\n",
    "            if conf >= CONFIDENCE_THRESHOLD:  # Appliquer le seuil de confiance\n",
    "                x1, y1, x2, y2 = box\n",
    "                detected_class = names[int(cls)]  \n",
    "\n",
    "                all_data.append({\n",
    "                    'Image_ID': str(image_file),\n",
    "                    'class': detected_class,\n",
    "                    'confidence': conf,\n",
    "                    'ymin': y1,\n",
    "                    'xmin': x1,\n",
    "                    'ymax': y2,\n",
    "                    'xmax': x2\n",
    "                })\n",
    "    else:  \n",
    "        all_data.append({\n",
    "            'Image_ID': str(image_file),\n",
    "            'class': \"None\",\n",
    "            'confidence': None,\n",
    "            'ymin': None,\n",
    "            'xmin': None,\n",
    "            'ymax': None,\n",
    "            'xmax': None\n",
    "        })\n",
    "\n",
    "# Afficher un aperçu des résultats\n",
    "print(all_data[:5])  # Affiche les 5 premières prédictions pour vérifier\n"
   ]
  },
  {
   "cell_type": "code",
   "execution_count": null,
   "id": "8745ad42",
   "metadata": {
    "execution": {
     "execution_failed": "2025-05-24T20:17:30.192Z"
    },
    "id": "zIQk6iCt3he7",
    "papermill": {
     "duration": null,
     "end_time": null,
     "exception": null,
     "start_time": null,
     "status": "pending"
    },
    "tags": []
   },
   "outputs": [],
   "source": [
    "# Convert the list to a DataFrame for all images\n",
    "sub = pd.DataFrame(all_data)"
   ]
  },
  {
   "cell_type": "code",
   "execution_count": null,
   "id": "3027a95d",
   "metadata": {
    "execution": {
     "execution_failed": "2025-05-24T20:17:30.193Z"
    },
    "id": "wBoJ2oeb3iI4",
    "papermill": {
     "duration": null,
     "end_time": null,
     "exception": null,
     "start_time": null,
     "status": "pending"
    },
    "tags": []
   },
   "outputs": [],
   "source": [
    "sub.head()"
   ]
  },
  {
   "cell_type": "code",
   "execution_count": null,
   "id": "0034a557",
   "metadata": {
    "execution": {
     "execution_failed": "2025-05-24T20:17:30.193Z"
    },
    "id": "qXaLxL-d3l9C",
    "papermill": {
     "duration": null,
     "end_time": null,
     "exception": null,
     "start_time": null,
     "status": "pending"
    },
    "tags": []
   },
   "outputs": [],
   "source": [
    "sub['class'].value_counts()"
   ]
  },
  {
   "cell_type": "code",
   "execution_count": null,
   "id": "04bbfea1",
   "metadata": {
    "execution": {
     "execution_failed": "2025-05-24T20:17:30.193Z"
    },
    "id": "kfhteIaU4Qh4",
    "papermill": {
     "duration": null,
     "end_time": null,
     "exception": null,
     "start_time": null,
     "status": "pending"
    },
    "tags": []
   },
   "outputs": [],
   "source": [
    "# Create submission file to be uploaded to Zindi for scoring\n",
    "sub.to_csv(\"/kaggle/working/Subtest.csv\", index=False)\n"
   ]
  },
  {
   "cell_type": "code",
   "execution_count": null,
   "id": "8b2f6b3c",
   "metadata": {
    "execution": {
     "execution_failed": "2025-05-24T20:17:30.193Z"
    },
    "id": "j8LPpSZq4SOH",
    "papermill": {
     "duration": null,
     "end_time": null,
     "exception": null,
     "start_time": null,
     "status": "pending"
    },
    "tags": []
   },
   "outputs": [],
   "source": [
    "train['Image_ID'].nunique(), test['Image_ID'].nunique()"
   ]
  },
  {
   "cell_type": "code",
   "execution_count": null,
   "id": "29b24bfd",
   "metadata": {
    "execution": {
     "execution_failed": "2025-05-24T20:17:30.194Z"
    },
    "id": "xNEW2Rke4T5y",
    "papermill": {
     "duration": null,
     "end_time": null,
     "exception": null,
     "start_time": null,
     "status": "pending"
    },
    "tags": []
   },
   "outputs": [],
   "source": [
    "#train_df['Image_ID'].nunique() + val_df['Image_ID'].nunique() + test['Image_ID'].nunique()"
   ]
  },
  {
   "cell_type": "code",
   "execution_count": null,
   "id": "771e5a68",
   "metadata": {
    "execution": {
     "execution_failed": "2025-05-24T20:17:30.194Z"
    },
    "id": "I5XGtwnK4TuV",
    "papermill": {
     "duration": null,
     "end_time": null,
     "exception": null,
     "start_time": null,
     "status": "pending"
    },
    "tags": []
   },
   "outputs": [],
   "source": [
    "sub = pd.read_csv(\"/kaggle/working/Subtest.csv\")\n",
    "sub.head()\n"
   ]
  },
  {
   "cell_type": "code",
   "execution_count": null,
   "id": "0c7e7769",
   "metadata": {
    "execution": {
     "execution_failed": "2025-05-24T20:17:30.194Z"
    },
    "id": "9BJRv5x04TU4",
    "papermill": {
     "duration": null,
     "end_time": null,
     "exception": null,
     "start_time": null,
     "status": "pending"
    },
    "tags": []
   },
   "outputs": [],
   "source": [
    "import os\n",
    "import numpy as np\n",
    "import matplotlib.pyplot as plt\n",
    "from PIL import Image\n",
    "\n",
    "# Vérifier si sub existe et contient des données\n",
    "if 'sub' in locals() and not sub.empty:\n",
    "    # Créer un dataframe des images sans détection\n",
    "    no_detection = sub[~sub['class'].isin(train_df['class'].unique())]\n",
    "\n",
    "    if not no_detection.empty:\n",
    "        print(f\"Nombre d'images uniques sans détection : {no_detection['Image_ID'].nunique()}\")\n",
    "\n",
    "        # Sélectionner une image aléatoire si disponible\n",
    "        if not no_detection.empty:\n",
    "            rnd_no_detect_image = no_detection.sample(1)['Image_ID'].values[0]\n",
    "            print(f\"Image sélectionnée aléatoirement sans détection : {rnd_no_detect_image}\")\n",
    "\n",
    "            # Afficher cette image\n",
    "            image_path = os.path.join(TEST_IMAGES_DIR, rnd_no_detect_image)\n",
    "            image = np.array(Image.open(image_path))\n",
    "            plt.figure(figsize=(6, 6))\n",
    "            plt.imshow(image)\n",
    "            plt.axis(\"off\")\n",
    "            plt.show()\n",
    "        \n"
   ]
  },
  {
   "cell_type": "code",
   "execution_count": null,
   "id": "0a0998fa",
   "metadata": {
    "execution": {
     "execution_failed": "2025-05-24T20:17:30.195Z"
    },
    "id": "2PktEzHA4gAE",
    "papermill": {
     "duration": null,
     "end_time": null,
     "exception": null,
     "start_time": null,
     "status": "pending"
    },
    "tags": []
   },
   "outputs": [],
   "source": [
    "# Afficher toutes les images sans détection\n",
    "for image_name in no_detection['Image_ID'].unique():\n",
    "    image_path = os.path.join(TEST_IMAGES_DIR, image_name)\n",
    "    plt.figure(figsize=(6, 6))\n",
    "    plt.title(image_name)\n",
    "    image = np.array(Image.open(image_path))\n",
    "    plt.imshow(image)\n",
    "    plt.axis(\"off\")\n",
    "    plt.show()\n",
    "    print('--------------------------------------\\n')\n",
    "else:\n",
    "    print(\"Aucune image sans détection.\")\n"
   ]
  },
  {
   "cell_type": "code",
   "execution_count": null,
   "id": "4e04041f",
   "metadata": {
    "execution": {
     "execution_failed": "2025-05-24T20:17:30.195Z"
    },
    "id": "y3I_LDAC4gxa",
    "papermill": {
     "duration": null,
     "end_time": null,
     "exception": null,
     "start_time": null,
     "status": "pending"
    },
    "tags": []
   },
   "outputs": [],
   "source": [
    "!pip install torchmetrics opencv-python\n",
    "    "
   ]
  },
  {
   "cell_type": "code",
   "execution_count": null,
   "id": "c2f9cf43",
   "metadata": {
    "execution": {
     "execution_failed": "2025-05-24T20:17:30.195Z"
    },
    "id": "yXumC9_Q4mP7",
    "papermill": {
     "duration": null,
     "end_time": null,
     "exception": null,
     "start_time": null,
     "status": "pending"
    },
    "tags": []
   },
   "outputs": [],
   "source": [
    "import os\n",
    "import cv2\n",
    "import pandas as pd\n",
    "import torch\n",
    "from torchmetrics.detection.mean_ap import MeanAveragePrecision\n",
    "\n",
    "# === CONFIGURATION ===\n",
    "submission_file = sub\n",
    "labels_folder = \"labels\"\n",
    "images_folder = \"images\"  # Utilisé pour lire la taille des images\n",
    "\n",
    "# === UTILITAIRES ===\n",
    "def yolo_to_xyxy(cls, x, y, w, h, W, H):\n",
    "    cx = x * W\n",
    "    cy = y * H\n",
    "    bw = w * W\n",
    "    bh = h * H\n",
    "    xmin = cx - bw / 2\n",
    "    ymin = cy - bh / 2\n",
    "    xmax = cx + bw / 2\n",
    "    ymax = cy + bh / 2\n",
    "    return [xmin, ymin, xmax, ymax, cls]\n",
    "\n",
    "def get_image_shape(image_path):\n",
    "    img = cv2.imread(image_path)\n",
    "    return img.shape[1], img.shape[0]  # width, height\n",
    "\n",
    "# === CHARGER SUBMISSION ===\n",
    "df = pd.read_csv(submission_file)\n",
    "\n",
    "# Regrouper les prédictions par image\n",
    "grouped_preds = df.groupby(\"Image_ID\")\n",
    "\n",
    "# === PRÉPARER LES PREDICTIONS ET GT POUR TORCHMETRICS ===\n",
    "predictions = []\n",
    "ground_truths = []\n",
    "\n",
    "for image_id, group in grouped_preds:\n",
    "    image_path = os.path.join(images_folder, image_id)\n",
    "    label_path = os.path.join(labels_folder, image_id.replace(\".jpg\", \".txt\"))\n",
    "\n",
    "    # Lire résolution image\n",
    "    if not os.path.exists(image_path):\n",
    "        continue\n",
    "    W, H = get_image_shape(image_path)\n",
    "\n",
    "    # === GT ===\n",
    "    gt_boxes = []\n",
    "    gt_labels = []\n",
    "    if os.path.exists(label_path):\n",
    "        with open(label_path, \"r\") as f:\n",
    "            for line in f:\n",
    "                parts = list(map(float, line.strip().split()))\n",
    "                cls = int(parts[0])\n",
    "                bbox = yolo_to_xyxy(cls, *parts[1:], W, H)\n",
    "                gt_boxes.append(bbox[:4])\n",
    "                gt_labels.append(cls)\n",
    "\n",
    "    ground_truths.append({\n",
    "        \"boxes\": torch.tensor(gt_boxes),\n",
    "        \"labels\": torch.tensor(gt_labels)\n",
    "    })\n",
    "\n",
    "    # === PREDICTIONS ===\n",
    "    pred_boxes = []\n",
    "    pred_scores = []\n",
    "    pred_labels = []\n",
    "\n",
    "    for _, row in group.iterrows():\n",
    "        if pd.isna(row['confidence']):\n",
    "            continue\n",
    "        try:\n",
    "            cls_id = int(row['class'])  # Utilisation directe\n",
    "        except:\n",
    "            continue  # Skip si 'class' est invalide\n",
    "\n",
    "        box = [row['xmin'], row['ymin'], row['xmax'], row['ymax']]\n",
    "        pred_boxes.append(box)\n",
    "        pred_scores.append(row['confidence'])\n",
    "        pred_labels.append(cls_id)\n",
    "\n",
    "    predictions.append({\n",
    "        \"boxes\": torch.tensor(pred_boxes),\n",
    "        \"scores\": torch.tensor(pred_scores),\n",
    "        \"labels\": torch.tensor(pred_labels)\n",
    "    })\n",
    "\n",
    "# === ÉVALUATION ===\n",
    "metric = MeanAveragePrecision(iou_type=\"bbox\", iou_thresholds=None)\n",
    "metric.update(predictions, ground_truths)\n",
    "results = metric.compute()\n",
    "\n",
    "# === AFFICHAGE ===\n",
    "print(\"\\n📊 Évaluation des métriques :\")\n",
    "print(f\"mAP@0.50       : {results['map_50']:.4f}\")\n",
    "print(f\"mAP@0.50:0.95  : {results['map']:.4f}\")\n",
    "print(f\"Recall         : {results['recall']:.4f}\")\n",
    "print(f\"Precision      : {results['precision']:.4f}\")\n"
   ]
  },
  {
   "cell_type": "code",
   "execution_count": null,
   "id": "4de5d582",
   "metadata": {
    "id": "XqNLRB754mCM",
    "papermill": {
     "duration": null,
     "end_time": null,
     "exception": null,
     "start_time": null,
     "status": "pending"
    },
    "tags": []
   },
   "outputs": [],
   "source": []
  },
  {
   "cell_type": "code",
   "execution_count": null,
   "id": "f1f8c3a5",
   "metadata": {
    "id": "-XFZZToknDoL",
    "papermill": {
     "duration": null,
     "end_time": null,
     "exception": null,
     "start_time": null,
     "status": "pending"
    },
    "tags": []
   },
   "outputs": [],
   "source": []
  },
  {
   "cell_type": "code",
   "execution_count": null,
   "id": "c940a8a0",
   "metadata": {
    "execution": {
     "execution_failed": "2025-05-24T20:17:30.195Z"
    },
    "papermill": {
     "duration": null,
     "end_time": null,
     "exception": null,
     "start_time": null,
     "status": "pending"
    },
    "tags": []
   },
   "outputs": [],
   "source": [
    "print(\"end\")\n"
   ]
  },
  {
   "cell_type": "code",
   "execution_count": null,
   "id": "894a3a05",
   "metadata": {
    "execution": {
     "execution_failed": "2025-05-24T20:17:30.196Z"
    },
    "papermill": {
     "duration": null,
     "end_time": null,
     "exception": null,
     "start_time": null,
     "status": "pending"
    },
    "tags": []
   },
   "outputs": [],
   "source": [
    "import torch\n",
    "print(torch.cuda.device_count())  # Si ça affiche \"1\", alors Kaggle ne permet pas d'utiliser les 2 GPU.\n"
   ]
  },
  {
   "cell_type": "code",
   "execution_count": null,
   "id": "27d1b51c",
   "metadata": {
    "papermill": {
     "duration": null,
     "end_time": null,
     "exception": null,
     "start_time": null,
     "status": "pending"
    },
    "tags": []
   },
   "outputs": [],
   "source": []
  }
 ],
 "metadata": {
  "accelerator": "TPU",
  "colab": {
   "gpuType": "V28",
   "provenance": []
  },
  "kaggle": {
   "accelerator": "nvidiaTeslaT4",
   "dataSources": [
    {
     "datasetId": 7400476,
     "sourceId": 11786559,
     "sourceType": "datasetVersion"
    },
    {
     "datasetId": 7501021,
     "sourceId": 11931046,
     "sourceType": "datasetVersion"
    }
   ],
   "dockerImageVersionId": 31011,
   "isGpuEnabled": true,
   "isInternetEnabled": true,
   "language": "python",
   "sourceType": "notebook"
  },
  "kernelspec": {
   "display_name": "Python 3",
   "language": "python",
   "name": "python3"
  },
  "language_info": {
   "codemirror_mode": {
    "name": "ipython",
    "version": 3
   },
   "file_extension": ".py",
   "mimetype": "text/x-python",
   "name": "python",
   "nbconvert_exporter": "python",
   "pygments_lexer": "ipython3",
   "version": "3.11.11"
  },
  "papermill": {
   "default_parameters": {},
   "duration": 11900.189722,
   "end_time": "2025-05-25T04:08:40.826595",
   "environment_variables": {},
   "exception": true,
   "input_path": "__notebook__.ipynb",
   "output_path": "__notebook__.ipynb",
   "parameters": {},
   "start_time": "2025-05-25T00:50:20.636873",
   "version": "2.6.0"
  }
 },
 "nbformat": 4,
 "nbformat_minor": 5
}
